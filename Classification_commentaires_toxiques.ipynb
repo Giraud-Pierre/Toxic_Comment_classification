{
  "nbformat": 4,
  "nbformat_minor": 0,
  "metadata": {
    "colab": {
      "provenance": [],
      "include_colab_link": true
    },
    "kernelspec": {
      "name": "python3",
      "display_name": "Python 3"
    },
    "language_info": {
      "name": "python"
    }
  },
  "cells": [
    {
      "cell_type": "markdown",
      "metadata": {
        "id": "view-in-github",
        "colab_type": "text"
      },
      "source": [
        "<a href=\"https://colab.research.google.com/github/Giraud-Pierre/Toxic_Comment_classification/blob/randomForest/Classification_commentaires_toxiques.ipynb\" target=\"_parent\"><img src=\"https://colab.research.google.com/assets/colab-badge.svg\" alt=\"Open In Colab\"/></a>"
      ]
    },
    {
      "cell_type": "markdown",
      "source": [
        "# **Importation des packages**"
      ],
      "metadata": {
        "id": "_lyJzHuKRNWX"
      }
    },
    {
      "cell_type": "code",
      "source": [
        "from google.colab import drive\n",
        "drive.mount('/content/drive', force_remount=True)"
      ],
      "metadata": {
        "colab": {
          "base_uri": "https://localhost:8080/"
        },
        "id": "4FktfCVaRVrs",
        "outputId": "face5894-fa2b-4cd5-e1d7-56b731e25453"
      },
      "execution_count": 3,
      "outputs": [
        {
          "output_type": "stream",
          "name": "stdout",
          "text": [
            "Mounted at /content/drive\n"
          ]
        }
      ]
    },
    {
      "cell_type": "code",
      "execution_count": 4,
      "metadata": {
        "id": "MUj96QiIQsJ_",
        "colab": {
          "base_uri": "https://localhost:8080/"
        },
        "outputId": "3ad46903-7416-4874-fd3b-06cc443547d7"
      },
      "outputs": [
        {
          "output_type": "stream",
          "name": "stdout",
          "text": [
            "random_tweets imported\n"
          ]
        }
      ],
      "source": [
        "from time import time\n",
        "import numpy as np\n",
        "import pandas as pd\n",
        "import tensorflow as tf\n",
        "\n",
        "# Import Regex to clean up tweets\n",
        "import re\n",
        "\n",
        "import nltk, string\n",
        "from nltk.corpus import stopwords\n",
        "from nltk.tokenize import TweetTokenizer\n",
        "\n",
        "# Get Reviews\n",
        "import requests\n",
        "import json\n",
        "\n",
        "# Get Tweets\n",
        "import httplib2\n",
        "import requests\n",
        "import urllib3\n",
        "from drive.MyDrive.NLP_4A.RNN_sentiment_dataset.random_tweets import *\n",
        "\n",
        "# TF IDF Imports\n",
        "\n",
        "\n",
        "from sklearn.feature_extraction.text import TfidfVectorizer \n",
        "from sklearn.model_selection import train_test_split  \n",
        "from scipy.sparse import csc_matrix\n",
        "from sklearn.ensemble import RandomForestClassifier\n",
        "from sklearn.metrics import classification_report, confusion_matrix, accuracy_score\n",
        "from joblib import dump, load\n",
        "\n",
        "# RNN & LSTM Imports\n",
        "\n",
        "from tensorflow.keras.preprocessing.sequence import pad_sequences\n",
        "from tensorflow.keras.layers import Embedding, LSTM, Dense, Dropout, Bidirectional\n",
        "from tensorflow.keras.preprocessing.text import Tokenizer\n",
        "from tensorflow.keras.models import Sequential\n",
        "from tensorflow.keras.optimizers import Adam\n",
        "from tensorflow.keras import regularizers\n",
        "\n",
        "from tensorflow.keras.preprocessing.sequence import pad_sequences\n",
        "import random"
      ]
    },
    {
      "cell_type": "markdown",
      "source": [
        "# **Importation des données**"
      ],
      "metadata": {
        "id": "xZLpUMItRWc0"
      }
    },
    {
      "cell_type": "markdown",
      "source": [
        "Ajoutez un raccourci de ce dossier à votre google drive :\n",
        "\n",
        "https://drive.google.com/drive/folders/1mx-CAzT10YKrmxHfYDP_1Oef7PVGUr7s?usp=sharing"
      ],
      "metadata": {
        "id": "cbE3MzVKRaV2"
      }
    },
    {
      "cell_type": "code",
      "source": [
        "training_data = pd.read_csv('/content/drive/MyDrive/NLP_4A/Projet/data_classification_commentaires_toxiques/train.csv')\n",
        "test_comment = pd.read_csv('/content/drive/MyDrive/NLP_4A/Projet/data_classification_commentaires_toxiques/test.csv')\n",
        "test_label = pd.read_csv('/content/drive/MyDrive/NLP_4A/Projet/data_classification_commentaires_toxiques/test_labels.csv')\n",
        "training_data.head()"
      ],
      "metadata": {
        "colab": {
          "base_uri": "https://localhost:8080/",
          "height": 206
        },
        "id": "qky64Lq8Rocy",
        "outputId": "cef83da4-25d4-4744-deae-4c9afc119604"
      },
      "execution_count": 31,
      "outputs": [
        {
          "output_type": "execute_result",
          "data": {
            "text/plain": [
              "                 id                                       comment_text  toxic  \\\n",
              "0  0000997932d777bf  Explanation\\nWhy the edits made under my usern...      0   \n",
              "1  000103f0d9cfb60f  D'aww! He matches this background colour I'm s...      0   \n",
              "2  000113f07ec002fd  Hey man, I'm really not trying to edit war. It...      0   \n",
              "3  0001b41b1c6bb37e  \"\\nMore\\nI can't make any real suggestions on ...      0   \n",
              "4  0001d958c54c6e35  You, sir, are my hero. Any chance you remember...      0   \n",
              "\n",
              "   severe_toxic  obscene  threat  insult  identity_hate  \n",
              "0             0        0       0       0              0  \n",
              "1             0        0       0       0              0  \n",
              "2             0        0       0       0              0  \n",
              "3             0        0       0       0              0  \n",
              "4             0        0       0       0              0  "
            ],
            "text/html": [
              "\n",
              "  <div id=\"df-eb37cc65-aeb5-471c-a7f5-4d341979075f\">\n",
              "    <div class=\"colab-df-container\">\n",
              "      <div>\n",
              "<style scoped>\n",
              "    .dataframe tbody tr th:only-of-type {\n",
              "        vertical-align: middle;\n",
              "    }\n",
              "\n",
              "    .dataframe tbody tr th {\n",
              "        vertical-align: top;\n",
              "    }\n",
              "\n",
              "    .dataframe thead th {\n",
              "        text-align: right;\n",
              "    }\n",
              "</style>\n",
              "<table border=\"1\" class=\"dataframe\">\n",
              "  <thead>\n",
              "    <tr style=\"text-align: right;\">\n",
              "      <th></th>\n",
              "      <th>id</th>\n",
              "      <th>comment_text</th>\n",
              "      <th>toxic</th>\n",
              "      <th>severe_toxic</th>\n",
              "      <th>obscene</th>\n",
              "      <th>threat</th>\n",
              "      <th>insult</th>\n",
              "      <th>identity_hate</th>\n",
              "    </tr>\n",
              "  </thead>\n",
              "  <tbody>\n",
              "    <tr>\n",
              "      <th>0</th>\n",
              "      <td>0000997932d777bf</td>\n",
              "      <td>Explanation\\nWhy the edits made under my usern...</td>\n",
              "      <td>0</td>\n",
              "      <td>0</td>\n",
              "      <td>0</td>\n",
              "      <td>0</td>\n",
              "      <td>0</td>\n",
              "      <td>0</td>\n",
              "    </tr>\n",
              "    <tr>\n",
              "      <th>1</th>\n",
              "      <td>000103f0d9cfb60f</td>\n",
              "      <td>D'aww! He matches this background colour I'm s...</td>\n",
              "      <td>0</td>\n",
              "      <td>0</td>\n",
              "      <td>0</td>\n",
              "      <td>0</td>\n",
              "      <td>0</td>\n",
              "      <td>0</td>\n",
              "    </tr>\n",
              "    <tr>\n",
              "      <th>2</th>\n",
              "      <td>000113f07ec002fd</td>\n",
              "      <td>Hey man, I'm really not trying to edit war. It...</td>\n",
              "      <td>0</td>\n",
              "      <td>0</td>\n",
              "      <td>0</td>\n",
              "      <td>0</td>\n",
              "      <td>0</td>\n",
              "      <td>0</td>\n",
              "    </tr>\n",
              "    <tr>\n",
              "      <th>3</th>\n",
              "      <td>0001b41b1c6bb37e</td>\n",
              "      <td>\"\\nMore\\nI can't make any real suggestions on ...</td>\n",
              "      <td>0</td>\n",
              "      <td>0</td>\n",
              "      <td>0</td>\n",
              "      <td>0</td>\n",
              "      <td>0</td>\n",
              "      <td>0</td>\n",
              "    </tr>\n",
              "    <tr>\n",
              "      <th>4</th>\n",
              "      <td>0001d958c54c6e35</td>\n",
              "      <td>You, sir, are my hero. Any chance you remember...</td>\n",
              "      <td>0</td>\n",
              "      <td>0</td>\n",
              "      <td>0</td>\n",
              "      <td>0</td>\n",
              "      <td>0</td>\n",
              "      <td>0</td>\n",
              "    </tr>\n",
              "  </tbody>\n",
              "</table>\n",
              "</div>\n",
              "      <button class=\"colab-df-convert\" onclick=\"convertToInteractive('df-eb37cc65-aeb5-471c-a7f5-4d341979075f')\"\n",
              "              title=\"Convert this dataframe to an interactive table.\"\n",
              "              style=\"display:none;\">\n",
              "        \n",
              "  <svg xmlns=\"http://www.w3.org/2000/svg\" height=\"24px\"viewBox=\"0 0 24 24\"\n",
              "       width=\"24px\">\n",
              "    <path d=\"M0 0h24v24H0V0z\" fill=\"none\"/>\n",
              "    <path d=\"M18.56 5.44l.94 2.06.94-2.06 2.06-.94-2.06-.94-.94-2.06-.94 2.06-2.06.94zm-11 1L8.5 8.5l.94-2.06 2.06-.94-2.06-.94L8.5 2.5l-.94 2.06-2.06.94zm10 10l.94 2.06.94-2.06 2.06-.94-2.06-.94-.94-2.06-.94 2.06-2.06.94z\"/><path d=\"M17.41 7.96l-1.37-1.37c-.4-.4-.92-.59-1.43-.59-.52 0-1.04.2-1.43.59L10.3 9.45l-7.72 7.72c-.78.78-.78 2.05 0 2.83L4 21.41c.39.39.9.59 1.41.59.51 0 1.02-.2 1.41-.59l7.78-7.78 2.81-2.81c.8-.78.8-2.07 0-2.86zM5.41 20L4 18.59l7.72-7.72 1.47 1.35L5.41 20z\"/>\n",
              "  </svg>\n",
              "      </button>\n",
              "      \n",
              "  <style>\n",
              "    .colab-df-container {\n",
              "      display:flex;\n",
              "      flex-wrap:wrap;\n",
              "      gap: 12px;\n",
              "    }\n",
              "\n",
              "    .colab-df-convert {\n",
              "      background-color: #E8F0FE;\n",
              "      border: none;\n",
              "      border-radius: 50%;\n",
              "      cursor: pointer;\n",
              "      display: none;\n",
              "      fill: #1967D2;\n",
              "      height: 32px;\n",
              "      padding: 0 0 0 0;\n",
              "      width: 32px;\n",
              "    }\n",
              "\n",
              "    .colab-df-convert:hover {\n",
              "      background-color: #E2EBFA;\n",
              "      box-shadow: 0px 1px 2px rgba(60, 64, 67, 0.3), 0px 1px 3px 1px rgba(60, 64, 67, 0.15);\n",
              "      fill: #174EA6;\n",
              "    }\n",
              "\n",
              "    [theme=dark] .colab-df-convert {\n",
              "      background-color: #3B4455;\n",
              "      fill: #D2E3FC;\n",
              "    }\n",
              "\n",
              "    [theme=dark] .colab-df-convert:hover {\n",
              "      background-color: #434B5C;\n",
              "      box-shadow: 0px 1px 3px 1px rgba(0, 0, 0, 0.15);\n",
              "      filter: drop-shadow(0px 1px 2px rgba(0, 0, 0, 0.3));\n",
              "      fill: #FFFFFF;\n",
              "    }\n",
              "  </style>\n",
              "\n",
              "      <script>\n",
              "        const buttonEl =\n",
              "          document.querySelector('#df-eb37cc65-aeb5-471c-a7f5-4d341979075f button.colab-df-convert');\n",
              "        buttonEl.style.display =\n",
              "          google.colab.kernel.accessAllowed ? 'block' : 'none';\n",
              "\n",
              "        async function convertToInteractive(key) {\n",
              "          const element = document.querySelector('#df-eb37cc65-aeb5-471c-a7f5-4d341979075f');\n",
              "          const dataTable =\n",
              "            await google.colab.kernel.invokeFunction('convertToInteractive',\n",
              "                                                     [key], {});\n",
              "          if (!dataTable) return;\n",
              "\n",
              "          const docLinkHtml = 'Like what you see? Visit the ' +\n",
              "            '<a target=\"_blank\" href=https://colab.research.google.com/notebooks/data_table.ipynb>data table notebook</a>'\n",
              "            + ' to learn more about interactive tables.';\n",
              "          element.innerHTML = '';\n",
              "          dataTable['output_type'] = 'display_data';\n",
              "          await google.colab.output.renderOutput(dataTable, element);\n",
              "          const docLink = document.createElement('div');\n",
              "          docLink.innerHTML = docLinkHtml;\n",
              "          element.appendChild(docLink);\n",
              "        }\n",
              "      </script>\n",
              "    </div>\n",
              "  </div>\n",
              "  "
            ]
          },
          "metadata": {},
          "execution_count": 31
        }
      ]
    },
    {
      "cell_type": "markdown",
      "source": [
        "On supprime la colonne id qui est inutile dans cette situation et on récupère les noms des différentes classes."
      ],
      "metadata": {
        "id": "-QGSCEFyL1JE"
      }
    },
    {
      "cell_type": "code",
      "source": [
        "training_data = training_data.drop(['id'], axis = 1)\n",
        "test_data = test_comment.drop(['id'], axis = 1)\n",
        "test_label = test_label.drop(['id'], axis = 1)"
      ],
      "metadata": {
        "id": "5sK7cGIJLusI"
      },
      "execution_count": 32,
      "outputs": []
    },
    {
      "cell_type": "markdown",
      "source": [
        "On joint les commentaires et les libellés des données test"
      ],
      "metadata": {
        "id": "A6g_bbW4lUoq"
      }
    },
    {
      "cell_type": "code",
      "source": [
        "labels = training_data.drop(['comment_text'],axis = 1).columns\n",
        "labels"
      ],
      "metadata": {
        "colab": {
          "base_uri": "https://localhost:8080/"
        },
        "id": "kM2msaUfM7hD",
        "outputId": "75b16b5a-0a9e-477c-f253-5c52cb51d317"
      },
      "execution_count": 33,
      "outputs": [
        {
          "output_type": "execute_result",
          "data": {
            "text/plain": [
              "Index(['toxic', 'severe_toxic', 'obscene', 'threat', 'insult',\n",
              "       'identity_hate'],\n",
              "      dtype='object')"
            ]
          },
          "metadata": {},
          "execution_count": 33
        }
      ]
    },
    {
      "cell_type": "code",
      "source": [
        "for label in labels:\n",
        "  test_data = test_data.join(test_label[label])"
      ],
      "metadata": {
        "id": "Ncm9OhSck_va"
      },
      "execution_count": 34,
      "outputs": []
    },
    {
      "cell_type": "markdown",
      "source": [
        "Certaine données du test ont été exclue par l'étude et sont signalé par la valeur -1 dans tous leur libellés. On va donc les retirer des données test."
      ],
      "metadata": {
        "id": "P1VXHwNPlwK_"
      }
    },
    {
      "cell_type": "code",
      "source": [
        "test_data = pd.DataFrame(test_data[test_data[labels[0]]!=-1])\n",
        "test_data.head()"
      ],
      "metadata": {
        "id": "8qS3Vizplwsu",
        "outputId": "cf05cb04-c846-4aad-8993-ddc41828e685",
        "colab": {
          "base_uri": "https://localhost:8080/",
          "height": 206
        }
      },
      "execution_count": 35,
      "outputs": [
        {
          "output_type": "execute_result",
          "data": {
            "text/plain": [
              "                                         comment_text  toxic  severe_toxic  \\\n",
              "5   Thank you for understanding. I think very high...      0             0   \n",
              "7                    :Dear god this site is horrible.      0             0   \n",
              "11  \"::: Somebody will invariably try to add Relig...      0             0   \n",
              "13  \" \\n\\n It says it right there that it IS a typ...      0             0   \n",
              "14  \" \\n\\n == Before adding a new product to the l...      0             0   \n",
              "\n",
              "    obscene  threat  insult  identity_hate  \n",
              "5         0       0       0              0  \n",
              "7         0       0       0              0  \n",
              "11        0       0       0              0  \n",
              "13        0       0       0              0  \n",
              "14        0       0       0              0  "
            ],
            "text/html": [
              "\n",
              "  <div id=\"df-ea46c8e4-4ec1-446d-aa47-38f9f18bb1ee\">\n",
              "    <div class=\"colab-df-container\">\n",
              "      <div>\n",
              "<style scoped>\n",
              "    .dataframe tbody tr th:only-of-type {\n",
              "        vertical-align: middle;\n",
              "    }\n",
              "\n",
              "    .dataframe tbody tr th {\n",
              "        vertical-align: top;\n",
              "    }\n",
              "\n",
              "    .dataframe thead th {\n",
              "        text-align: right;\n",
              "    }\n",
              "</style>\n",
              "<table border=\"1\" class=\"dataframe\">\n",
              "  <thead>\n",
              "    <tr style=\"text-align: right;\">\n",
              "      <th></th>\n",
              "      <th>comment_text</th>\n",
              "      <th>toxic</th>\n",
              "      <th>severe_toxic</th>\n",
              "      <th>obscene</th>\n",
              "      <th>threat</th>\n",
              "      <th>insult</th>\n",
              "      <th>identity_hate</th>\n",
              "    </tr>\n",
              "  </thead>\n",
              "  <tbody>\n",
              "    <tr>\n",
              "      <th>5</th>\n",
              "      <td>Thank you for understanding. I think very high...</td>\n",
              "      <td>0</td>\n",
              "      <td>0</td>\n",
              "      <td>0</td>\n",
              "      <td>0</td>\n",
              "      <td>0</td>\n",
              "      <td>0</td>\n",
              "    </tr>\n",
              "    <tr>\n",
              "      <th>7</th>\n",
              "      <td>:Dear god this site is horrible.</td>\n",
              "      <td>0</td>\n",
              "      <td>0</td>\n",
              "      <td>0</td>\n",
              "      <td>0</td>\n",
              "      <td>0</td>\n",
              "      <td>0</td>\n",
              "    </tr>\n",
              "    <tr>\n",
              "      <th>11</th>\n",
              "      <td>\"::: Somebody will invariably try to add Relig...</td>\n",
              "      <td>0</td>\n",
              "      <td>0</td>\n",
              "      <td>0</td>\n",
              "      <td>0</td>\n",
              "      <td>0</td>\n",
              "      <td>0</td>\n",
              "    </tr>\n",
              "    <tr>\n",
              "      <th>13</th>\n",
              "      <td>\" \\n\\n It says it right there that it IS a typ...</td>\n",
              "      <td>0</td>\n",
              "      <td>0</td>\n",
              "      <td>0</td>\n",
              "      <td>0</td>\n",
              "      <td>0</td>\n",
              "      <td>0</td>\n",
              "    </tr>\n",
              "    <tr>\n",
              "      <th>14</th>\n",
              "      <td>\" \\n\\n == Before adding a new product to the l...</td>\n",
              "      <td>0</td>\n",
              "      <td>0</td>\n",
              "      <td>0</td>\n",
              "      <td>0</td>\n",
              "      <td>0</td>\n",
              "      <td>0</td>\n",
              "    </tr>\n",
              "  </tbody>\n",
              "</table>\n",
              "</div>\n",
              "      <button class=\"colab-df-convert\" onclick=\"convertToInteractive('df-ea46c8e4-4ec1-446d-aa47-38f9f18bb1ee')\"\n",
              "              title=\"Convert this dataframe to an interactive table.\"\n",
              "              style=\"display:none;\">\n",
              "        \n",
              "  <svg xmlns=\"http://www.w3.org/2000/svg\" height=\"24px\"viewBox=\"0 0 24 24\"\n",
              "       width=\"24px\">\n",
              "    <path d=\"M0 0h24v24H0V0z\" fill=\"none\"/>\n",
              "    <path d=\"M18.56 5.44l.94 2.06.94-2.06 2.06-.94-2.06-.94-.94-2.06-.94 2.06-2.06.94zm-11 1L8.5 8.5l.94-2.06 2.06-.94-2.06-.94L8.5 2.5l-.94 2.06-2.06.94zm10 10l.94 2.06.94-2.06 2.06-.94-2.06-.94-.94-2.06-.94 2.06-2.06.94z\"/><path d=\"M17.41 7.96l-1.37-1.37c-.4-.4-.92-.59-1.43-.59-.52 0-1.04.2-1.43.59L10.3 9.45l-7.72 7.72c-.78.78-.78 2.05 0 2.83L4 21.41c.39.39.9.59 1.41.59.51 0 1.02-.2 1.41-.59l7.78-7.78 2.81-2.81c.8-.78.8-2.07 0-2.86zM5.41 20L4 18.59l7.72-7.72 1.47 1.35L5.41 20z\"/>\n",
              "  </svg>\n",
              "      </button>\n",
              "      \n",
              "  <style>\n",
              "    .colab-df-container {\n",
              "      display:flex;\n",
              "      flex-wrap:wrap;\n",
              "      gap: 12px;\n",
              "    }\n",
              "\n",
              "    .colab-df-convert {\n",
              "      background-color: #E8F0FE;\n",
              "      border: none;\n",
              "      border-radius: 50%;\n",
              "      cursor: pointer;\n",
              "      display: none;\n",
              "      fill: #1967D2;\n",
              "      height: 32px;\n",
              "      padding: 0 0 0 0;\n",
              "      width: 32px;\n",
              "    }\n",
              "\n",
              "    .colab-df-convert:hover {\n",
              "      background-color: #E2EBFA;\n",
              "      box-shadow: 0px 1px 2px rgba(60, 64, 67, 0.3), 0px 1px 3px 1px rgba(60, 64, 67, 0.15);\n",
              "      fill: #174EA6;\n",
              "    }\n",
              "\n",
              "    [theme=dark] .colab-df-convert {\n",
              "      background-color: #3B4455;\n",
              "      fill: #D2E3FC;\n",
              "    }\n",
              "\n",
              "    [theme=dark] .colab-df-convert:hover {\n",
              "      background-color: #434B5C;\n",
              "      box-shadow: 0px 1px 3px 1px rgba(0, 0, 0, 0.15);\n",
              "      filter: drop-shadow(0px 1px 2px rgba(0, 0, 0, 0.3));\n",
              "      fill: #FFFFFF;\n",
              "    }\n",
              "  </style>\n",
              "\n",
              "      <script>\n",
              "        const buttonEl =\n",
              "          document.querySelector('#df-ea46c8e4-4ec1-446d-aa47-38f9f18bb1ee button.colab-df-convert');\n",
              "        buttonEl.style.display =\n",
              "          google.colab.kernel.accessAllowed ? 'block' : 'none';\n",
              "\n",
              "        async function convertToInteractive(key) {\n",
              "          const element = document.querySelector('#df-ea46c8e4-4ec1-446d-aa47-38f9f18bb1ee');\n",
              "          const dataTable =\n",
              "            await google.colab.kernel.invokeFunction('convertToInteractive',\n",
              "                                                     [key], {});\n",
              "          if (!dataTable) return;\n",
              "\n",
              "          const docLinkHtml = 'Like what you see? Visit the ' +\n",
              "            '<a target=\"_blank\" href=https://colab.research.google.com/notebooks/data_table.ipynb>data table notebook</a>'\n",
              "            + ' to learn more about interactive tables.';\n",
              "          element.innerHTML = '';\n",
              "          dataTable['output_type'] = 'display_data';\n",
              "          await google.colab.output.renderOutput(dataTable, element);\n",
              "          const docLink = document.createElement('div');\n",
              "          docLink.innerHTML = docLinkHtml;\n",
              "          element.appendChild(docLink);\n",
              "        }\n",
              "      </script>\n",
              "    </div>\n",
              "  </div>\n",
              "  "
            ]
          },
          "metadata": {},
          "execution_count": 35
        }
      ]
    },
    {
      "cell_type": "markdown",
      "source": [
        "# **Etude des jeux de données**"
      ],
      "metadata": {
        "id": "-kUWzBzISpsK"
      }
    },
    {
      "cell_type": "markdown",
      "source": [
        "## Etude des données d'entraînement"
      ],
      "metadata": {
        "id": "C2TKk5S5oBF6"
      }
    },
    {
      "cell_type": "markdown",
      "source": [
        "On calcule le nombre de commentaires dans chaque catégorie et leur proportion dans le nombre de commentaires totaux"
      ],
      "metadata": {
        "id": "4ruN0VJoWCIv"
      }
    },
    {
      "cell_type": "code",
      "source": [
        "training_comments_repartition = {'total' : len(training_data)}\n",
        "for label in labels:\n",
        "  training_comments_repartition[label] = len(training_data[training_data[label] == 1])\n",
        "training_comments_repartition"
      ],
      "metadata": {
        "colab": {
          "base_uri": "https://localhost:8080/"
        },
        "id": "r3POpoMCKiV-",
        "outputId": "a8328146-652d-4442-aab6-028be4039070"
      },
      "execution_count": 37,
      "outputs": [
        {
          "output_type": "execute_result",
          "data": {
            "text/plain": [
              "{'total': 159571,\n",
              " 'toxic': 15294,\n",
              " 'severe_toxic': 1595,\n",
              " 'obscene': 8449,\n",
              " 'threat': 478,\n",
              " 'insult': 7877,\n",
              " 'identity_hate': 1405}"
            ]
          },
          "metadata": {},
          "execution_count": 37
        }
      ]
    },
    {
      "cell_type": "code",
      "source": [
        "training_comments_proportion = {}\n",
        "for label in labels:\n",
        "  training_comments_proportion[label] = str(round(training_comments_repartition[label]*100 / training_comments_repartition['total'],2)) + \"% des commentaires totaux\"\n",
        "training_comments_proportion"
      ],
      "metadata": {
        "colab": {
          "base_uri": "https://localhost:8080/"
        },
        "id": "3LtlbnVIR8wM",
        "outputId": "bb744f84-5d59-4316-b5f1-4858e3bfbb00"
      },
      "execution_count": 38,
      "outputs": [
        {
          "output_type": "execute_result",
          "data": {
            "text/plain": [
              "{'toxic': '9.58% des commentaires totaux',\n",
              " 'severe_toxic': '1.0% des commentaires totaux',\n",
              " 'obscene': '5.29% des commentaires totaux',\n",
              " 'threat': '0.3% des commentaires totaux',\n",
              " 'insult': '4.94% des commentaires totaux',\n",
              " 'identity_hate': '0.88% des commentaires totaux'}"
            ]
          },
          "metadata": {},
          "execution_count": 38
        }
      ]
    },
    {
      "cell_type": "markdown",
      "source": [
        "On calcule le nombre de commentaires en commun entre 2 classes et leur proportion dans le nombre de commentaires d'une de ces 2 classes"
      ],
      "metadata": {
        "id": "anavu2UAWQsP"
      }
    },
    {
      "cell_type": "code",
      "source": [
        "two_classes_training_comments_repartition={}\n",
        "two_classes_training_commments_proportion={}\n",
        "for label1 in labels:\n",
        "  two_classes_training_comments_repartition[label1] =  \"\"   #Pour améliorer la lisibilité, on ajoute une ligne indiquant la catégorie dans laquelle on se trouve\n",
        "  two_classes_training_commments_proportion[label1] =  \"\"   #Identique à la ligne ci-dessus\n",
        "  for label2 in labels:\n",
        "    if(label1 != label2):\n",
        "      two_classes_training_comments_repartition[label1 + \" and \" + label2] = len(training_data[(training_data[label1] == 1) & (training_data[label2] == 1)])\n",
        "      two_classes_training_commments_proportion[label1 + \" and \" + label2] = (\n",
        "                                        str(round(two_classes_training_comments_repartition[label1 + \" and \" + label2] * 100 / training_comments_repartition[label1],2)) \n",
        "                                        + \"% des commentaires \" \n",
        "                                        + label1)\n",
        "two_classes_training_comments_repartition"
      ],
      "metadata": {
        "colab": {
          "base_uri": "https://localhost:8080/"
        },
        "id": "PxBtky96PZCT",
        "outputId": "f8506dbd-9509-4f4f-a1f6-1cc996ab50a8"
      },
      "execution_count": 39,
      "outputs": [
        {
          "output_type": "execute_result",
          "data": {
            "text/plain": [
              "{'toxic': '',\n",
              " 'toxic and severe_toxic': 1595,\n",
              " 'toxic and obscene': 7926,\n",
              " 'toxic and threat': 449,\n",
              " 'toxic and insult': 7344,\n",
              " 'toxic and identity_hate': 1302,\n",
              " 'severe_toxic': '',\n",
              " 'severe_toxic and toxic': 1595,\n",
              " 'severe_toxic and obscene': 1517,\n",
              " 'severe_toxic and threat': 112,\n",
              " 'severe_toxic and insult': 1371,\n",
              " 'severe_toxic and identity_hate': 313,\n",
              " 'obscene': '',\n",
              " 'obscene and toxic': 7926,\n",
              " 'obscene and severe_toxic': 1517,\n",
              " 'obscene and threat': 301,\n",
              " 'obscene and insult': 6155,\n",
              " 'obscene and identity_hate': 1032,\n",
              " 'threat': '',\n",
              " 'threat and toxic': 449,\n",
              " 'threat and severe_toxic': 112,\n",
              " 'threat and obscene': 301,\n",
              " 'threat and insult': 307,\n",
              " 'threat and identity_hate': 98,\n",
              " 'insult': '',\n",
              " 'insult and toxic': 7344,\n",
              " 'insult and severe_toxic': 1371,\n",
              " 'insult and obscene': 6155,\n",
              " 'insult and threat': 307,\n",
              " 'insult and identity_hate': 1160,\n",
              " 'identity_hate': '',\n",
              " 'identity_hate and toxic': 1302,\n",
              " 'identity_hate and severe_toxic': 313,\n",
              " 'identity_hate and obscene': 1032,\n",
              " 'identity_hate and threat': 98,\n",
              " 'identity_hate and insult': 1160}"
            ]
          },
          "metadata": {},
          "execution_count": 39
        }
      ]
    },
    {
      "cell_type": "code",
      "source": [
        "two_classes_training_commments_proportion"
      ],
      "metadata": {
        "colab": {
          "base_uri": "https://localhost:8080/"
        },
        "id": "GPxPC-fkVGbA",
        "outputId": "4dbec359-1dd0-42f5-b795-5f946b49d31f"
      },
      "execution_count": 40,
      "outputs": [
        {
          "output_type": "execute_result",
          "data": {
            "text/plain": [
              "{'toxic': '',\n",
              " 'toxic and severe_toxic': '10.43% des commentaires toxic',\n",
              " 'toxic and obscene': '51.82% des commentaires toxic',\n",
              " 'toxic and threat': '2.94% des commentaires toxic',\n",
              " 'toxic and insult': '48.02% des commentaires toxic',\n",
              " 'toxic and identity_hate': '8.51% des commentaires toxic',\n",
              " 'severe_toxic': '',\n",
              " 'severe_toxic and toxic': '100.0% des commentaires severe_toxic',\n",
              " 'severe_toxic and obscene': '95.11% des commentaires severe_toxic',\n",
              " 'severe_toxic and threat': '7.02% des commentaires severe_toxic',\n",
              " 'severe_toxic and insult': '85.96% des commentaires severe_toxic',\n",
              " 'severe_toxic and identity_hate': '19.62% des commentaires severe_toxic',\n",
              " 'obscene': '',\n",
              " 'obscene and toxic': '93.81% des commentaires obscene',\n",
              " 'obscene and severe_toxic': '17.95% des commentaires obscene',\n",
              " 'obscene and threat': '3.56% des commentaires obscene',\n",
              " 'obscene and insult': '72.85% des commentaires obscene',\n",
              " 'obscene and identity_hate': '12.21% des commentaires obscene',\n",
              " 'threat': '',\n",
              " 'threat and toxic': '93.93% des commentaires threat',\n",
              " 'threat and severe_toxic': '23.43% des commentaires threat',\n",
              " 'threat and obscene': '62.97% des commentaires threat',\n",
              " 'threat and insult': '64.23% des commentaires threat',\n",
              " 'threat and identity_hate': '20.5% des commentaires threat',\n",
              " 'insult': '',\n",
              " 'insult and toxic': '93.23% des commentaires insult',\n",
              " 'insult and severe_toxic': '17.41% des commentaires insult',\n",
              " 'insult and obscene': '78.14% des commentaires insult',\n",
              " 'insult and threat': '3.9% des commentaires insult',\n",
              " 'insult and identity_hate': '14.73% des commentaires insult',\n",
              " 'identity_hate': '',\n",
              " 'identity_hate and toxic': '92.67% des commentaires identity_hate',\n",
              " 'identity_hate and severe_toxic': '22.28% des commentaires identity_hate',\n",
              " 'identity_hate and obscene': '73.45% des commentaires identity_hate',\n",
              " 'identity_hate and threat': '6.98% des commentaires identity_hate',\n",
              " 'identity_hate and insult': '82.56% des commentaires identity_hate'}"
            ]
          },
          "metadata": {},
          "execution_count": 40
        }
      ]
    },
    {
      "cell_type": "markdown",
      "source": [
        "## Etude des données de test"
      ],
      "metadata": {
        "id": "BSA6HCgKoHtO"
      }
    },
    {
      "cell_type": "markdown",
      "source": [
        "On refait les mêmes calculs avec les données test pour vérifier si la répartition des données de test sont similaire à celle des données d'entraînement"
      ],
      "metadata": {
        "id": "nC1472UkoMwP"
      }
    },
    {
      "cell_type": "markdown",
      "source": [
        "On calcule le nombre de commentaires dans chaque catégorie et leur proportion dans le nombre de commentaires totaux"
      ],
      "metadata": {
        "id": "zZOESwEdonpK"
      }
    },
    {
      "cell_type": "code",
      "source": [
        "test_comments_repartition = {'total' : len(test_data)}\n",
        "for label in labels:\n",
        "  test_comments_repartition[label] = len(test_data[test_data[label] == 1])\n",
        "test_comments_repartition"
      ],
      "metadata": {
        "colab": {
          "base_uri": "https://localhost:8080/"
        },
        "outputId": "83fccb23-a411-4a75-9746-85367147a29b",
        "id": "zU-o-wHFonpP"
      },
      "execution_count": 41,
      "outputs": [
        {
          "output_type": "execute_result",
          "data": {
            "text/plain": [
              "{'total': 63978,\n",
              " 'toxic': 6090,\n",
              " 'severe_toxic': 367,\n",
              " 'obscene': 3691,\n",
              " 'threat': 211,\n",
              " 'insult': 3427,\n",
              " 'identity_hate': 712}"
            ]
          },
          "metadata": {},
          "execution_count": 41
        }
      ]
    },
    {
      "cell_type": "code",
      "source": [
        "test_comments_proportion = {}\n",
        "for label in labels:\n",
        "  test_comments_proportion[label] = str(round(test_comments_repartition[label]*100 / test_comments_repartition['total'],2)) + \"% des commentaires totaux\"\n",
        "test_comments_proportion"
      ],
      "metadata": {
        "colab": {
          "base_uri": "https://localhost:8080/"
        },
        "outputId": "8f158f59-b25b-4983-8ccb-e60cf9480cb2",
        "id": "Ew189xgSonpP"
      },
      "execution_count": 42,
      "outputs": [
        {
          "output_type": "execute_result",
          "data": {
            "text/plain": [
              "{'toxic': '9.52% des commentaires totaux',\n",
              " 'severe_toxic': '0.57% des commentaires totaux',\n",
              " 'obscene': '5.77% des commentaires totaux',\n",
              " 'threat': '0.33% des commentaires totaux',\n",
              " 'insult': '5.36% des commentaires totaux',\n",
              " 'identity_hate': '1.11% des commentaires totaux'}"
            ]
          },
          "metadata": {},
          "execution_count": 42
        }
      ]
    },
    {
      "cell_type": "markdown",
      "source": [
        "On calcule le nombre de commentaires en commun entre 2 classes et leur proportion dans le nombre de commentaires d'une de ces 2 classes"
      ],
      "metadata": {
        "id": "b50HqB_ponpP"
      }
    },
    {
      "cell_type": "code",
      "source": [
        "two_classes_test_comments_repartition={}\n",
        "two_classes_test_commments_proportion={}\n",
        "for label1 in labels:\n",
        "  two_classes_test_comments_repartition[label1] =  \"\"   #Pour améliorer la lisibilité, on ajoute une ligne indiquant la catégorie dans laquelle on se trouve\n",
        "  two_classes_test_commments_proportion[label1] =  \"\"   #Identique à la ligne ci-dessus\n",
        "  for label2 in labels:\n",
        "    if(label1 != label2):\n",
        "      two_classes_test_comments_repartition[label1 + \" and \" + label2] = len(test_data[(test_data[label1] == 1) & (test_data[label2] == 1)])\n",
        "      two_classes_test_commments_proportion[label1 + \" and \" + label2] = (\n",
        "                                        str(round(two_classes_test_comments_repartition[label1 + \" and \" + label2] * 100 / test_comments_repartition[label1],2)) \n",
        "                                        + \"% des commentaires \" \n",
        "                                        + label1)\n",
        "two_classes_test_comments_repartition"
      ],
      "metadata": {
        "colab": {
          "base_uri": "https://localhost:8080/"
        },
        "outputId": "3f3faed9-dcec-478e-c9f4-3aa35eb94314",
        "id": "6c01NqgtonpP"
      },
      "execution_count": 44,
      "outputs": [
        {
          "output_type": "execute_result",
          "data": {
            "text/plain": [
              "{'toxic': '',\n",
              " 'toxic and severe_toxic': 367,\n",
              " 'toxic and obscene': 3626,\n",
              " 'toxic and threat': 205,\n",
              " 'toxic and insult': 3342,\n",
              " 'toxic and identity_hate': 693,\n",
              " 'severe_toxic': '',\n",
              " 'severe_toxic and toxic': 367,\n",
              " 'severe_toxic and obscene': 363,\n",
              " 'severe_toxic and threat': 46,\n",
              " 'severe_toxic and insult': 330,\n",
              " 'severe_toxic and identity_hate': 135,\n",
              " 'obscene': '',\n",
              " 'obscene and toxic': 3626,\n",
              " 'obscene and severe_toxic': 363,\n",
              " 'obscene and threat': 138,\n",
              " 'obscene and insult': 2729,\n",
              " 'obscene and identity_hate': 538,\n",
              " 'threat': '',\n",
              " 'threat and toxic': 205,\n",
              " 'threat and severe_toxic': 46,\n",
              " 'threat and obscene': 138,\n",
              " 'threat and insult': 138,\n",
              " 'threat and identity_hate': 47,\n",
              " 'insult': '',\n",
              " 'insult and toxic': 3342,\n",
              " 'insult and severe_toxic': 330,\n",
              " 'insult and obscene': 2729,\n",
              " 'insult and threat': 138,\n",
              " 'insult and identity_hate': 602,\n",
              " 'identity_hate': '',\n",
              " 'identity_hate and toxic': 693,\n",
              " 'identity_hate and severe_toxic': 135,\n",
              " 'identity_hate and obscene': 538,\n",
              " 'identity_hate and threat': 47,\n",
              " 'identity_hate and insult': 602}"
            ]
          },
          "metadata": {},
          "execution_count": 44
        }
      ]
    },
    {
      "cell_type": "code",
      "source": [
        "two_classes_test_commments_proportion"
      ],
      "metadata": {
        "colab": {
          "base_uri": "https://localhost:8080/"
        },
        "outputId": "148b8e79-86a2-437b-8b28-40299a76fe60",
        "id": "eggPfGyhonpP"
      },
      "execution_count": 45,
      "outputs": [
        {
          "output_type": "execute_result",
          "data": {
            "text/plain": [
              "{'toxic': '',\n",
              " 'toxic and severe_toxic': '6.03% des commentaires toxic',\n",
              " 'toxic and obscene': '59.54% des commentaires toxic',\n",
              " 'toxic and threat': '3.37% des commentaires toxic',\n",
              " 'toxic and insult': '54.88% des commentaires toxic',\n",
              " 'toxic and identity_hate': '11.38% des commentaires toxic',\n",
              " 'severe_toxic': '',\n",
              " 'severe_toxic and toxic': '100.0% des commentaires severe_toxic',\n",
              " 'severe_toxic and obscene': '98.91% des commentaires severe_toxic',\n",
              " 'severe_toxic and threat': '12.53% des commentaires severe_toxic',\n",
              " 'severe_toxic and insult': '89.92% des commentaires severe_toxic',\n",
              " 'severe_toxic and identity_hate': '36.78% des commentaires severe_toxic',\n",
              " 'obscene': '',\n",
              " 'obscene and toxic': '98.24% des commentaires obscene',\n",
              " 'obscene and severe_toxic': '9.83% des commentaires obscene',\n",
              " 'obscene and threat': '3.74% des commentaires obscene',\n",
              " 'obscene and insult': '73.94% des commentaires obscene',\n",
              " 'obscene and identity_hate': '14.58% des commentaires obscene',\n",
              " 'threat': '',\n",
              " 'threat and toxic': '97.16% des commentaires threat',\n",
              " 'threat and severe_toxic': '21.8% des commentaires threat',\n",
              " 'threat and obscene': '65.4% des commentaires threat',\n",
              " 'threat and insult': '65.4% des commentaires threat',\n",
              " 'threat and identity_hate': '22.27% des commentaires threat',\n",
              " 'insult': '',\n",
              " 'insult and toxic': '97.52% des commentaires insult',\n",
              " 'insult and severe_toxic': '9.63% des commentaires insult',\n",
              " 'insult and obscene': '79.63% des commentaires insult',\n",
              " 'insult and threat': '4.03% des commentaires insult',\n",
              " 'insult and identity_hate': '17.57% des commentaires insult',\n",
              " 'identity_hate': '',\n",
              " 'identity_hate and toxic': '97.33% des commentaires identity_hate',\n",
              " 'identity_hate and severe_toxic': '18.96% des commentaires identity_hate',\n",
              " 'identity_hate and obscene': '75.56% des commentaires identity_hate',\n",
              " 'identity_hate and threat': '6.6% des commentaires identity_hate',\n",
              " 'identity_hate and insult': '84.55% des commentaires identity_hate'}"
            ]
          },
          "metadata": {},
          "execution_count": 45
        }
      ]
    },
    {
      "cell_type": "markdown",
      "source": [
        "# **Préparation des données**"
      ],
      "metadata": {
        "id": "YIzpSrAjSsAM"
      }
    },
    {
      "cell_type": "markdown",
      "source": [
        "On va modifier les données pour enlever les abbréviations, les signes de ponctuations, les contractions de mots (fréquentes en anglais) pour faciliter le travail du réseau de neurone"
      ],
      "metadata": {
        "id": "LyKNQ5ZBYqz4"
      }
    },
    {
      "cell_type": "markdown",
      "source": [
        "## Définition de la fonction prepare_string(tweet) pour nettoyer les commentaires"
      ],
      "metadata": {
        "id": "myHN502fX3-D"
      }
    },
    {
      "cell_type": "markdown",
      "source": [
        "On crée une fonction qui va remplacer les contractions par leur formes complètes et abbréviations par leur significations"
      ],
      "metadata": {
        "id": "2uXnj0FvZC06"
      }
    },
    {
      "cell_type": "code",
      "source": [
        "tokenizer = TweetTokenizer(strip_handles=True)\n",
        "nltk.download('stopwords')\n",
        "stop_words = nltk.corpus.stopwords.words('english')\n",
        "corpus = []"
      ],
      "metadata": {
        "colab": {
          "base_uri": "https://localhost:8080/"
        },
        "id": "iaZfwRfgbZop",
        "outputId": "b800dd83-1d7b-4070-ebde-5956897744aa"
      },
      "execution_count": 46,
      "outputs": [
        {
          "output_type": "stream",
          "name": "stderr",
          "text": [
            "[nltk_data] Downloading package stopwords to /root/nltk_data...\n",
            "[nltk_data]   Unzipping corpora/stopwords.zip.\n"
          ]
        }
      ]
    },
    {
      "cell_type": "code",
      "source": [
        "def clean(tweet): \n",
        "            \n",
        "    # Contractions\n",
        "    tweet = re.sub(r\"he's\", \"he is\", tweet)\n",
        "    tweet = re.sub(r\"there's\", \"there is\", tweet)\n",
        "    tweet = re.sub(r\"We're\", \"We are\", tweet)\n",
        "    tweet = re.sub(r\"That's\", \"That is\", tweet)\n",
        "    tweet = re.sub(r\"won't\", \"will not\", tweet)\n",
        "    tweet = re.sub(r\"they're\", \"they are\", tweet)\n",
        "    tweet = re.sub(r\"Can't\", \"Cannot\", tweet)\n",
        "    tweet = re.sub(r\"wasn't\", \"was not\", tweet)\n",
        "    tweet = re.sub(r\"don\\x89Ûªt\", \"do not\", tweet)\n",
        "    tweet = re.sub(r\"aren't\", \"are not\", tweet)\n",
        "    tweet = re.sub(r\"isn't\", \"is not\", tweet)\n",
        "    tweet = re.sub(r\"What's\", \"What is\", tweet)\n",
        "    tweet = re.sub(r\"haven't\", \"have not\", tweet)\n",
        "    tweet = re.sub(r\"hasn't\", \"has not\", tweet)\n",
        "    tweet = re.sub(r\"There's\", \"There is\", tweet)\n",
        "    tweet = re.sub(r\"He's\", \"He is\", tweet)\n",
        "    tweet = re.sub(r\"It's\", \"It is\", tweet)\n",
        "    tweet = re.sub(r\"You're\", \"You are\", tweet)\n",
        "    tweet = re.sub(r\"I'M\", \"I am\", tweet)\n",
        "    tweet = re.sub(r\"shouldn't\", \"should not\", tweet)\n",
        "    tweet = re.sub(r\"wouldn't\", \"would not\", tweet)\n",
        "    tweet = re.sub(r\"i'm\", \"I am\", tweet)\n",
        "    tweet = re.sub(r\"I\\x89Ûªm\", \"I am\", tweet)\n",
        "    tweet = re.sub(r\"I'm\", \"I am\", tweet)\n",
        "    tweet = re.sub(r\"Isn't\", \"is not\", tweet)\n",
        "    tweet = re.sub(r\"Here's\", \"Here is\", tweet)\n",
        "    tweet = re.sub(r\"you've\", \"you have\", tweet)\n",
        "    tweet = re.sub(r\"you\\x89Ûªve\", \"you have\", tweet)\n",
        "    tweet = re.sub(r\"we're\", \"we are\", tweet)\n",
        "    tweet = re.sub(r\"what's\", \"what is\", tweet)\n",
        "    tweet = re.sub(r\"couldn't\", \"could not\", tweet)\n",
        "    tweet = re.sub(r\"we've\", \"we have\", tweet)\n",
        "    tweet = re.sub(r\"it\\x89Ûªs\", \"it is\", tweet)\n",
        "    tweet = re.sub(r\"doesn\\x89Ûªt\", \"does not\", tweet)\n",
        "    tweet = re.sub(r\"It\\x89Ûªs\", \"It is\", tweet)\n",
        "    tweet = re.sub(r\"Here\\x89Ûªs\", \"Here is\", tweet)\n",
        "    tweet = re.sub(r\"who's\", \"who is\", tweet)\n",
        "    tweet = re.sub(r\"I\\x89Ûªve\", \"I have\", tweet)\n",
        "    tweet = re.sub(r\"y'all\", \"you all\", tweet)\n",
        "    tweet = re.sub(r\"can\\x89Ûªt\", \"cannot\", tweet)\n",
        "    tweet = re.sub(r\"would've\", \"would have\", tweet)\n",
        "    tweet = re.sub(r\"it'll\", \"it will\", tweet)\n",
        "    tweet = re.sub(r\"we'll\", \"we will\", tweet)\n",
        "    tweet = re.sub(r\"wouldn\\x89Ûªt\", \"would not\", tweet)\n",
        "    tweet = re.sub(r\"We've\", \"We have\", tweet)\n",
        "    tweet = re.sub(r\"he'll\", \"he will\", tweet)\n",
        "    tweet = re.sub(r\"Y'all\", \"You all\", tweet)\n",
        "    tweet = re.sub(r\"Weren't\", \"Were not\", tweet)\n",
        "    tweet = re.sub(r\"Didn't\", \"Did not\", tweet)\n",
        "    tweet = re.sub(r\"they'll\", \"they will\", tweet)\n",
        "    tweet = re.sub(r\"they'd\", \"they would\", tweet)\n",
        "    tweet = re.sub(r\"DON'T\", \"DO NOT\", tweet)\n",
        "    tweet = re.sub(r\"That\\x89Ûªs\", \"That is\", tweet)\n",
        "    tweet = re.sub(r\"they've\", \"they have\", tweet)\n",
        "    tweet = re.sub(r\"i'd\", \"I would\", tweet)\n",
        "    tweet = re.sub(r\"should've\", \"should have\", tweet)\n",
        "    tweet = re.sub(r\"You\\x89Ûªre\", \"You are\", tweet)\n",
        "    tweet = re.sub(r\"where's\", \"where is\", tweet)\n",
        "    tweet = re.sub(r\"Don\\x89Ûªt\", \"Do not\", tweet)\n",
        "    tweet = re.sub(r\"we'd\", \"we would\", tweet)\n",
        "    tweet = re.sub(r\"i'll\", \"I will\", tweet)\n",
        "    tweet = re.sub(r\"weren't\", \"were not\", tweet)\n",
        "    tweet = re.sub(r\"They're\", \"They are\", tweet)\n",
        "    tweet = re.sub(r\"Can\\x89Ûªt\", \"Cannot\", tweet)\n",
        "    tweet = re.sub(r\"you\\x89Ûªll\", \"you will\", tweet)\n",
        "    tweet = re.sub(r\"I\\x89Ûªd\", \"I would\", tweet)\n",
        "    tweet = re.sub(r\"let's\", \"let us\", tweet)\n",
        "    tweet = re.sub(r\"it's\", \"it is\", tweet)\n",
        "    tweet = re.sub(r\"can't\", \"cannot\", tweet)\n",
        "    tweet = re.sub(r\"don't\", \"do not\", tweet)\n",
        "    tweet = re.sub(r\"you're\", \"you are\", tweet)\n",
        "    tweet = re.sub(r\"i've\", \"I have\", tweet)\n",
        "    tweet = re.sub(r\"that's\", \"that is\", tweet)\n",
        "    tweet = re.sub(r\"i'll\", \"I will\", tweet)\n",
        "    tweet = re.sub(r\"doesn't\", \"does not\", tweet)\n",
        "    tweet = re.sub(r\"i'd\", \"I would\", tweet)\n",
        "    tweet = re.sub(r\"didn't\", \"did not\", tweet)\n",
        "    tweet = re.sub(r\"ain't\", \"am not\", tweet)\n",
        "    tweet = re.sub(r\"you'll\", \"you will\", tweet)\n",
        "    tweet = re.sub(r\"I've\", \"I have\", tweet)\n",
        "    tweet = re.sub(r\"Don't\", \"do not\", tweet)\n",
        "    tweet = re.sub(r\"I'll\", \"I will\", tweet)\n",
        "    tweet = re.sub(r\"I'd\", \"I would\", tweet)\n",
        "    tweet = re.sub(r\"Let's\", \"Let us\", tweet)\n",
        "    tweet = re.sub(r\"you'd\", \"You would\", tweet)\n",
        "    tweet = re.sub(r\"It's\", \"It is\", tweet)\n",
        "    tweet = re.sub(r\"Ain't\", \"am not\", tweet)\n",
        "    tweet = re.sub(r\"Haven't\", \"Have not\", tweet)\n",
        "    tweet = re.sub(r\"Could've\", \"Could have\", tweet)\n",
        "    tweet = re.sub(r\"youve\", \"you have\", tweet)  \n",
        "    tweet = re.sub(r\"donå«t\", \"do not\", tweet)  \n",
        "    \n",
        "    tweet = re.sub(r\"some1\", \"someone\", tweet)\n",
        "    tweet = re.sub(r\"yrs\", \"years\", tweet)\n",
        "    tweet = re.sub(r\"hrs\", \"hours\", tweet)\n",
        "    tweet = re.sub(r\"2morow|2moro\", \"tomorrow\", tweet)\n",
        "    tweet = re.sub(r\"2day\", \"today\", tweet)\n",
        "    tweet = re.sub(r\"4got|4gotten\", \"forget\", tweet)\n",
        "    tweet = re.sub(r\"b-day|bday\", \"b-day\", tweet)\n",
        "    tweet = re.sub(r\"mother's\", \"mother\", tweet)\n",
        "    tweet = re.sub(r\"mom's\", \"mom\", tweet)\n",
        "    tweet = re.sub(r\"dad's\", \"dad\", tweet)\n",
        "    tweet = re.sub(r\"hahah|hahaha|hahahaha\", \"haha\", tweet)\n",
        "    tweet = re.sub(r\"lmao|lolz|rofl\", \"lol\", tweet)\n",
        "    tweet = re.sub(r\"thanx|thnx\", \"thanks\", tweet)\n",
        "    tweet = re.sub(r\"goood\", \"good\", tweet)\n",
        "    tweet = re.sub(r\"some1\", \"someone\", tweet)\n",
        "    tweet = re.sub(r\"some1\", \"someone\", tweet)\n",
        "    # Character entity references\n",
        "    tweet = re.sub(r\"&gt;\", \">\", tweet)\n",
        "    tweet = re.sub(r\"&lt;\", \"<\", tweet)\n",
        "    tweet = re.sub(r\"&amp;\", \"&\", tweet)\n",
        "    # Typos, slang and informal abbreviations\n",
        "    tweet = re.sub(r\"w/e\", \"whatever\", tweet)\n",
        "    tweet = re.sub(r\"w/\", \"with\", tweet)\n",
        "    tweet = re.sub(r\"<3\", \"love\", tweet)\n",
        "    # Urls\n",
        "    tweet = re.sub(r\"http\\S+\", \"\", tweet)\n",
        "    # Numbers\n",
        "    tweet = re.sub(r'[0-9]', '', tweet)\n",
        "    # Eliminating the mentions\n",
        "    tweet = re.sub(\"(@[A-Za-z0-9_]+)\",\"\", tweet)\n",
        "    # Remove punctuation and special chars (keep '!')\n",
        "    for p in string.punctuation.replace('!', ''):\n",
        "        tweet = tweet.replace(p, '')\n",
        "        \n",
        "    # ... and ..\n",
        "    tweet = tweet.replace('...', ' ... ')\n",
        "    if '...' not in tweet:\n",
        "        tweet = tweet.replace('..', ' ... ')\n",
        "        \n",
        "    # Tokenize\n",
        "    tweet_words = tokenizer.tokenize(tweet)\n",
        "    \n",
        "    # Eliminating the word if its length is less than 3\n",
        "    tweet = [w for w in tweet_words if len(w)>2]\n",
        "    \n",
        "    # remove stopwords\n",
        "    tweet = [w.lower() for w in tweet if not w in stop_words]  \n",
        "    \n",
        "    corpus.append(tweet)\n",
        "    \n",
        "    # join back\n",
        "    tweet = ' '.join(tweet)\n",
        "        \n",
        "        \n",
        "    return tweet"
      ],
      "metadata": {
        "id": "Obw2CIGUb1EL"
      },
      "execution_count": 47,
      "outputs": []
    },
    {
      "cell_type": "code",
      "source": [
        "variable_name = \"\"\n",
        "abbreviations = {\n",
        "    \"$\" : \" dollar \",\n",
        "    \"€\" : \" euro \",\n",
        "    \"4ao\" : \"for adults only\",\n",
        "    \"a.m\" : \"before midday\",\n",
        "    \"a3\" : \"anytime anywhere anyplace\",\n",
        "    \"aamof\" : \"as a matter of fact\",\n",
        "    \"acct\" : \"account\",\n",
        "    \"adih\" : \"another day in hell\",\n",
        "    \"afaic\" : \"as far as i am concerned\",\n",
        "    \"afaict\" : \"as far as i can tell\",\n",
        "    \"afaik\" : \"as far as i know\",\n",
        "    \"afair\" : \"as far as i remember\",\n",
        "    \"afk\" : \"away from keyboard\",\n",
        "    \"app\" : \"application\",\n",
        "    \"approx\" : \"approximately\",\n",
        "    \"apps\" : \"applications\",\n",
        "    \"asap\" : \"as soon as possible\",\n",
        "    \"asl\" : \"age, sex, location\",\n",
        "    \"atk\" : \"at the keyboard\",\n",
        "    \"ave.\" : \"avenue\",\n",
        "    \"aymm\" : \"are you my mother\",\n",
        "    \"ayor\" : \"at your own risk\", \n",
        "    \"b&b\" : \"bed and breakfast\",\n",
        "    \"b+b\" : \"bed and breakfast\",\n",
        "    \"b.c\" : \"before christ\",\n",
        "    \"b2b\" : \"business to business\",\n",
        "    \"b2c\" : \"business to customer\",\n",
        "    \"b4\" : \"before\",\n",
        "    \"b4n\" : \"bye for now\",\n",
        "    \"b@u\" : \"back at you\",\n",
        "    \"bae\" : \"before anyone else\",\n",
        "    \"bak\" : \"back at keyboard\",\n",
        "    \"bbbg\" : \"bye bye be good\",\n",
        "    \"bbc\" : \"british broadcasting corporation\",\n",
        "    \"bbias\" : \"be back in a second\",\n",
        "    \"bbl\" : \"be back later\",\n",
        "    \"bbs\" : \"be back soon\",\n",
        "    \"be4\" : \"before\",\n",
        "    \"bfn\" : \"bye for now\",\n",
        "    \"blvd\" : \"boulevard\",\n",
        "    \"bout\" : \"about\",\n",
        "    \"brb\" : \"be right back\",\n",
        "    \"bros\" : \"brothers\",\n",
        "    \"brt\" : \"be right there\",\n",
        "    \"bsaaw\" : \"big smile and a wink\",\n",
        "    \"btw\" : \"by the way\",\n",
        "    \"bwl\" : \"bursting with laughter\",\n",
        "    \"c/o\" : \"care of\",\n",
        "    \"cet\" : \"central european time\",\n",
        "    \"cf\" : \"compare\",\n",
        "    \"cia\" : \"central intelligence agency\",\n",
        "    \"csl\" : \"can not stop laughing\",\n",
        "    \"cu\" : \"see you\",\n",
        "    \"cul8r\" : \"see you later\",\n",
        "    \"cv\" : \"curriculum vitae\",\n",
        "    \"cwot\" : \"complete waste of time\",\n",
        "    \"cya\" : \"see you\",\n",
        "    \"cyt\" : \"see you tomorrow\",\n",
        "    \"dae\" : \"does anyone else\",\n",
        "    \"dbmib\" : \"do not bother me i am busy\",\n",
        "    \"diy\" : \"do it yourself\",\n",
        "    \"dm\" : \"direct message\",\n",
        "    \"dwh\" : \"during work hours\",\n",
        "    \"e123\" : \"easy as one two three\",\n",
        "    \"eet\" : \"eastern european time\",\n",
        "    \"eg\" : \"example\",\n",
        "    \"embm\" : \"early morning business meeting\",\n",
        "    \"encl\" : \"enclosed\",\n",
        "    \"encl.\" : \"enclosed\",\n",
        "    \"etc\" : \"and so on\",\n",
        "    \"faq\" : \"frequently asked questions\",\n",
        "    \"fawc\" : \"for anyone who cares\",\n",
        "    \"fb\" : \"facebook\",\n",
        "    \"fc\" : \"fingers crossed\",\n",
        "    \"fig\" : \"figure\",\n",
        "    \"fimh\" : \"forever in my heart\", \n",
        "    \"ft.\" : \"feet\",\n",
        "    \"ft\" : \"featuring\",\n",
        "    \"ftl\" : \"for the loss\",\n",
        "    \"ftw\" : \"for the win\",\n",
        "    \"fwiw\" : \"for what it is worth\",\n",
        "    \"fyi\" : \"for your information\",\n",
        "    \"g9\" : \"genius\",\n",
        "    \"gahoy\" : \"get a hold of yourself\",\n",
        "    \"gal\" : \"get a life\",\n",
        "    \"gcse\" : \"general certificate of secondary education\",\n",
        "    \"gfn\" : \"gone for now\",\n",
        "    \"gg\" : \"good game\",\n",
        "    \"gl\" : \"good luck\",\n",
        "    \"glhf\" : \"good luck have fun\",\n",
        "    \"gmt\" : \"greenwich mean time\",\n",
        "    \"gmta\" : \"great minds think alike\",\n",
        "    \"gn\" : \"good night\",\n",
        "    \"g.o.a.t\" : \"greatest of all time\",\n",
        "    \"goat\" : \"greatest of all time\",\n",
        "    \"goi\" : \"get over it\",\n",
        "    \"gps\" : \"global positioning system\",\n",
        "    \"gr8\" : \"great\",\n",
        "    \"gratz\" : \"congratulations\",\n",
        "    \"gyal\" : \"girl\",\n",
        "    \"h&c\" : \"hot and cold\",\n",
        "    \"hp\" : \"horsepower\",\n",
        "    \"hr\" : \"hour\",\n",
        "    \"hrh\" : \"his royal highness\",\n",
        "    \"ht\" : \"height\",\n",
        "    \"ibrb\" : \"i will be right back\",\n",
        "    \"ic\" : \"i see\",\n",
        "    \"icq\" : \"i seek you\",\n",
        "    \"icymi\" : \"in case you missed it\",\n",
        "    \"idc\" : \"i do not care\",\n",
        "    \"idgadf\" : \"i do not give a damn fuck\",\n",
        "    \"idgaf\" : \"i do not give a fuck\",\n",
        "    \"idk\" : \"i do not know\",\n",
        "    \"ie\" : \"that is\",\n",
        "    \"i.e\" : \"that is\",\n",
        "    \"ifyp\" : \"i feel your pain\",\n",
        "    \"IG\" : \"instagram\",\n",
        "    \"iirc\" : \"if i remember correctly\",\n",
        "    \"ilu\" : \"i love you\",\n",
        "    \"ily\" : \"i love you\",\n",
        "    \"imho\" : \"in my humble opinion\",\n",
        "    \"imo\" : \"in my opinion\",\n",
        "    \"imu\" : \"i miss you\",\n",
        "    \"iow\" : \"in other words\",\n",
        "    \"irl\" : \"in real life\",\n",
        "    \"j4f\" : \"just for fun\",\n",
        "    \"jic\" : \"just in case\",\n",
        "    \"jk\" : \"just kidding\",\n",
        "    \"jsyk\" : \"just so you know\",\n",
        "    \"l8r\" : \"later\",\n",
        "    \"lb\" : \"pound\",\n",
        "    \"lbs\" : \"pounds\",\n",
        "    \"ldr\" : \"long distance relationship\",\n",
        "    \"lmao\" : \"laugh my ass off\",\n",
        "    \"lmfao\" : \"laugh my fucking ass off\",\n",
        "    \"lol\" : \"laughing out loud\",\n",
        "    \"ltd\" : \"limited\",\n",
        "    \"ltns\" : \"long time no see\",\n",
        "    \"m8\" : \"mate\",\n",
        "    \"mf\" : \"motherfucker\",\n",
        "    \"mfs\" : \"motherfuckers\",\n",
        "    \"mfw\" : \"my face when\",\n",
        "    \"mofo\" : \"motherfucker\",\n",
        "    \"mph\" : \"miles per hour\",\n",
        "    \"mr\" : \"mister\",\n",
        "    \"mrw\" : \"my reaction when\",\n",
        "    \"ms\" : \"miss\",\n",
        "    \"mte\" : \"my thoughts exactly\",\n",
        "    \"nagi\" : \"not a good idea\",\n",
        "    \"nbc\" : \"national broadcasting company\",\n",
        "    \"nbd\" : \"not big deal\",\n",
        "    \"nfs\" : \"not for sale\",\n",
        "    \"ngl\" : \"not going to lie\",\n",
        "    \"nhs\" : \"national health service\",\n",
        "    \"nrn\" : \"no reply necessary\",\n",
        "    \"nsfl\" : \"not safe for life\",\n",
        "    \"nsfw\" : \"not safe for work\",\n",
        "    \"nth\" : \"nice to have\",\n",
        "    \"nvr\" : \"never\",\n",
        "    \"nyc\" : \"new york city\",\n",
        "    \"oc\" : \"original content\",\n",
        "    \"og\" : \"original\",\n",
        "    \"ohp\" : \"overhead projector\",\n",
        "    \"oic\" : \"oh i see\",\n",
        "    \"omdb\" : \"over my dead body\",\n",
        "    \"omg\" : \"oh my god\",\n",
        "    \"omw\" : \"on my way\",\n",
        "    \"p.a\" : \"per annum\",\n",
        "    \"p.m\" : \"after midday\",\n",
        "    \"pm\" : \"prime minister\",\n",
        "    \"poc\" : \"people of color\",\n",
        "    \"pov\" : \"point of view\",\n",
        "    \"pp\" : \"pages\",\n",
        "    \"ppl\" : \"people\",\n",
        "    \"prw\" : \"parents are watching\",\n",
        "    \"ps\" : \"postscript\",\n",
        "    \"pt\" : \"point\",\n",
        "    \"ptb\" : \"please text back\",\n",
        "    \"pto\" : \"please turn over\",\n",
        "    \"qpsa\" : \"what happens\", \n",
        "    \"ratchet\" : \"rude\",\n",
        "    \"rbtl\" : \"read between the lines\",\n",
        "    \"rlrt\" : \"real life retweet\", \n",
        "    \"rofl\" : \"rolling on the floor laughing\",\n",
        "    \"roflol\" : \"rolling on the floor laughing out loud\",\n",
        "    \"rotflmao\" : \"rolling on the floor laughing my ass off\",\n",
        "    \"rt\" : \"retweet\",\n",
        "    \"ruok\" : \"are you ok\",\n",
        "    \"sfw\" : \"safe for work\",\n",
        "     \"sk8\" : \"skate\",\n",
        "    \"smh\" : \"shake my head\",\n",
        "    \"sq\" : \"square\",\n",
        "    \"srsly\" : \"seriously\", \n",
        "    \"ssdd\" : \"same stuff different day\",\n",
        "    \"tbh\" : \"to be honest\",\n",
        "    \"tbs\" : \"tablespooful\",\n",
        "    \"tbsp\" : \"tablespooful\",\n",
        "    \"tfw\" : \"that feeling when\",\n",
        "    \"thks\" : \"thank you\",\n",
        "    \"tho\" : \"though\",\n",
        "    \"thx\" : \"thank you\",\n",
        "    \"tia\" : \"thanks in advance\",\n",
        "    \"til\" : \"today i learned\",\n",
        "    \"tl;dr\" : \"too long i did not read\",\n",
        "    \"tldr\" : \"too long i did not read\",\n",
        "    \"tmb\" : \"tweet me back\",\n",
        "    \"tntl\" : \"trying not to laugh\",\n",
        "    \"ttyl\" : \"talk to you later\",\n",
        "    \"u\" : \"you\",\n",
        "    \"u2\" : \"you too\",\n",
        "    \"u4e\" : \"yours for ever\",\n",
        "    \"utc\" : \"coordinated universal time\",\n",
        "    \"w/\" : \"with\",\n",
        "    \"w/o\" : \"without\",\n",
        "    \"w8\" : \"wait\",\n",
        "    \"wassup\" : \"what is up\",\n",
        "    \"wb\" : \"welcome back\",\n",
        "    \"wtf\" : \"what the fuck\",\n",
        "    \"wtg\" : \"way to go\",\n",
        "    \"wtpa\" : \"where the party at\",\n",
        "    \"wuf\" : \"where are you from\",\n",
        "    \"wuzup\" : \"what is up\",\n",
        "    \"wywh\" : \"wish you were here\",\n",
        "    \"yd\" : \"yard\",\n",
        "    \"ygtr\" : \"you got that right\",\n",
        "    \"ynk\" : \"you never know\",\n",
        "    \"zzz\" : \"sleeping bored and tired\"\n",
        "}\n",
        "\n",
        "def convert_abbrev_in_text(tweet):\n",
        "    t=[]\n",
        "    words=tweet.split()\n",
        "    t = [abbreviations[w.lower()] if w.lower() in abbreviations.keys() else w for w in words]\n",
        "    return ' '.join(t) "
      ],
      "metadata": {
        "id": "gJjKXiPhb3Ek"
      },
      "execution_count": 48,
      "outputs": []
    },
    {
      "cell_type": "code",
      "source": [
        "def prepare_string(tweet):\n",
        "  tweet = clean(tweet)\n",
        "  tweet = convert_abbrev_in_text(tweet)\n",
        "  return tweet"
      ],
      "metadata": {
        "id": "O2srr3ebb71j"
      },
      "execution_count": 49,
      "outputs": []
    },
    {
      "cell_type": "markdown",
      "source": [
        "## nettoyage des commentaires"
      ],
      "metadata": {
        "id": "-wCWxMIaYUC_"
      }
    },
    {
      "cell_type": "markdown",
      "source": [
        "On utilise la fonction prepare_strings pour enlever les contractions et les abbréviations et on enlève les commentaires vides"
      ],
      "metadata": {
        "id": "d7inN_COeAbb"
      }
    },
    {
      "cell_type": "code",
      "source": [
        "%%time\n",
        "# Apply prepare_string to all rows in 'tweets' column\n",
        "training_data['comment_text'] = training_data['comment_text'].apply(lambda s : prepare_string(s))\n",
        "test_data['comment_text'] = test_data['comment_text'].apply(lambda s : prepare_string(s))\n",
        "\n",
        "# Drop empty values from dataframe\n",
        "training_data['comment_text'].replace('', np.nan, inplace=True)\n",
        "training_data.dropna(subset=['comment_text'], inplace=True)\n",
        "\n",
        "test_data['comment_text'].replace('', np.nan, inplace=True)\n",
        "test_data.dropna(subset=['comment_text'], inplace=True)"
      ],
      "metadata": {
        "colab": {
          "base_uri": "https://localhost:8080/"
        },
        "id": "CVWylWYPb_56",
        "outputId": "2a09ca09-19b7-46e6-9a12-8aa46305a24b"
      },
      "execution_count": 50,
      "outputs": [
        {
          "output_type": "stream",
          "name": "stdout",
          "text": [
            "CPU times: user 2min 57s, sys: 1.08 s, total: 2min 58s\n",
            "Wall time: 3min 15s\n"
          ]
        }
      ]
    },
    {
      "cell_type": "markdown",
      "source": [
        "L'opération précédente prenant un certain temps (quelques minutes), on sauvegarde les résultates précédents afin de pouvoir les recharger lors d'une session ultérieur sans refaire les étapes précédantes"
      ],
      "metadata": {
        "id": "XcbvWR4MZS3L"
      }
    },
    {
      "cell_type": "code",
      "source": [
        "training_data.to_csv('/content/drive/MyDrive/NLP_4A/Projet/cleaned_data.csv', index=False)\n",
        "test_data.to_csv('/content/drive/MyDrive/NLP_4A/Projet/cleaned_test.csv', index=False)"
      ],
      "metadata": {
        "id": "KeDANZxtdBpt"
      },
      "execution_count": 51,
      "outputs": []
    },
    {
      "cell_type": "markdown",
      "source": [
        "## Chargement des données une fois traitées"
      ],
      "metadata": {
        "id": "zjoBmwkfZ2Qe"
      }
    },
    {
      "cell_type": "markdown",
      "source": [
        "Une fois les étapes précédentes réalisé une fois, on peut directement recharger les données directement dans leur fichier de sauvegarde et passer à la suite"
      ],
      "metadata": {
        "id": "K3RQOcqjZw_f"
      }
    },
    {
      "cell_type": "code",
      "source": [
        "training_data = pd.read_csv('/content/drive/MyDrive/NLP_4A/Projet/cleaned_data.csv')\n",
        "test_data = pd.read_csv('/content/drive/MyDrive/NLP_4A/Projet/cleaned_test.csv')\n",
        "training_data.head()"
      ],
      "metadata": {
        "id": "PABxBtbkeIXl",
        "outputId": "e3436484-cba7-4481-92e8-fe87faeea346",
        "colab": {
          "base_uri": "https://localhost:8080/",
          "height": 0
        }
      },
      "execution_count": 5,
      "outputs": [
        {
          "output_type": "execute_result",
          "data": {
            "text/plain": [
              "                                        comment_text  toxic  severe_toxic  \\\n",
              "0  explanation why edits made username hardcore m...      0             0   \n",
              "1  daww matches background colour seemingly stuck...      0             0   \n",
              "2  hey man really trying edit war guy constantly ...      0             0   \n",
              "3  more cannot make real suggestions improvement ...      0             0   \n",
              "4              you sir hero any chance remember page      0             0   \n",
              "\n",
              "   obscene  threat  insult  identity_hate  \n",
              "0        0       0       0              0  \n",
              "1        0       0       0              0  \n",
              "2        0       0       0              0  \n",
              "3        0       0       0              0  \n",
              "4        0       0       0              0  "
            ],
            "text/html": [
              "\n",
              "  <div id=\"df-15660c91-dd01-4b39-97b8-89ed88f3da60\">\n",
              "    <div class=\"colab-df-container\">\n",
              "      <div>\n",
              "<style scoped>\n",
              "    .dataframe tbody tr th:only-of-type {\n",
              "        vertical-align: middle;\n",
              "    }\n",
              "\n",
              "    .dataframe tbody tr th {\n",
              "        vertical-align: top;\n",
              "    }\n",
              "\n",
              "    .dataframe thead th {\n",
              "        text-align: right;\n",
              "    }\n",
              "</style>\n",
              "<table border=\"1\" class=\"dataframe\">\n",
              "  <thead>\n",
              "    <tr style=\"text-align: right;\">\n",
              "      <th></th>\n",
              "      <th>comment_text</th>\n",
              "      <th>toxic</th>\n",
              "      <th>severe_toxic</th>\n",
              "      <th>obscene</th>\n",
              "      <th>threat</th>\n",
              "      <th>insult</th>\n",
              "      <th>identity_hate</th>\n",
              "    </tr>\n",
              "  </thead>\n",
              "  <tbody>\n",
              "    <tr>\n",
              "      <th>0</th>\n",
              "      <td>explanation why edits made username hardcore m...</td>\n",
              "      <td>0</td>\n",
              "      <td>0</td>\n",
              "      <td>0</td>\n",
              "      <td>0</td>\n",
              "      <td>0</td>\n",
              "      <td>0</td>\n",
              "    </tr>\n",
              "    <tr>\n",
              "      <th>1</th>\n",
              "      <td>daww matches background colour seemingly stuck...</td>\n",
              "      <td>0</td>\n",
              "      <td>0</td>\n",
              "      <td>0</td>\n",
              "      <td>0</td>\n",
              "      <td>0</td>\n",
              "      <td>0</td>\n",
              "    </tr>\n",
              "    <tr>\n",
              "      <th>2</th>\n",
              "      <td>hey man really trying edit war guy constantly ...</td>\n",
              "      <td>0</td>\n",
              "      <td>0</td>\n",
              "      <td>0</td>\n",
              "      <td>0</td>\n",
              "      <td>0</td>\n",
              "      <td>0</td>\n",
              "    </tr>\n",
              "    <tr>\n",
              "      <th>3</th>\n",
              "      <td>more cannot make real suggestions improvement ...</td>\n",
              "      <td>0</td>\n",
              "      <td>0</td>\n",
              "      <td>0</td>\n",
              "      <td>0</td>\n",
              "      <td>0</td>\n",
              "      <td>0</td>\n",
              "    </tr>\n",
              "    <tr>\n",
              "      <th>4</th>\n",
              "      <td>you sir hero any chance remember page</td>\n",
              "      <td>0</td>\n",
              "      <td>0</td>\n",
              "      <td>0</td>\n",
              "      <td>0</td>\n",
              "      <td>0</td>\n",
              "      <td>0</td>\n",
              "    </tr>\n",
              "  </tbody>\n",
              "</table>\n",
              "</div>\n",
              "      <button class=\"colab-df-convert\" onclick=\"convertToInteractive('df-15660c91-dd01-4b39-97b8-89ed88f3da60')\"\n",
              "              title=\"Convert this dataframe to an interactive table.\"\n",
              "              style=\"display:none;\">\n",
              "        \n",
              "  <svg xmlns=\"http://www.w3.org/2000/svg\" height=\"24px\"viewBox=\"0 0 24 24\"\n",
              "       width=\"24px\">\n",
              "    <path d=\"M0 0h24v24H0V0z\" fill=\"none\"/>\n",
              "    <path d=\"M18.56 5.44l.94 2.06.94-2.06 2.06-.94-2.06-.94-.94-2.06-.94 2.06-2.06.94zm-11 1L8.5 8.5l.94-2.06 2.06-.94-2.06-.94L8.5 2.5l-.94 2.06-2.06.94zm10 10l.94 2.06.94-2.06 2.06-.94-2.06-.94-.94-2.06-.94 2.06-2.06.94z\"/><path d=\"M17.41 7.96l-1.37-1.37c-.4-.4-.92-.59-1.43-.59-.52 0-1.04.2-1.43.59L10.3 9.45l-7.72 7.72c-.78.78-.78 2.05 0 2.83L4 21.41c.39.39.9.59 1.41.59.51 0 1.02-.2 1.41-.59l7.78-7.78 2.81-2.81c.8-.78.8-2.07 0-2.86zM5.41 20L4 18.59l7.72-7.72 1.47 1.35L5.41 20z\"/>\n",
              "  </svg>\n",
              "      </button>\n",
              "      \n",
              "  <style>\n",
              "    .colab-df-container {\n",
              "      display:flex;\n",
              "      flex-wrap:wrap;\n",
              "      gap: 12px;\n",
              "    }\n",
              "\n",
              "    .colab-df-convert {\n",
              "      background-color: #E8F0FE;\n",
              "      border: none;\n",
              "      border-radius: 50%;\n",
              "      cursor: pointer;\n",
              "      display: none;\n",
              "      fill: #1967D2;\n",
              "      height: 32px;\n",
              "      padding: 0 0 0 0;\n",
              "      width: 32px;\n",
              "    }\n",
              "\n",
              "    .colab-df-convert:hover {\n",
              "      background-color: #E2EBFA;\n",
              "      box-shadow: 0px 1px 2px rgba(60, 64, 67, 0.3), 0px 1px 3px 1px rgba(60, 64, 67, 0.15);\n",
              "      fill: #174EA6;\n",
              "    }\n",
              "\n",
              "    [theme=dark] .colab-df-convert {\n",
              "      background-color: #3B4455;\n",
              "      fill: #D2E3FC;\n",
              "    }\n",
              "\n",
              "    [theme=dark] .colab-df-convert:hover {\n",
              "      background-color: #434B5C;\n",
              "      box-shadow: 0px 1px 3px 1px rgba(0, 0, 0, 0.15);\n",
              "      filter: drop-shadow(0px 1px 2px rgba(0, 0, 0, 0.3));\n",
              "      fill: #FFFFFF;\n",
              "    }\n",
              "  </style>\n",
              "\n",
              "      <script>\n",
              "        const buttonEl =\n",
              "          document.querySelector('#df-15660c91-dd01-4b39-97b8-89ed88f3da60 button.colab-df-convert');\n",
              "        buttonEl.style.display =\n",
              "          google.colab.kernel.accessAllowed ? 'block' : 'none';\n",
              "\n",
              "        async function convertToInteractive(key) {\n",
              "          const element = document.querySelector('#df-15660c91-dd01-4b39-97b8-89ed88f3da60');\n",
              "          const dataTable =\n",
              "            await google.colab.kernel.invokeFunction('convertToInteractive',\n",
              "                                                     [key], {});\n",
              "          if (!dataTable) return;\n",
              "\n",
              "          const docLinkHtml = 'Like what you see? Visit the ' +\n",
              "            '<a target=\"_blank\" href=https://colab.research.google.com/notebooks/data_table.ipynb>data table notebook</a>'\n",
              "            + ' to learn more about interactive tables.';\n",
              "          element.innerHTML = '';\n",
              "          dataTable['output_type'] = 'display_data';\n",
              "          await google.colab.output.renderOutput(dataTable, element);\n",
              "          const docLink = document.createElement('div');\n",
              "          docLink.innerHTML = docLinkHtml;\n",
              "          element.appendChild(docLink);\n",
              "        }\n",
              "      </script>\n",
              "    </div>\n",
              "  </div>\n",
              "  "
            ]
          },
          "metadata": {},
          "execution_count": 5
        }
      ]
    },
    {
      "cell_type": "code",
      "source": [
        "test_data.head()"
      ],
      "metadata": {
        "id": "TfCU78bvqvTA",
        "outputId": "5a0c816e-59c6-4a41-d385-1888fbca58e7",
        "colab": {
          "base_uri": "https://localhost:8080/",
          "height": 0
        }
      },
      "execution_count": 6,
      "outputs": [
        {
          "output_type": "execute_result",
          "data": {
            "text/plain": [
              "                                        comment_text  toxic  severe_toxic  \\\n",
              "0  thank understanding think highly would revert ...      0             0   \n",
              "1                             dear god site horrible      0             0   \n",
              "2  somebody invariably try add religion really yo...      0             0   \n",
              "3  says right type the type institution needed ca...      0             0   \n",
              "4  before adding new product list make sure relev...      0             0   \n",
              "\n",
              "   obscene  threat  insult  identity_hate  \n",
              "0        0       0       0              0  \n",
              "1        0       0       0              0  \n",
              "2        0       0       0              0  \n",
              "3        0       0       0              0  \n",
              "4        0       0       0              0  "
            ],
            "text/html": [
              "\n",
              "  <div id=\"df-d463d396-4262-41c4-bb1c-cced1c08cb1e\">\n",
              "    <div class=\"colab-df-container\">\n",
              "      <div>\n",
              "<style scoped>\n",
              "    .dataframe tbody tr th:only-of-type {\n",
              "        vertical-align: middle;\n",
              "    }\n",
              "\n",
              "    .dataframe tbody tr th {\n",
              "        vertical-align: top;\n",
              "    }\n",
              "\n",
              "    .dataframe thead th {\n",
              "        text-align: right;\n",
              "    }\n",
              "</style>\n",
              "<table border=\"1\" class=\"dataframe\">\n",
              "  <thead>\n",
              "    <tr style=\"text-align: right;\">\n",
              "      <th></th>\n",
              "      <th>comment_text</th>\n",
              "      <th>toxic</th>\n",
              "      <th>severe_toxic</th>\n",
              "      <th>obscene</th>\n",
              "      <th>threat</th>\n",
              "      <th>insult</th>\n",
              "      <th>identity_hate</th>\n",
              "    </tr>\n",
              "  </thead>\n",
              "  <tbody>\n",
              "    <tr>\n",
              "      <th>0</th>\n",
              "      <td>thank understanding think highly would revert ...</td>\n",
              "      <td>0</td>\n",
              "      <td>0</td>\n",
              "      <td>0</td>\n",
              "      <td>0</td>\n",
              "      <td>0</td>\n",
              "      <td>0</td>\n",
              "    </tr>\n",
              "    <tr>\n",
              "      <th>1</th>\n",
              "      <td>dear god site horrible</td>\n",
              "      <td>0</td>\n",
              "      <td>0</td>\n",
              "      <td>0</td>\n",
              "      <td>0</td>\n",
              "      <td>0</td>\n",
              "      <td>0</td>\n",
              "    </tr>\n",
              "    <tr>\n",
              "      <th>2</th>\n",
              "      <td>somebody invariably try add religion really yo...</td>\n",
              "      <td>0</td>\n",
              "      <td>0</td>\n",
              "      <td>0</td>\n",
              "      <td>0</td>\n",
              "      <td>0</td>\n",
              "      <td>0</td>\n",
              "    </tr>\n",
              "    <tr>\n",
              "      <th>3</th>\n",
              "      <td>says right type the type institution needed ca...</td>\n",
              "      <td>0</td>\n",
              "      <td>0</td>\n",
              "      <td>0</td>\n",
              "      <td>0</td>\n",
              "      <td>0</td>\n",
              "      <td>0</td>\n",
              "    </tr>\n",
              "    <tr>\n",
              "      <th>4</th>\n",
              "      <td>before adding new product list make sure relev...</td>\n",
              "      <td>0</td>\n",
              "      <td>0</td>\n",
              "      <td>0</td>\n",
              "      <td>0</td>\n",
              "      <td>0</td>\n",
              "      <td>0</td>\n",
              "    </tr>\n",
              "  </tbody>\n",
              "</table>\n",
              "</div>\n",
              "      <button class=\"colab-df-convert\" onclick=\"convertToInteractive('df-d463d396-4262-41c4-bb1c-cced1c08cb1e')\"\n",
              "              title=\"Convert this dataframe to an interactive table.\"\n",
              "              style=\"display:none;\">\n",
              "        \n",
              "  <svg xmlns=\"http://www.w3.org/2000/svg\" height=\"24px\"viewBox=\"0 0 24 24\"\n",
              "       width=\"24px\">\n",
              "    <path d=\"M0 0h24v24H0V0z\" fill=\"none\"/>\n",
              "    <path d=\"M18.56 5.44l.94 2.06.94-2.06 2.06-.94-2.06-.94-.94-2.06-.94 2.06-2.06.94zm-11 1L8.5 8.5l.94-2.06 2.06-.94-2.06-.94L8.5 2.5l-.94 2.06-2.06.94zm10 10l.94 2.06.94-2.06 2.06-.94-2.06-.94-.94-2.06-.94 2.06-2.06.94z\"/><path d=\"M17.41 7.96l-1.37-1.37c-.4-.4-.92-.59-1.43-.59-.52 0-1.04.2-1.43.59L10.3 9.45l-7.72 7.72c-.78.78-.78 2.05 0 2.83L4 21.41c.39.39.9.59 1.41.59.51 0 1.02-.2 1.41-.59l7.78-7.78 2.81-2.81c.8-.78.8-2.07 0-2.86zM5.41 20L4 18.59l7.72-7.72 1.47 1.35L5.41 20z\"/>\n",
              "  </svg>\n",
              "      </button>\n",
              "      \n",
              "  <style>\n",
              "    .colab-df-container {\n",
              "      display:flex;\n",
              "      flex-wrap:wrap;\n",
              "      gap: 12px;\n",
              "    }\n",
              "\n",
              "    .colab-df-convert {\n",
              "      background-color: #E8F0FE;\n",
              "      border: none;\n",
              "      border-radius: 50%;\n",
              "      cursor: pointer;\n",
              "      display: none;\n",
              "      fill: #1967D2;\n",
              "      height: 32px;\n",
              "      padding: 0 0 0 0;\n",
              "      width: 32px;\n",
              "    }\n",
              "\n",
              "    .colab-df-convert:hover {\n",
              "      background-color: #E2EBFA;\n",
              "      box-shadow: 0px 1px 2px rgba(60, 64, 67, 0.3), 0px 1px 3px 1px rgba(60, 64, 67, 0.15);\n",
              "      fill: #174EA6;\n",
              "    }\n",
              "\n",
              "    [theme=dark] .colab-df-convert {\n",
              "      background-color: #3B4455;\n",
              "      fill: #D2E3FC;\n",
              "    }\n",
              "\n",
              "    [theme=dark] .colab-df-convert:hover {\n",
              "      background-color: #434B5C;\n",
              "      box-shadow: 0px 1px 3px 1px rgba(0, 0, 0, 0.15);\n",
              "      filter: drop-shadow(0px 1px 2px rgba(0, 0, 0, 0.3));\n",
              "      fill: #FFFFFF;\n",
              "    }\n",
              "  </style>\n",
              "\n",
              "      <script>\n",
              "        const buttonEl =\n",
              "          document.querySelector('#df-d463d396-4262-41c4-bb1c-cced1c08cb1e button.colab-df-convert');\n",
              "        buttonEl.style.display =\n",
              "          google.colab.kernel.accessAllowed ? 'block' : 'none';\n",
              "\n",
              "        async function convertToInteractive(key) {\n",
              "          const element = document.querySelector('#df-d463d396-4262-41c4-bb1c-cced1c08cb1e');\n",
              "          const dataTable =\n",
              "            await google.colab.kernel.invokeFunction('convertToInteractive',\n",
              "                                                     [key], {});\n",
              "          if (!dataTable) return;\n",
              "\n",
              "          const docLinkHtml = 'Like what you see? Visit the ' +\n",
              "            '<a target=\"_blank\" href=https://colab.research.google.com/notebooks/data_table.ipynb>data table notebook</a>'\n",
              "            + ' to learn more about interactive tables.';\n",
              "          element.innerHTML = '';\n",
              "          dataTable['output_type'] = 'display_data';\n",
              "          await google.colab.output.renderOutput(dataTable, element);\n",
              "          const docLink = document.createElement('div');\n",
              "          docLink.innerHTML = docLinkHtml;\n",
              "          element.appendChild(docLink);\n",
              "        }\n",
              "      </script>\n",
              "    </div>\n",
              "  </div>\n",
              "  "
            ]
          },
          "metadata": {},
          "execution_count": 6
        }
      ]
    },
    {
      "cell_type": "markdown",
      "source": [
        "# **Modèles**"
      ],
      "metadata": {
        "id": "uK-m8hpGag8M"
      }
    },
    {
      "cell_type": "markdown",
      "source": [
        "## RandomForest"
      ],
      "metadata": {
        "id": "TF8KnMkciY01"
      }
    },
    {
      "cell_type": "markdown",
      "source": [
        "On rencontre un problème pour réaliser un RandomForest sur google colabe: la quantité de données nous fait dépasse la RAM maximale allouée par google colab.\n",
        "Pour résoudre ce problème on va enlever une grosse partie des données tout en gardant les commentaires 'severe_toxic', 'threat' et 'identity_hate' car ils sont déjà peu nombreux et on risquerai de ne plus en avoir assez pour que le modèle soit significatif pour ces classes en particulier. \n",
        "Cela change la proportion de commentaire toxique, mais cela ne devrait pas changer signifcativement le résultat du modèle"
      ],
      "metadata": {
        "id": "02j2aROwg6Vq"
      }
    },
    {
      "cell_type": "code",
      "source": [
        "sample_size = int(25000)\n",
        "\n",
        "#On sépare les données à garder des données à retirer puis on retire \n",
        "#le nombre de données suffisant pour atteindre la taille de sample voulue\n",
        "data_to_keep= training_data[(training_data['severe_toxic'] == 1) | (training_data['threat'] == 1) | (training_data['identity_hate'] == 1)]\n",
        "data_to_remove_from = training_data[(training_data['severe_toxic'] == 0) & (training_data['threat'] == 0) & (training_data['identity_hate'] == 0)].head(sample_size - len(data_to_keep))\n",
        "\n",
        "#On réunit les 2 parties précédentes en mélangeant pour ne peut causer de biais\n",
        "#à cause des indices des lignes (sinon tous les commentaires 'severe_toxic', \n",
        "#'threat' et 'identity_hate' seraient au début et les autres à la fin)\n",
        "training_sample = data_to_keep.append(data_to_remove_from, ignore_index=True).sample(frac=1).reset_index(drop=True)"
      ],
      "metadata": {
        "id": "jw7FOLyva9Yr"
      },
      "execution_count": 16,
      "outputs": []
    },
    {
      "cell_type": "markdown",
      "source": [
        "On fait ensuite la même chose avec les données de test (encore une fois pour ne pas dépasser la RAM allouée par google Colab)"
      ],
      "metadata": {
        "id": "APNBJ29hsUPO"
      }
    },
    {
      "cell_type": "code",
      "source": [
        "#On sépare les données à garder des données à retirer puis on retire \n",
        "#le nombre de données suffisant pour atteindre la taille de sample voulue\n",
        "data_to_keep= test_data[(test_data['severe_toxic'] == 1) | (test_data['threat'] == 1) | (test_data['identity_hate'] == 1)]\n",
        "data_to_remove_from = test_data[(test_data['severe_toxic'] == 0) & (test_data['threat'] == 0) & (test_data['identity_hate'] == 0)].head(sample_size - len(data_to_keep))\n",
        "\n",
        "#On réunit les 2 parties précédentes en mélangeant pour ne peut causer de biais\n",
        "#à cause des indices des lignes (sinon tous les commentaires 'severe_toxic', \n",
        "#'threat' et 'identity_hate' seraient au début et les autres à la fin)\n",
        "test_sample = data_to_keep.append(data_to_remove_from, ignore_index=True).sample(frac=1).reset_index(drop=True)"
      ],
      "metadata": {
        "id": "nl7I6eJ5sSmU"
      },
      "execution_count": 17,
      "outputs": []
    },
    {
      "cell_type": "markdown",
      "source": [
        "On sépare ensuite les données des classes pour les données d'entraînement et les données de test en prévision pour le random forest"
      ],
      "metadata": {
        "id": "oivKYSgXq3v2"
      }
    },
    {
      "cell_type": "code",
      "source": [
        "training_data_sample = [*training_sample['comment_text']]\n",
        "training_labels_sample = [*training_sample.drop(['comment_text'],axis=1).values]\n",
        "#On prend un échantillon pour les tests 10 fois plus petit que celui pour l'entraînement\n",
        "test_data_sample = [*test_sample['comment_text']][:int(sample_size/10)]\n",
        "test_labels_sample = [*test_sample.drop(['comment_text'],axis=1).values][:int(sample_size/10)]"
      ],
      "metadata": {
        "id": "eP8ZDfkjh6R1"
      },
      "execution_count": 18,
      "outputs": []
    },
    {
      "cell_type": "markdown",
      "source": [
        "On crée le vecteur tfID des données d'entraînement et de test"
      ],
      "metadata": {
        "id": "39xP9M7Orhvx"
      }
    },
    {
      "cell_type": "code",
      "source": [
        "Data_temp = training_data_sample.copy()\n",
        "Data_temp.extend(test_data_sample)\n",
        "tfIdfVectorizer = TfidfVectorizer()\n",
        "Data_tfID = tfIdfVectorizer.fit_transform(Data_temp).toarray()\n",
        "\n",
        "training_data_tfID = Data_tfID[:sample_size]\n",
        "test_data_tfID= Data_tfID[sample_size:]"
      ],
      "metadata": {
        "id": "xZMhI1HSg9qp"
      },
      "execution_count": 19,
      "outputs": []
    },
    {
      "cell_type": "code",
      "source": [
        "#inutile si on les valeurs tests prévu dans le fichier test\n",
        "\n",
        "#X_train, X_test, y_train, y_test = train_test_split(X, y, test_size=.10, random_state=3, stratify = y)"
      ],
      "metadata": {
        "id": "CtpoJg-xhEvx"
      },
      "execution_count": 20,
      "outputs": []
    },
    {
      "cell_type": "markdown",
      "source": [
        "On n'utilise que 15 estimateurs pour ne pas utiliser\n",
        "trop de RAM"
      ],
      "metadata": {
        "id": "LBdBL-dyrndK"
      }
    },
    {
      "cell_type": "code",
      "source": [
        "text_classifier = RandomForestClassifier(n_estimators=15, random_state=0)  "
      ],
      "metadata": {
        "id": "6zSpx6uIhLPh"
      },
      "execution_count": 21,
      "outputs": []
    },
    {
      "cell_type": "markdown",
      "source": [
        "On entraîne le modèle"
      ],
      "metadata": {
        "id": "aVjaTrSOrvtS"
      }
    },
    {
      "cell_type": "code",
      "source": [
        "text_classifier.fit(training_data_tfID, training_labels_sample )"
      ],
      "metadata": {
        "colab": {
          "base_uri": "https://localhost:8080/"
        },
        "id": "arRXOKsplWt8",
        "outputId": "983bce90-c73b-496c-802b-a7bdeb0d3600"
      },
      "execution_count": 22,
      "outputs": [
        {
          "output_type": "execute_result",
          "data": {
            "text/plain": [
              "RandomForestClassifier(n_estimators=15, random_state=0)"
            ]
          },
          "metadata": {},
          "execution_count": 22
        }
      ]
    },
    {
      "cell_type": "markdown",
      "metadata": {
        "id": "8m6k9TJzg6eL"
      },
      "source": [
        "On calcule la prédiction sur les données test Pour pouvoir effectuer quelques mesures de performances:\n",
        "- matrice de confusion ([doc](https://scikit-learn.org/stable/modules/generated/sklearn.metrics.confusion_matrix.html)) ;\n",
        "- rapport de classification ([doc](https://scikit-learn.org/stable/modules/generated/sklearn.metrics.classification_report.html)) ;\n",
        "- précision ([doc](https://scikit-learn.org/stable/modules/generated/sklearn.metrics.accuracy_score.html))."
      ]
    },
    {
      "cell_type": "code",
      "metadata": {
        "id": "J5BWYCO_g9Zq"
      },
      "source": [
        "predictions = text_classifier.predict(test_data_tfID)"
      ],
      "execution_count": 23,
      "outputs": []
    },
    {
      "cell_type": "code",
      "metadata": {
        "colab": {
          "base_uri": "https://localhost:8080/"
        },
        "id": "v5hO6AHdgTRV",
        "outputId": "ef4b5043-59cf-4b0b-9a25-848dbe4d1920"
      },
      "source": [
        "#print(confusion_matrix(y_test,predictions)) \n",
        "\n",
        "print(classification_report(test_labels_sample,predictions))  \n",
        "\n",
        "print(accuracy_score(test_labels_sample, predictions))"
      ],
      "execution_count": 24,
      "outputs": [
        {
          "output_type": "stream",
          "name": "stdout",
          "text": [
            "              precision    recall  f1-score   support\n",
            "\n",
            "           0       0.71      0.70      0.71       294\n",
            "           1       0.34      0.61      0.44        36\n",
            "           2       0.72      0.60      0.66       191\n",
            "           3       0.50      0.37      0.42        19\n",
            "           4       0.69      0.55      0.61       185\n",
            "           5       0.67      0.34      0.45        65\n",
            "\n",
            "   micro avg       0.67      0.60      0.63       790\n",
            "   macro avg       0.61      0.53      0.55       790\n",
            "weighted avg       0.68      0.60      0.63       790\n",
            " samples avg       0.07      0.07      0.07       790\n",
            "\n",
            "0.8724\n"
          ]
        },
        {
          "output_type": "stream",
          "name": "stderr",
          "text": [
            "/usr/local/lib/python3.8/dist-packages/sklearn/metrics/_classification.py:1318: UndefinedMetricWarning: Precision and F-score are ill-defined and being set to 0.0 in samples with no predicted labels. Use `zero_division` parameter to control this behavior.\n",
            "  _warn_prf(average, modifier, msg_start, len(result))\n",
            "/usr/local/lib/python3.8/dist-packages/sklearn/metrics/_classification.py:1318: UndefinedMetricWarning: Recall and F-score are ill-defined and being set to 0.0 in samples with no true labels. Use `zero_division` parameter to control this behavior.\n",
            "  _warn_prf(average, modifier, msg_start, len(result))\n"
          ]
        }
      ]
    },
    {
      "cell_type": "markdown",
      "source": [
        "# Entraînement du modèle baseline"
      ],
      "metadata": {
        "id": "LxNIQgESTCmE"
      }
    },
    {
      "cell_type": "code",
      "source": [
        "# Your Code"
      ],
      "metadata": {
        "id": "YgkPpzIzSQUi"
      },
      "execution_count": null,
      "outputs": []
    },
    {
      "cell_type": "markdown",
      "source": [
        "# Itération de la modélisation "
      ],
      "metadata": {
        "id": "2a8IWbTFTHXh"
      }
    },
    {
      "cell_type": "code",
      "source": [
        "# Your Code "
      ],
      "metadata": {
        "id": "rVR0eCkoTQSI"
      },
      "execution_count": null,
      "outputs": []
    }
  ]
}