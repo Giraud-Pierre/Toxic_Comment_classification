{
  "nbformat": 4,
  "nbformat_minor": 0,
  "metadata": {
    "colab": {
      "provenance": [],
      "collapsed_sections": [
        "xZLpUMItRWc0",
        "-kUWzBzISpsK",
        "tvhdEUGe3tpY",
        "t7NZiVLY39ak",
        "myHN502fX3-D",
        "-wCWxMIaYUC_",
        "TF8KnMkciY01",
        "UbeCaDnn5qkK",
        "VJ8LKUzV2RKU",
        "D-gr9314F_ZP",
        "6WWIQ73W_WD9"
      ],
      "include_colab_link": true
    },
    "kernelspec": {
      "name": "python3",
      "display_name": "Python 3"
    },
    "language_info": {
      "name": "python"
    },
    "accelerator": "GPU",
    "gpuClass": "standard"
  },
  "cells": [
    {
      "cell_type": "markdown",
      "metadata": {
        "id": "view-in-github",
        "colab_type": "text"
      },
      "source": [
        "<a href=\"https://colab.research.google.com/github/Giraud-Pierre/Toxic_Comment_classification/blob/LSTM/Classification_commentaires_toxiques_2.ipynb\" target=\"_parent\"><img src=\"https://colab.research.google.com/assets/colab-badge.svg\" alt=\"Open In Colab\"/></a>"
      ]
    },
    {
      "cell_type": "markdown",
      "source": [
        "# **Importation des packages**"
      ],
      "metadata": {
        "id": "_lyJzHuKRNWX"
      }
    },
    {
      "cell_type": "code",
      "source": [
        "from google.colab import drive\n",
        "drive.mount('/content/drive', force_remount=True)"
      ],
      "metadata": {
        "colab": {
          "base_uri": "https://localhost:8080/"
        },
        "id": "4FktfCVaRVrs",
        "outputId": "86d777bf-f84c-484e-af0e-1a9282f09958"
      },
      "execution_count": 1,
      "outputs": [
        {
          "output_type": "stream",
          "name": "stdout",
          "text": [
            "Mounted at /content/drive\n"
          ]
        }
      ]
    },
    {
      "cell_type": "code",
      "execution_count": 2,
      "metadata": {
        "id": "MUj96QiIQsJ_",
        "colab": {
          "base_uri": "https://localhost:8080/"
        },
        "outputId": "a66b74da-c94c-4c96-9de1-eba8282db351"
      },
      "outputs": [
        {
          "output_type": "stream",
          "name": "stdout",
          "text": [
            "Looking in indexes: https://pypi.org/simple, https://us-python.pkg.dev/colab-wheels/public/simple/\n",
            "Requirement already satisfied: tensorflow-addons in /usr/local/lib/python3.8/dist-packages (0.19.0)\n",
            "Requirement already satisfied: packaging in /usr/local/lib/python3.8/dist-packages (from tensorflow-addons) (23.0)\n",
            "Requirement already satisfied: typeguard>=2.7 in /usr/local/lib/python3.8/dist-packages (from tensorflow-addons) (2.7.1)\n"
          ]
        }
      ],
      "source": [
        "from time import time\n",
        "import numpy as np\n",
        "import pandas as pd\n",
        "import random\n",
        "\n",
        "# Import Regex to clean up tweets\n",
        "import re\n",
        "\n",
        "\n",
        "# TF IDF Imports\n",
        "from sklearn.feature_extraction.text import TfidfVectorizer \n",
        "from sklearn.model_selection import train_test_split  \n",
        "from scipy.sparse import csc_matrix\n",
        "from sklearn.ensemble import RandomForestClassifier\n",
        "from sklearn.metrics import classification_report, confusion_matrix, accuracy_score\n",
        "from joblib import dump, load\n",
        "\n",
        "# RNN & LSTM Imports\n",
        "\n",
        "from tensorflow.keras.preprocessing.sequence import pad_sequences\n",
        "from tensorflow.keras.layers import Embedding, LSTM, Dense, Dropout, Bidirectional, BatchNormalization\n",
        "from tensorflow.keras.preprocessing.text import Tokenizer\n",
        "from tensorflow.keras.models import Sequential\n",
        "from tensorflow.keras.optimizers import Adam\n",
        "from tensorflow.keras import regularizers\n",
        "from tensorflow.keras.callbacks import ModelCheckpoint\n",
        "!pip install tensorflow-addons\n",
        "from tensorflow_addons.metrics import F1Score\n",
        "\n",
        "# Visuals\n",
        "import matplotlib.image  as mpimg\n",
        "import matplotlib.pyplot as plt\n",
        "\n",
        "# Pipeline\n",
        "from sklearn.metrics import f1_score"
      ]
    },
    {
      "cell_type": "markdown",
      "source": [
        "# **Importation des données**"
      ],
      "metadata": {
        "id": "xZLpUMItRWc0"
      }
    },
    {
      "cell_type": "markdown",
      "source": [
        "Ajoutez un raccourci de ce dossier à votre google drive :\n",
        "\n",
        "https://drive.google.com/drive/folders/1mx-CAzT10YKrmxHfYDP_1Oef7PVGUr7s?usp=sharing"
      ],
      "metadata": {
        "id": "cbE3MzVKRaV2"
      }
    },
    {
      "cell_type": "code",
      "source": [
        "training_data = pd.read_csv('/content/drive/MyDrive/NLP_4A/Projet/data_classification_commentaires_toxiques/train.csv')\n",
        "test_comment = pd.read_csv('/content/drive/MyDrive/NLP_4A/Projet/data_classification_commentaires_toxiques/test.csv')\n",
        "test_label = pd.read_csv('/content/drive/MyDrive/NLP_4A/Projet/data_classification_commentaires_toxiques/test_labels.csv')\n",
        "training_data.head()"
      ],
      "metadata": {
        "colab": {
          "base_uri": "https://localhost:8080/",
          "height": 461
        },
        "id": "qky64Lq8Rocy",
        "outputId": "bcd484d1-806c-40bd-eae0-51e86fa70734"
      },
      "execution_count": null,
      "outputs": [
        {
          "output_type": "execute_result",
          "data": {
            "text/plain": [
              "                 id                                       comment_text  toxic  \\\n",
              "0  0000997932d777bf  Explanation\\nWhy the edits made under my usern...      0   \n",
              "1  000103f0d9cfb60f  D'aww! He matches this background colour I'm s...      0   \n",
              "2  000113f07ec002fd  Hey man, I'm really not trying to edit war. It...      0   \n",
              "3  0001b41b1c6bb37e  \"\\nMore\\nI can't make any real suggestions on ...      0   \n",
              "4  0001d958c54c6e35  You, sir, are my hero. Any chance you remember...      0   \n",
              "\n",
              "   severe_toxic  obscene  threat  insult  identity_hate  \n",
              "0             0        0       0       0              0  \n",
              "1             0        0       0       0              0  \n",
              "2             0        0       0       0              0  \n",
              "3             0        0       0       0              0  \n",
              "4             0        0       0       0              0  "
            ],
            "text/html": [
              "\n",
              "  <div id=\"df-69892494-af2b-4b09-8205-95369921cb0c\">\n",
              "    <div class=\"colab-df-container\">\n",
              "      <div>\n",
              "<style scoped>\n",
              "    .dataframe tbody tr th:only-of-type {\n",
              "        vertical-align: middle;\n",
              "    }\n",
              "\n",
              "    .dataframe tbody tr th {\n",
              "        vertical-align: top;\n",
              "    }\n",
              "\n",
              "    .dataframe thead th {\n",
              "        text-align: right;\n",
              "    }\n",
              "</style>\n",
              "<table border=\"1\" class=\"dataframe\">\n",
              "  <thead>\n",
              "    <tr style=\"text-align: right;\">\n",
              "      <th></th>\n",
              "      <th>id</th>\n",
              "      <th>comment_text</th>\n",
              "      <th>toxic</th>\n",
              "      <th>severe_toxic</th>\n",
              "      <th>obscene</th>\n",
              "      <th>threat</th>\n",
              "      <th>insult</th>\n",
              "      <th>identity_hate</th>\n",
              "    </tr>\n",
              "  </thead>\n",
              "  <tbody>\n",
              "    <tr>\n",
              "      <th>0</th>\n",
              "      <td>0000997932d777bf</td>\n",
              "      <td>Explanation\\nWhy the edits made under my usern...</td>\n",
              "      <td>0</td>\n",
              "      <td>0</td>\n",
              "      <td>0</td>\n",
              "      <td>0</td>\n",
              "      <td>0</td>\n",
              "      <td>0</td>\n",
              "    </tr>\n",
              "    <tr>\n",
              "      <th>1</th>\n",
              "      <td>000103f0d9cfb60f</td>\n",
              "      <td>D'aww! He matches this background colour I'm s...</td>\n",
              "      <td>0</td>\n",
              "      <td>0</td>\n",
              "      <td>0</td>\n",
              "      <td>0</td>\n",
              "      <td>0</td>\n",
              "      <td>0</td>\n",
              "    </tr>\n",
              "    <tr>\n",
              "      <th>2</th>\n",
              "      <td>000113f07ec002fd</td>\n",
              "      <td>Hey man, I'm really not trying to edit war. It...</td>\n",
              "      <td>0</td>\n",
              "      <td>0</td>\n",
              "      <td>0</td>\n",
              "      <td>0</td>\n",
              "      <td>0</td>\n",
              "      <td>0</td>\n",
              "    </tr>\n",
              "    <tr>\n",
              "      <th>3</th>\n",
              "      <td>0001b41b1c6bb37e</td>\n",
              "      <td>\"\\nMore\\nI can't make any real suggestions on ...</td>\n",
              "      <td>0</td>\n",
              "      <td>0</td>\n",
              "      <td>0</td>\n",
              "      <td>0</td>\n",
              "      <td>0</td>\n",
              "      <td>0</td>\n",
              "    </tr>\n",
              "    <tr>\n",
              "      <th>4</th>\n",
              "      <td>0001d958c54c6e35</td>\n",
              "      <td>You, sir, are my hero. Any chance you remember...</td>\n",
              "      <td>0</td>\n",
              "      <td>0</td>\n",
              "      <td>0</td>\n",
              "      <td>0</td>\n",
              "      <td>0</td>\n",
              "      <td>0</td>\n",
              "    </tr>\n",
              "  </tbody>\n",
              "</table>\n",
              "</div>\n",
              "      <button class=\"colab-df-convert\" onclick=\"convertToInteractive('df-69892494-af2b-4b09-8205-95369921cb0c')\"\n",
              "              title=\"Convert this dataframe to an interactive table.\"\n",
              "              style=\"display:none;\">\n",
              "        \n",
              "  <svg xmlns=\"http://www.w3.org/2000/svg\" height=\"24px\"viewBox=\"0 0 24 24\"\n",
              "       width=\"24px\">\n",
              "    <path d=\"M0 0h24v24H0V0z\" fill=\"none\"/>\n",
              "    <path d=\"M18.56 5.44l.94 2.06.94-2.06 2.06-.94-2.06-.94-.94-2.06-.94 2.06-2.06.94zm-11 1L8.5 8.5l.94-2.06 2.06-.94-2.06-.94L8.5 2.5l-.94 2.06-2.06.94zm10 10l.94 2.06.94-2.06 2.06-.94-2.06-.94-.94-2.06-.94 2.06-2.06.94z\"/><path d=\"M17.41 7.96l-1.37-1.37c-.4-.4-.92-.59-1.43-.59-.52 0-1.04.2-1.43.59L10.3 9.45l-7.72 7.72c-.78.78-.78 2.05 0 2.83L4 21.41c.39.39.9.59 1.41.59.51 0 1.02-.2 1.41-.59l7.78-7.78 2.81-2.81c.8-.78.8-2.07 0-2.86zM5.41 20L4 18.59l7.72-7.72 1.47 1.35L5.41 20z\"/>\n",
              "  </svg>\n",
              "      </button>\n",
              "      \n",
              "  <style>\n",
              "    .colab-df-container {\n",
              "      display:flex;\n",
              "      flex-wrap:wrap;\n",
              "      gap: 12px;\n",
              "    }\n",
              "\n",
              "    .colab-df-convert {\n",
              "      background-color: #E8F0FE;\n",
              "      border: none;\n",
              "      border-radius: 50%;\n",
              "      cursor: pointer;\n",
              "      display: none;\n",
              "      fill: #1967D2;\n",
              "      height: 32px;\n",
              "      padding: 0 0 0 0;\n",
              "      width: 32px;\n",
              "    }\n",
              "\n",
              "    .colab-df-convert:hover {\n",
              "      background-color: #E2EBFA;\n",
              "      box-shadow: 0px 1px 2px rgba(60, 64, 67, 0.3), 0px 1px 3px 1px rgba(60, 64, 67, 0.15);\n",
              "      fill: #174EA6;\n",
              "    }\n",
              "\n",
              "    [theme=dark] .colab-df-convert {\n",
              "      background-color: #3B4455;\n",
              "      fill: #D2E3FC;\n",
              "    }\n",
              "\n",
              "    [theme=dark] .colab-df-convert:hover {\n",
              "      background-color: #434B5C;\n",
              "      box-shadow: 0px 1px 3px 1px rgba(0, 0, 0, 0.15);\n",
              "      filter: drop-shadow(0px 1px 2px rgba(0, 0, 0, 0.3));\n",
              "      fill: #FFFFFF;\n",
              "    }\n",
              "  </style>\n",
              "\n",
              "      <script>\n",
              "        const buttonEl =\n",
              "          document.querySelector('#df-69892494-af2b-4b09-8205-95369921cb0c button.colab-df-convert');\n",
              "        buttonEl.style.display =\n",
              "          google.colab.kernel.accessAllowed ? 'block' : 'none';\n",
              "\n",
              "        async function convertToInteractive(key) {\n",
              "          const element = document.querySelector('#df-69892494-af2b-4b09-8205-95369921cb0c');\n",
              "          const dataTable =\n",
              "            await google.colab.kernel.invokeFunction('convertToInteractive',\n",
              "                                                     [key], {});\n",
              "          if (!dataTable) return;\n",
              "\n",
              "          const docLinkHtml = 'Like what you see? Visit the ' +\n",
              "            '<a target=\"_blank\" href=https://colab.research.google.com/notebooks/data_table.ipynb>data table notebook</a>'\n",
              "            + ' to learn more about interactive tables.';\n",
              "          element.innerHTML = '';\n",
              "          dataTable['output_type'] = 'display_data';\n",
              "          await google.colab.output.renderOutput(dataTable, element);\n",
              "          const docLink = document.createElement('div');\n",
              "          docLink.innerHTML = docLinkHtml;\n",
              "          element.appendChild(docLink);\n",
              "        }\n",
              "      </script>\n",
              "    </div>\n",
              "  </div>\n",
              "  "
            ]
          },
          "metadata": {},
          "execution_count": 32
        }
      ]
    },
    {
      "cell_type": "markdown",
      "source": [
        "On supprime la colonne id qui est inutile dans cette situation et on récupère les noms des différentes classes."
      ],
      "metadata": {
        "id": "-QGSCEFyL1JE"
      }
    },
    {
      "cell_type": "code",
      "source": [
        "training_data = training_data.drop(['id'], axis = 1)\n",
        "test_data = test_comment.drop(['id'], axis = 1)\n",
        "test_label = test_label.drop(['id'], axis = 1)"
      ],
      "metadata": {
        "id": "5sK7cGIJLusI"
      },
      "execution_count": null,
      "outputs": []
    },
    {
      "cell_type": "code",
      "source": [
        "labels = training_data.drop(['comment_text'],axis = 1).columns\n",
        "labels"
      ],
      "metadata": {
        "colab": {
          "base_uri": "https://localhost:8080/"
        },
        "id": "kM2msaUfM7hD",
        "outputId": "65a2153a-7251-4f19-a393-cf1eb7525ad5"
      },
      "execution_count": null,
      "outputs": [
        {
          "output_type": "execute_result",
          "data": {
            "text/plain": [
              "Index(['toxic', 'severe_toxic', 'obscene', 'threat', 'insult',\n",
              "       'identity_hate'],\n",
              "      dtype='object')"
            ]
          },
          "metadata": {},
          "execution_count": 34
        }
      ]
    },
    {
      "cell_type": "code",
      "source": [
        "for label in labels:\n",
        "  test_data = test_data.join(test_label[label])"
      ],
      "metadata": {
        "id": "834Ed-zI3jWZ"
      },
      "execution_count": null,
      "outputs": []
    },
    {
      "cell_type": "markdown",
      "source": [
        "Certaine données du test ont été exclue par l'étude et sont signalé par la valeur -1 dans tous leur libellés. On va donc les retirer des données test."
      ],
      "metadata": {
        "id": "Dw4oB1Fp3jy2"
      }
    },
    {
      "cell_type": "code",
      "source": [
        "test_data = pd.DataFrame(test_data[test_data[labels[0]]!=-1])\n",
        "test_data.head()"
      ],
      "metadata": {
        "colab": {
          "base_uri": "https://localhost:8080/",
          "height": 389
        },
        "id": "z8NDVvpS3kUq",
        "outputId": "2f8a151c-3eee-4927-919e-3bef991e018b"
      },
      "execution_count": null,
      "outputs": [
        {
          "output_type": "execute_result",
          "data": {
            "text/plain": [
              "                                         comment_text  toxic  severe_toxic  \\\n",
              "5   Thank you for understanding. I think very high...      0             0   \n",
              "7                    :Dear god this site is horrible.      0             0   \n",
              "11  \"::: Somebody will invariably try to add Relig...      0             0   \n",
              "13  \" \\n\\n It says it right there that it IS a typ...      0             0   \n",
              "14  \" \\n\\n == Before adding a new product to the l...      0             0   \n",
              "\n",
              "    obscene  threat  insult  identity_hate  \n",
              "5         0       0       0              0  \n",
              "7         0       0       0              0  \n",
              "11        0       0       0              0  \n",
              "13        0       0       0              0  \n",
              "14        0       0       0              0  "
            ],
            "text/html": [
              "\n",
              "  <div id=\"df-0eb592fc-3e2e-4a7a-af4d-9d76f63812c5\">\n",
              "    <div class=\"colab-df-container\">\n",
              "      <div>\n",
              "<style scoped>\n",
              "    .dataframe tbody tr th:only-of-type {\n",
              "        vertical-align: middle;\n",
              "    }\n",
              "\n",
              "    .dataframe tbody tr th {\n",
              "        vertical-align: top;\n",
              "    }\n",
              "\n",
              "    .dataframe thead th {\n",
              "        text-align: right;\n",
              "    }\n",
              "</style>\n",
              "<table border=\"1\" class=\"dataframe\">\n",
              "  <thead>\n",
              "    <tr style=\"text-align: right;\">\n",
              "      <th></th>\n",
              "      <th>comment_text</th>\n",
              "      <th>toxic</th>\n",
              "      <th>severe_toxic</th>\n",
              "      <th>obscene</th>\n",
              "      <th>threat</th>\n",
              "      <th>insult</th>\n",
              "      <th>identity_hate</th>\n",
              "    </tr>\n",
              "  </thead>\n",
              "  <tbody>\n",
              "    <tr>\n",
              "      <th>5</th>\n",
              "      <td>Thank you for understanding. I think very high...</td>\n",
              "      <td>0</td>\n",
              "      <td>0</td>\n",
              "      <td>0</td>\n",
              "      <td>0</td>\n",
              "      <td>0</td>\n",
              "      <td>0</td>\n",
              "    </tr>\n",
              "    <tr>\n",
              "      <th>7</th>\n",
              "      <td>:Dear god this site is horrible.</td>\n",
              "      <td>0</td>\n",
              "      <td>0</td>\n",
              "      <td>0</td>\n",
              "      <td>0</td>\n",
              "      <td>0</td>\n",
              "      <td>0</td>\n",
              "    </tr>\n",
              "    <tr>\n",
              "      <th>11</th>\n",
              "      <td>\"::: Somebody will invariably try to add Relig...</td>\n",
              "      <td>0</td>\n",
              "      <td>0</td>\n",
              "      <td>0</td>\n",
              "      <td>0</td>\n",
              "      <td>0</td>\n",
              "      <td>0</td>\n",
              "    </tr>\n",
              "    <tr>\n",
              "      <th>13</th>\n",
              "      <td>\" \\n\\n It says it right there that it IS a typ...</td>\n",
              "      <td>0</td>\n",
              "      <td>0</td>\n",
              "      <td>0</td>\n",
              "      <td>0</td>\n",
              "      <td>0</td>\n",
              "      <td>0</td>\n",
              "    </tr>\n",
              "    <tr>\n",
              "      <th>14</th>\n",
              "      <td>\" \\n\\n == Before adding a new product to the l...</td>\n",
              "      <td>0</td>\n",
              "      <td>0</td>\n",
              "      <td>0</td>\n",
              "      <td>0</td>\n",
              "      <td>0</td>\n",
              "      <td>0</td>\n",
              "    </tr>\n",
              "  </tbody>\n",
              "</table>\n",
              "</div>\n",
              "      <button class=\"colab-df-convert\" onclick=\"convertToInteractive('df-0eb592fc-3e2e-4a7a-af4d-9d76f63812c5')\"\n",
              "              title=\"Convert this dataframe to an interactive table.\"\n",
              "              style=\"display:none;\">\n",
              "        \n",
              "  <svg xmlns=\"http://www.w3.org/2000/svg\" height=\"24px\"viewBox=\"0 0 24 24\"\n",
              "       width=\"24px\">\n",
              "    <path d=\"M0 0h24v24H0V0z\" fill=\"none\"/>\n",
              "    <path d=\"M18.56 5.44l.94 2.06.94-2.06 2.06-.94-2.06-.94-.94-2.06-.94 2.06-2.06.94zm-11 1L8.5 8.5l.94-2.06 2.06-.94-2.06-.94L8.5 2.5l-.94 2.06-2.06.94zm10 10l.94 2.06.94-2.06 2.06-.94-2.06-.94-.94-2.06-.94 2.06-2.06.94z\"/><path d=\"M17.41 7.96l-1.37-1.37c-.4-.4-.92-.59-1.43-.59-.52 0-1.04.2-1.43.59L10.3 9.45l-7.72 7.72c-.78.78-.78 2.05 0 2.83L4 21.41c.39.39.9.59 1.41.59.51 0 1.02-.2 1.41-.59l7.78-7.78 2.81-2.81c.8-.78.8-2.07 0-2.86zM5.41 20L4 18.59l7.72-7.72 1.47 1.35L5.41 20z\"/>\n",
              "  </svg>\n",
              "      </button>\n",
              "      \n",
              "  <style>\n",
              "    .colab-df-container {\n",
              "      display:flex;\n",
              "      flex-wrap:wrap;\n",
              "      gap: 12px;\n",
              "    }\n",
              "\n",
              "    .colab-df-convert {\n",
              "      background-color: #E8F0FE;\n",
              "      border: none;\n",
              "      border-radius: 50%;\n",
              "      cursor: pointer;\n",
              "      display: none;\n",
              "      fill: #1967D2;\n",
              "      height: 32px;\n",
              "      padding: 0 0 0 0;\n",
              "      width: 32px;\n",
              "    }\n",
              "\n",
              "    .colab-df-convert:hover {\n",
              "      background-color: #E2EBFA;\n",
              "      box-shadow: 0px 1px 2px rgba(60, 64, 67, 0.3), 0px 1px 3px 1px rgba(60, 64, 67, 0.15);\n",
              "      fill: #174EA6;\n",
              "    }\n",
              "\n",
              "    [theme=dark] .colab-df-convert {\n",
              "      background-color: #3B4455;\n",
              "      fill: #D2E3FC;\n",
              "    }\n",
              "\n",
              "    [theme=dark] .colab-df-convert:hover {\n",
              "      background-color: #434B5C;\n",
              "      box-shadow: 0px 1px 3px 1px rgba(0, 0, 0, 0.15);\n",
              "      filter: drop-shadow(0px 1px 2px rgba(0, 0, 0, 0.3));\n",
              "      fill: #FFFFFF;\n",
              "    }\n",
              "  </style>\n",
              "\n",
              "      <script>\n",
              "        const buttonEl =\n",
              "          document.querySelector('#df-0eb592fc-3e2e-4a7a-af4d-9d76f63812c5 button.colab-df-convert');\n",
              "        buttonEl.style.display =\n",
              "          google.colab.kernel.accessAllowed ? 'block' : 'none';\n",
              "\n",
              "        async function convertToInteractive(key) {\n",
              "          const element = document.querySelector('#df-0eb592fc-3e2e-4a7a-af4d-9d76f63812c5');\n",
              "          const dataTable =\n",
              "            await google.colab.kernel.invokeFunction('convertToInteractive',\n",
              "                                                     [key], {});\n",
              "          if (!dataTable) return;\n",
              "\n",
              "          const docLinkHtml = 'Like what you see? Visit the ' +\n",
              "            '<a target=\"_blank\" href=https://colab.research.google.com/notebooks/data_table.ipynb>data table notebook</a>'\n",
              "            + ' to learn more about interactive tables.';\n",
              "          element.innerHTML = '';\n",
              "          dataTable['output_type'] = 'display_data';\n",
              "          await google.colab.output.renderOutput(dataTable, element);\n",
              "          const docLink = document.createElement('div');\n",
              "          docLink.innerHTML = docLinkHtml;\n",
              "          element.appendChild(docLink);\n",
              "        }\n",
              "      </script>\n",
              "    </div>\n",
              "  </div>\n",
              "  "
            ]
          },
          "metadata": {},
          "execution_count": 36
        }
      ]
    },
    {
      "cell_type": "markdown",
      "source": [
        "# **Etude des jeux de données**"
      ],
      "metadata": {
        "id": "-kUWzBzISpsK"
      }
    },
    {
      "cell_type": "markdown",
      "source": [
        "## Etude des données d'entraînement"
      ],
      "metadata": {
        "id": "tvhdEUGe3tpY"
      }
    },
    {
      "cell_type": "markdown",
      "source": [
        "On calcule le nombre de commentaires dans chaque catégorie et leur proportion dans le nombre de commentaires totaux"
      ],
      "metadata": {
        "id": "4ruN0VJoWCIv"
      }
    },
    {
      "cell_type": "code",
      "source": [
        "training_comments_repartition = {'total' : len(training_data)}\n",
        "for label in labels:\n",
        "  training_comments_repartition[label] = len(training_data[training_data[label] == 1])\n",
        "training_comments_repartition"
      ],
      "metadata": {
        "colab": {
          "base_uri": "https://localhost:8080/"
        },
        "id": "r3POpoMCKiV-",
        "outputId": "1c63f3df-db1d-477b-c79b-81b6ec632657"
      },
      "execution_count": null,
      "outputs": [
        {
          "output_type": "execute_result",
          "data": {
            "text/plain": [
              "{'total': 159571,\n",
              " 'toxic': 15294,\n",
              " 'severe_toxic': 1595,\n",
              " 'obscene': 8449,\n",
              " 'threat': 478,\n",
              " 'insult': 7877,\n",
              " 'identity_hate': 1405}"
            ]
          },
          "metadata": {},
          "execution_count": 37
        }
      ]
    },
    {
      "cell_type": "code",
      "source": [
        "training_comments_proportion = {}\n",
        "for label in labels:\n",
        "  training_comments_proportion[label] = str(round(training_comments_repartition[label]*100 / training_comments_repartition['total'],2)) + \"% des commentaires totaux\"\n",
        "training_comments_proportion"
      ],
      "metadata": {
        "colab": {
          "base_uri": "https://localhost:8080/"
        },
        "id": "3LtlbnVIR8wM",
        "outputId": "b3c5a6cc-28ca-4ebf-9fc0-31f987cee3f2"
      },
      "execution_count": null,
      "outputs": [
        {
          "output_type": "execute_result",
          "data": {
            "text/plain": [
              "{'toxic': '9.58% des commentaires totaux',\n",
              " 'severe_toxic': '1.0% des commentaires totaux',\n",
              " 'obscene': '5.29% des commentaires totaux',\n",
              " 'threat': '0.3% des commentaires totaux',\n",
              " 'insult': '4.94% des commentaires totaux',\n",
              " 'identity_hate': '0.88% des commentaires totaux'}"
            ]
          },
          "metadata": {},
          "execution_count": 38
        }
      ]
    },
    {
      "cell_type": "markdown",
      "source": [
        "On calcule le nombre de commentaires en commun entre 2 classes et leur proportion dans le nombre de commentaires d'une de ces 2 classes"
      ],
      "metadata": {
        "id": "anavu2UAWQsP"
      }
    },
    {
      "cell_type": "code",
      "source": [
        "two_classes_training_comments_repartition={}\n",
        "two_classes_training_commments_proportion={}\n",
        "for label1 in labels:\n",
        "  two_classes_training_comments_repartition[label1] =  \"\"   #Pour améliorer la lisibilité, on ajoute une ligne indiquant la catégorie dans laquelle on se trouve\n",
        "  two_classes_training_commments_proportion[label1] =  \"\"   #Identique à la ligne ci-dessus\n",
        "  for label2 in labels:\n",
        "    if(label1 != label2):\n",
        "      two_classes_training_comments_repartition[label1 + \" and \" + label2] = len(training_data[(training_data[label1] == 1) & (training_data[label2] == 1)])\n",
        "      two_classes_training_commments_proportion[label1 + \" and \" + label2] = (\n",
        "                                        str(round(two_classes_training_comments_repartition[label1 + \" and \" + label2] * 100 / training_comments_repartition[label1],2)) \n",
        "                                        + \"% des commentaires \" \n",
        "                                        + label1)\n",
        "two_classes_training_comments_repartition"
      ],
      "metadata": {
        "colab": {
          "base_uri": "https://localhost:8080/"
        },
        "id": "PxBtky96PZCT",
        "outputId": "34e22107-3a34-4ef2-da53-199ce34480be"
      },
      "execution_count": null,
      "outputs": [
        {
          "output_type": "execute_result",
          "data": {
            "text/plain": [
              "{'toxic': '',\n",
              " 'toxic and severe_toxic': 1595,\n",
              " 'toxic and obscene': 7926,\n",
              " 'toxic and threat': 449,\n",
              " 'toxic and insult': 7344,\n",
              " 'toxic and identity_hate': 1302,\n",
              " 'severe_toxic': '',\n",
              " 'severe_toxic and toxic': 1595,\n",
              " 'severe_toxic and obscene': 1517,\n",
              " 'severe_toxic and threat': 112,\n",
              " 'severe_toxic and insult': 1371,\n",
              " 'severe_toxic and identity_hate': 313,\n",
              " 'obscene': '',\n",
              " 'obscene and toxic': 7926,\n",
              " 'obscene and severe_toxic': 1517,\n",
              " 'obscene and threat': 301,\n",
              " 'obscene and insult': 6155,\n",
              " 'obscene and identity_hate': 1032,\n",
              " 'threat': '',\n",
              " 'threat and toxic': 449,\n",
              " 'threat and severe_toxic': 112,\n",
              " 'threat and obscene': 301,\n",
              " 'threat and insult': 307,\n",
              " 'threat and identity_hate': 98,\n",
              " 'insult': '',\n",
              " 'insult and toxic': 7344,\n",
              " 'insult and severe_toxic': 1371,\n",
              " 'insult and obscene': 6155,\n",
              " 'insult and threat': 307,\n",
              " 'insult and identity_hate': 1160,\n",
              " 'identity_hate': '',\n",
              " 'identity_hate and toxic': 1302,\n",
              " 'identity_hate and severe_toxic': 313,\n",
              " 'identity_hate and obscene': 1032,\n",
              " 'identity_hate and threat': 98,\n",
              " 'identity_hate and insult': 1160}"
            ]
          },
          "metadata": {},
          "execution_count": 39
        }
      ]
    },
    {
      "cell_type": "code",
      "source": [
        "two_classes_training_commments_proportion"
      ],
      "metadata": {
        "colab": {
          "base_uri": "https://localhost:8080/"
        },
        "id": "GPxPC-fkVGbA",
        "outputId": "b1540dde-2c6d-4b17-dbc3-c3d7751786ce"
      },
      "execution_count": null,
      "outputs": [
        {
          "output_type": "execute_result",
          "data": {
            "text/plain": [
              "{'toxic': '',\n",
              " 'toxic and severe_toxic': '10.43% des commentaires toxic',\n",
              " 'toxic and obscene': '51.82% des commentaires toxic',\n",
              " 'toxic and threat': '2.94% des commentaires toxic',\n",
              " 'toxic and insult': '48.02% des commentaires toxic',\n",
              " 'toxic and identity_hate': '8.51% des commentaires toxic',\n",
              " 'severe_toxic': '',\n",
              " 'severe_toxic and toxic': '100.0% des commentaires severe_toxic',\n",
              " 'severe_toxic and obscene': '95.11% des commentaires severe_toxic',\n",
              " 'severe_toxic and threat': '7.02% des commentaires severe_toxic',\n",
              " 'severe_toxic and insult': '85.96% des commentaires severe_toxic',\n",
              " 'severe_toxic and identity_hate': '19.62% des commentaires severe_toxic',\n",
              " 'obscene': '',\n",
              " 'obscene and toxic': '93.81% des commentaires obscene',\n",
              " 'obscene and severe_toxic': '17.95% des commentaires obscene',\n",
              " 'obscene and threat': '3.56% des commentaires obscene',\n",
              " 'obscene and insult': '72.85% des commentaires obscene',\n",
              " 'obscene and identity_hate': '12.21% des commentaires obscene',\n",
              " 'threat': '',\n",
              " 'threat and toxic': '93.93% des commentaires threat',\n",
              " 'threat and severe_toxic': '23.43% des commentaires threat',\n",
              " 'threat and obscene': '62.97% des commentaires threat',\n",
              " 'threat and insult': '64.23% des commentaires threat',\n",
              " 'threat and identity_hate': '20.5% des commentaires threat',\n",
              " 'insult': '',\n",
              " 'insult and toxic': '93.23% des commentaires insult',\n",
              " 'insult and severe_toxic': '17.41% des commentaires insult',\n",
              " 'insult and obscene': '78.14% des commentaires insult',\n",
              " 'insult and threat': '3.9% des commentaires insult',\n",
              " 'insult and identity_hate': '14.73% des commentaires insult',\n",
              " 'identity_hate': '',\n",
              " 'identity_hate and toxic': '92.67% des commentaires identity_hate',\n",
              " 'identity_hate and severe_toxic': '22.28% des commentaires identity_hate',\n",
              " 'identity_hate and obscene': '73.45% des commentaires identity_hate',\n",
              " 'identity_hate and threat': '6.98% des commentaires identity_hate',\n",
              " 'identity_hate and insult': '82.56% des commentaires identity_hate'}"
            ]
          },
          "metadata": {},
          "execution_count": 40
        }
      ]
    },
    {
      "cell_type": "markdown",
      "source": [
        "## Etude des données de test"
      ],
      "metadata": {
        "id": "t7NZiVLY39ak"
      }
    },
    {
      "cell_type": "markdown",
      "source": [
        "On calcule le nombre de commentaires dans chaque catégorie et leur proportion dans le nombre de commentaires totaux"
      ],
      "metadata": {
        "id": "1ANL0wZx4BBb"
      }
    },
    {
      "cell_type": "code",
      "source": [
        "test_comments_repartition = {'total' : len(test_data)}\n",
        "for label in labels:\n",
        "  test_comments_repartition[label] = len(test_data[test_data[label] == 1])\n",
        "test_comments_repartition"
      ],
      "metadata": {
        "colab": {
          "base_uri": "https://localhost:8080/"
        },
        "outputId": "e484d0fe-a6b2-47d6-8a55-644a74d91d20",
        "id": "Opl8l-ge4BBc"
      },
      "execution_count": null,
      "outputs": [
        {
          "output_type": "execute_result",
          "data": {
            "text/plain": [
              "{'total': 63978,\n",
              " 'toxic': 6090,\n",
              " 'severe_toxic': 367,\n",
              " 'obscene': 3691,\n",
              " 'threat': 211,\n",
              " 'insult': 3427,\n",
              " 'identity_hate': 712}"
            ]
          },
          "metadata": {},
          "execution_count": 41
        }
      ]
    },
    {
      "cell_type": "code",
      "source": [
        "test_comments_proportion = {}\n",
        "for label in labels:\n",
        "  test_comments_proportion[label] = str(round(test_comments_repartition[label]*100 / test_comments_repartition['total'],2)) + \"% des commentaires totaux\"\n",
        "test_comments_proportion"
      ],
      "metadata": {
        "colab": {
          "base_uri": "https://localhost:8080/"
        },
        "outputId": "63e76968-1e4e-4258-d4b0-8f9cf88a278c",
        "id": "0rxWQ0ce4BBc"
      },
      "execution_count": null,
      "outputs": [
        {
          "output_type": "execute_result",
          "data": {
            "text/plain": [
              "{'toxic': '9.52% des commentaires totaux',\n",
              " 'severe_toxic': '0.57% des commentaires totaux',\n",
              " 'obscene': '5.77% des commentaires totaux',\n",
              " 'threat': '0.33% des commentaires totaux',\n",
              " 'insult': '5.36% des commentaires totaux',\n",
              " 'identity_hate': '1.11% des commentaires totaux'}"
            ]
          },
          "metadata": {},
          "execution_count": 42
        }
      ]
    },
    {
      "cell_type": "markdown",
      "source": [
        "On calcule le nombre de commentaires en commun entre 2 classes et leur proportion dans le nombre de commentaires d'une de ces 2 classes"
      ],
      "metadata": {
        "id": "z9lySNgJ4BBc"
      }
    },
    {
      "cell_type": "code",
      "source": [
        "two_classes_test_comments_repartition={}\n",
        "two_classes_test_commments_proportion={}\n",
        "for label1 in labels:\n",
        "  two_classes_test_comments_repartition[label1] =  \"\"   #Pour améliorer la lisibilité, on ajoute une ligne indiquant la catégorie dans laquelle on se trouve\n",
        "  two_classes_test_commments_proportion[label1] =  \"\"   #Identique à la ligne ci-dessus\n",
        "  for label2 in labels:\n",
        "    if(label1 != label2):\n",
        "      two_classes_test_comments_repartition[label1 + \" and \" + label2] = len(test_data[(test_data[label1] == 1) & (test_data[label2] == 1)])\n",
        "      two_classes_test_commments_proportion[label1 + \" and \" + label2] = (\n",
        "                                        str(round(two_classes_test_comments_repartition[label1 + \" and \" + label2] * 100 / test_comments_repartition[label1],2)) \n",
        "                                        + \"% des commentaires \" \n",
        "                                        + label1)\n",
        "two_classes_test_comments_repartition"
      ],
      "metadata": {
        "colab": {
          "base_uri": "https://localhost:8080/"
        },
        "outputId": "5c52e81f-e66f-4689-8615-b3db841317ce",
        "id": "nmphxCN64BBc"
      },
      "execution_count": null,
      "outputs": [
        {
          "output_type": "execute_result",
          "data": {
            "text/plain": [
              "{'toxic': '',\n",
              " 'toxic and severe_toxic': 367,\n",
              " 'toxic and obscene': 3626,\n",
              " 'toxic and threat': 205,\n",
              " 'toxic and insult': 3342,\n",
              " 'toxic and identity_hate': 693,\n",
              " 'severe_toxic': '',\n",
              " 'severe_toxic and toxic': 367,\n",
              " 'severe_toxic and obscene': 363,\n",
              " 'severe_toxic and threat': 46,\n",
              " 'severe_toxic and insult': 330,\n",
              " 'severe_toxic and identity_hate': 135,\n",
              " 'obscene': '',\n",
              " 'obscene and toxic': 3626,\n",
              " 'obscene and severe_toxic': 363,\n",
              " 'obscene and threat': 138,\n",
              " 'obscene and insult': 2729,\n",
              " 'obscene and identity_hate': 538,\n",
              " 'threat': '',\n",
              " 'threat and toxic': 205,\n",
              " 'threat and severe_toxic': 46,\n",
              " 'threat and obscene': 138,\n",
              " 'threat and insult': 138,\n",
              " 'threat and identity_hate': 47,\n",
              " 'insult': '',\n",
              " 'insult and toxic': 3342,\n",
              " 'insult and severe_toxic': 330,\n",
              " 'insult and obscene': 2729,\n",
              " 'insult and threat': 138,\n",
              " 'insult and identity_hate': 602,\n",
              " 'identity_hate': '',\n",
              " 'identity_hate and toxic': 693,\n",
              " 'identity_hate and severe_toxic': 135,\n",
              " 'identity_hate and obscene': 538,\n",
              " 'identity_hate and threat': 47,\n",
              " 'identity_hate and insult': 602}"
            ]
          },
          "metadata": {},
          "execution_count": 43
        }
      ]
    },
    {
      "cell_type": "code",
      "source": [
        "two_classes_test_commments_proportion"
      ],
      "metadata": {
        "colab": {
          "base_uri": "https://localhost:8080/"
        },
        "outputId": "62368eb9-30d1-4f04-d495-75385222d081",
        "id": "eAdGBC014BBc"
      },
      "execution_count": null,
      "outputs": [
        {
          "output_type": "execute_result",
          "data": {
            "text/plain": [
              "{'toxic': '',\n",
              " 'toxic and severe_toxic': '6.03% des commentaires toxic',\n",
              " 'toxic and obscene': '59.54% des commentaires toxic',\n",
              " 'toxic and threat': '3.37% des commentaires toxic',\n",
              " 'toxic and insult': '54.88% des commentaires toxic',\n",
              " 'toxic and identity_hate': '11.38% des commentaires toxic',\n",
              " 'severe_toxic': '',\n",
              " 'severe_toxic and toxic': '100.0% des commentaires severe_toxic',\n",
              " 'severe_toxic and obscene': '98.91% des commentaires severe_toxic',\n",
              " 'severe_toxic and threat': '12.53% des commentaires severe_toxic',\n",
              " 'severe_toxic and insult': '89.92% des commentaires severe_toxic',\n",
              " 'severe_toxic and identity_hate': '36.78% des commentaires severe_toxic',\n",
              " 'obscene': '',\n",
              " 'obscene and toxic': '98.24% des commentaires obscene',\n",
              " 'obscene and severe_toxic': '9.83% des commentaires obscene',\n",
              " 'obscene and threat': '3.74% des commentaires obscene',\n",
              " 'obscene and insult': '73.94% des commentaires obscene',\n",
              " 'obscene and identity_hate': '14.58% des commentaires obscene',\n",
              " 'threat': '',\n",
              " 'threat and toxic': '97.16% des commentaires threat',\n",
              " 'threat and severe_toxic': '21.8% des commentaires threat',\n",
              " 'threat and obscene': '65.4% des commentaires threat',\n",
              " 'threat and insult': '65.4% des commentaires threat',\n",
              " 'threat and identity_hate': '22.27% des commentaires threat',\n",
              " 'insult': '',\n",
              " 'insult and toxic': '97.52% des commentaires insult',\n",
              " 'insult and severe_toxic': '9.63% des commentaires insult',\n",
              " 'insult and obscene': '79.63% des commentaires insult',\n",
              " 'insult and threat': '4.03% des commentaires insult',\n",
              " 'insult and identity_hate': '17.57% des commentaires insult',\n",
              " 'identity_hate': '',\n",
              " 'identity_hate and toxic': '97.33% des commentaires identity_hate',\n",
              " 'identity_hate and severe_toxic': '18.96% des commentaires identity_hate',\n",
              " 'identity_hate and obscene': '75.56% des commentaires identity_hate',\n",
              " 'identity_hate and threat': '6.6% des commentaires identity_hate',\n",
              " 'identity_hate and insult': '84.55% des commentaires identity_hate'}"
            ]
          },
          "metadata": {},
          "execution_count": 44
        }
      ]
    },
    {
      "cell_type": "markdown",
      "source": [
        "# **Préparation des données**"
      ],
      "metadata": {
        "id": "YIzpSrAjSsAM"
      }
    },
    {
      "cell_type": "markdown",
      "source": [
        "On va modifier les données pour enlever les abbréviations, les signes de ponctuations, les contractions de mots (fréquentes en anglais) pour faciliter le travail du réseau de neurone"
      ],
      "metadata": {
        "id": "LyKNQ5ZBYqz4"
      }
    },
    {
      "cell_type": "markdown",
      "source": [
        "## Définition de la fonction prepare_string(tweet) pour nettoyer les commentaires"
      ],
      "metadata": {
        "id": "myHN502fX3-D"
      }
    },
    {
      "cell_type": "markdown",
      "source": [
        "On crée une fonction qui va remplacer les contractions par leur formes complètes et abbréviations par leur significations"
      ],
      "metadata": {
        "id": "2uXnj0FvZC06"
      }
    },
    {
      "cell_type": "code",
      "source": [
        "tokenizer = TweetTokenizer(strip_handles=True)\n",
        "nltk.download('stopwords')\n",
        "stop_words = nltk.corpus.stopwords.words('english')\n",
        "corpus = []"
      ],
      "metadata": {
        "colab": {
          "base_uri": "https://localhost:8080/"
        },
        "id": "iaZfwRfgbZop",
        "outputId": "8946b53b-4231-48e5-8a55-4938088ed18b"
      },
      "execution_count": null,
      "outputs": [
        {
          "output_type": "stream",
          "name": "stderr",
          "text": [
            "[nltk_data] Downloading package stopwords to /root/nltk_data...\n",
            "[nltk_data]   Package stopwords is already up-to-date!\n"
          ]
        }
      ]
    },
    {
      "cell_type": "code",
      "source": [
        "def clean(tweet): \n",
        "            \n",
        "    # Contractions\n",
        "    tweet = re.sub(r\"he's\", \"he is\", tweet)\n",
        "    tweet = re.sub(r\"there's\", \"there is\", tweet)\n",
        "    tweet = re.sub(r\"We're\", \"We are\", tweet)\n",
        "    tweet = re.sub(r\"That's\", \"That is\", tweet)\n",
        "    tweet = re.sub(r\"won't\", \"will not\", tweet)\n",
        "    tweet = re.sub(r\"they're\", \"they are\", tweet)\n",
        "    tweet = re.sub(r\"Can't\", \"Cannot\", tweet)\n",
        "    tweet = re.sub(r\"wasn't\", \"was not\", tweet)\n",
        "    tweet = re.sub(r\"don\\x89Ûªt\", \"do not\", tweet)\n",
        "    tweet = re.sub(r\"aren't\", \"are not\", tweet)\n",
        "    tweet = re.sub(r\"isn't\", \"is not\", tweet)\n",
        "    tweet = re.sub(r\"What's\", \"What is\", tweet)\n",
        "    tweet = re.sub(r\"haven't\", \"have not\", tweet)\n",
        "    tweet = re.sub(r\"hasn't\", \"has not\", tweet)\n",
        "    tweet = re.sub(r\"There's\", \"There is\", tweet)\n",
        "    tweet = re.sub(r\"He's\", \"He is\", tweet)\n",
        "    tweet = re.sub(r\"It's\", \"It is\", tweet)\n",
        "    tweet = re.sub(r\"You're\", \"You are\", tweet)\n",
        "    tweet = re.sub(r\"I'M\", \"I am\", tweet)\n",
        "    tweet = re.sub(r\"shouldn't\", \"should not\", tweet)\n",
        "    tweet = re.sub(r\"wouldn't\", \"would not\", tweet)\n",
        "    tweet = re.sub(r\"i'm\", \"I am\", tweet)\n",
        "    tweet = re.sub(r\"I\\x89Ûªm\", \"I am\", tweet)\n",
        "    tweet = re.sub(r\"I'm\", \"I am\", tweet)\n",
        "    tweet = re.sub(r\"Isn't\", \"is not\", tweet)\n",
        "    tweet = re.sub(r\"Here's\", \"Here is\", tweet)\n",
        "    tweet = re.sub(r\"you've\", \"you have\", tweet)\n",
        "    tweet = re.sub(r\"you\\x89Ûªve\", \"you have\", tweet)\n",
        "    tweet = re.sub(r\"we're\", \"we are\", tweet)\n",
        "    tweet = re.sub(r\"what's\", \"what is\", tweet)\n",
        "    tweet = re.sub(r\"couldn't\", \"could not\", tweet)\n",
        "    tweet = re.sub(r\"we've\", \"we have\", tweet)\n",
        "    tweet = re.sub(r\"it\\x89Ûªs\", \"it is\", tweet)\n",
        "    tweet = re.sub(r\"doesn\\x89Ûªt\", \"does not\", tweet)\n",
        "    tweet = re.sub(r\"It\\x89Ûªs\", \"It is\", tweet)\n",
        "    tweet = re.sub(r\"Here\\x89Ûªs\", \"Here is\", tweet)\n",
        "    tweet = re.sub(r\"who's\", \"who is\", tweet)\n",
        "    tweet = re.sub(r\"I\\x89Ûªve\", \"I have\", tweet)\n",
        "    tweet = re.sub(r\"y'all\", \"you all\", tweet)\n",
        "    tweet = re.sub(r\"can\\x89Ûªt\", \"cannot\", tweet)\n",
        "    tweet = re.sub(r\"would've\", \"would have\", tweet)\n",
        "    tweet = re.sub(r\"it'll\", \"it will\", tweet)\n",
        "    tweet = re.sub(r\"we'll\", \"we will\", tweet)\n",
        "    tweet = re.sub(r\"wouldn\\x89Ûªt\", \"would not\", tweet)\n",
        "    tweet = re.sub(r\"We've\", \"We have\", tweet)\n",
        "    tweet = re.sub(r\"he'll\", \"he will\", tweet)\n",
        "    tweet = re.sub(r\"Y'all\", \"You all\", tweet)\n",
        "    tweet = re.sub(r\"Weren't\", \"Were not\", tweet)\n",
        "    tweet = re.sub(r\"Didn't\", \"Did not\", tweet)\n",
        "    tweet = re.sub(r\"they'll\", \"they will\", tweet)\n",
        "    tweet = re.sub(r\"they'd\", \"they would\", tweet)\n",
        "    tweet = re.sub(r\"DON'T\", \"DO NOT\", tweet)\n",
        "    tweet = re.sub(r\"That\\x89Ûªs\", \"That is\", tweet)\n",
        "    tweet = re.sub(r\"they've\", \"they have\", tweet)\n",
        "    tweet = re.sub(r\"i'd\", \"I would\", tweet)\n",
        "    tweet = re.sub(r\"should've\", \"should have\", tweet)\n",
        "    tweet = re.sub(r\"You\\x89Ûªre\", \"You are\", tweet)\n",
        "    tweet = re.sub(r\"where's\", \"where is\", tweet)\n",
        "    tweet = re.sub(r\"Don\\x89Ûªt\", \"Do not\", tweet)\n",
        "    tweet = re.sub(r\"we'd\", \"we would\", tweet)\n",
        "    tweet = re.sub(r\"i'll\", \"I will\", tweet)\n",
        "    tweet = re.sub(r\"weren't\", \"were not\", tweet)\n",
        "    tweet = re.sub(r\"They're\", \"They are\", tweet)\n",
        "    tweet = re.sub(r\"Can\\x89Ûªt\", \"Cannot\", tweet)\n",
        "    tweet = re.sub(r\"you\\x89Ûªll\", \"you will\", tweet)\n",
        "    tweet = re.sub(r\"I\\x89Ûªd\", \"I would\", tweet)\n",
        "    tweet = re.sub(r\"let's\", \"let us\", tweet)\n",
        "    tweet = re.sub(r\"it's\", \"it is\", tweet)\n",
        "    tweet = re.sub(r\"can't\", \"cannot\", tweet)\n",
        "    tweet = re.sub(r\"don't\", \"do not\", tweet)\n",
        "    tweet = re.sub(r\"you're\", \"you are\", tweet)\n",
        "    tweet = re.sub(r\"i've\", \"I have\", tweet)\n",
        "    tweet = re.sub(r\"that's\", \"that is\", tweet)\n",
        "    tweet = re.sub(r\"i'll\", \"I will\", tweet)\n",
        "    tweet = re.sub(r\"doesn't\", \"does not\", tweet)\n",
        "    tweet = re.sub(r\"i'd\", \"I would\", tweet)\n",
        "    tweet = re.sub(r\"didn't\", \"did not\", tweet)\n",
        "    tweet = re.sub(r\"ain't\", \"am not\", tweet)\n",
        "    tweet = re.sub(r\"you'll\", \"you will\", tweet)\n",
        "    tweet = re.sub(r\"I've\", \"I have\", tweet)\n",
        "    tweet = re.sub(r\"Don't\", \"do not\", tweet)\n",
        "    tweet = re.sub(r\"I'll\", \"I will\", tweet)\n",
        "    tweet = re.sub(r\"I'd\", \"I would\", tweet)\n",
        "    tweet = re.sub(r\"Let's\", \"Let us\", tweet)\n",
        "    tweet = re.sub(r\"you'd\", \"You would\", tweet)\n",
        "    tweet = re.sub(r\"It's\", \"It is\", tweet)\n",
        "    tweet = re.sub(r\"Ain't\", \"am not\", tweet)\n",
        "    tweet = re.sub(r\"Haven't\", \"Have not\", tweet)\n",
        "    tweet = re.sub(r\"Could've\", \"Could have\", tweet)\n",
        "    tweet = re.sub(r\"youve\", \"you have\", tweet)  \n",
        "    tweet = re.sub(r\"donå«t\", \"do not\", tweet)  \n",
        "    \n",
        "    tweet = re.sub(r\"some1\", \"someone\", tweet)\n",
        "    tweet = re.sub(r\"yrs\", \"years\", tweet)\n",
        "    tweet = re.sub(r\"hrs\", \"hours\", tweet)\n",
        "    tweet = re.sub(r\"2morow|2moro\", \"tomorrow\", tweet)\n",
        "    tweet = re.sub(r\"2day\", \"today\", tweet)\n",
        "    tweet = re.sub(r\"4got|4gotten\", \"forget\", tweet)\n",
        "    tweet = re.sub(r\"b-day|bday\", \"b-day\", tweet)\n",
        "    tweet = re.sub(r\"mother's\", \"mother\", tweet)\n",
        "    tweet = re.sub(r\"mom's\", \"mom\", tweet)\n",
        "    tweet = re.sub(r\"dad's\", \"dad\", tweet)\n",
        "    tweet = re.sub(r\"hahah|hahaha|hahahaha\", \"haha\", tweet)\n",
        "    tweet = re.sub(r\"lmao|lolz|rofl\", \"lol\", tweet)\n",
        "    tweet = re.sub(r\"thanx|thnx\", \"thanks\", tweet)\n",
        "    tweet = re.sub(r\"goood\", \"good\", tweet)\n",
        "    tweet = re.sub(r\"some1\", \"someone\", tweet)\n",
        "    tweet = re.sub(r\"some1\", \"someone\", tweet)\n",
        "    # Character entity references\n",
        "    tweet = re.sub(r\"&gt;\", \">\", tweet)\n",
        "    tweet = re.sub(r\"&lt;\", \"<\", tweet)\n",
        "    tweet = re.sub(r\"&amp;\", \"&\", tweet)\n",
        "    # Typos, slang and informal abbreviations\n",
        "    tweet = re.sub(r\"w/e\", \"whatever\", tweet)\n",
        "    tweet = re.sub(r\"w/\", \"with\", tweet)\n",
        "    tweet = re.sub(r\"<3\", \"love\", tweet)\n",
        "    # Urls\n",
        "    tweet = re.sub(r\"http\\S+\", \"\", tweet)\n",
        "    # Numbers\n",
        "    tweet = re.sub(r'[0-9]', '', tweet)\n",
        "    # Eliminating the mentions\n",
        "    tweet = re.sub(\"(@[A-Za-z0-9_]+)\",\"\", tweet)\n",
        "    # Remove punctuation and special chars (keep '!')\n",
        "    for p in string.punctuation.replace('!', ''):\n",
        "        tweet = tweet.replace(p, '')\n",
        "        \n",
        "    # ... and ..\n",
        "    tweet = tweet.replace('...', ' ... ')\n",
        "    if '...' not in tweet:\n",
        "        tweet = tweet.replace('..', ' ... ')\n",
        "        \n",
        "    # Tokenize\n",
        "    tweet_words = tokenizer.tokenize(tweet)\n",
        "    \n",
        "    # Eliminating the word if its length is less than 3\n",
        "    tweet = [w for w in tweet_words if len(w)>2]\n",
        "    \n",
        "    # remove stopwords\n",
        "    tweet = [w.lower() for w in tweet if not w in stop_words]  \n",
        "    \n",
        "    corpus.append(tweet)\n",
        "    \n",
        "    # join back\n",
        "    tweet = ' '.join(tweet)\n",
        "        \n",
        "        \n",
        "    return tweet"
      ],
      "metadata": {
        "id": "Obw2CIGUb1EL"
      },
      "execution_count": null,
      "outputs": []
    },
    {
      "cell_type": "code",
      "source": [
        "variable_name = \"\"\n",
        "abbreviations = {\n",
        "    \"$\" : \" dollar \",\n",
        "    \"€\" : \" euro \",\n",
        "    \"4ao\" : \"for adults only\",\n",
        "    \"a.m\" : \"before midday\",\n",
        "    \"a3\" : \"anytime anywhere anyplace\",\n",
        "    \"aamof\" : \"as a matter of fact\",\n",
        "    \"acct\" : \"account\",\n",
        "    \"adih\" : \"another day in hell\",\n",
        "    \"afaic\" : \"as far as i am concerned\",\n",
        "    \"afaict\" : \"as far as i can tell\",\n",
        "    \"afaik\" : \"as far as i know\",\n",
        "    \"afair\" : \"as far as i remember\",\n",
        "    \"afk\" : \"away from keyboard\",\n",
        "    \"app\" : \"application\",\n",
        "    \"approx\" : \"approximately\",\n",
        "    \"apps\" : \"applications\",\n",
        "    \"asap\" : \"as soon as possible\",\n",
        "    \"asl\" : \"age, sex, location\",\n",
        "    \"atk\" : \"at the keyboard\",\n",
        "    \"ave.\" : \"avenue\",\n",
        "    \"aymm\" : \"are you my mother\",\n",
        "    \"ayor\" : \"at your own risk\", \n",
        "    \"b&b\" : \"bed and breakfast\",\n",
        "    \"b+b\" : \"bed and breakfast\",\n",
        "    \"b.c\" : \"before christ\",\n",
        "    \"b2b\" : \"business to business\",\n",
        "    \"b2c\" : \"business to customer\",\n",
        "    \"b4\" : \"before\",\n",
        "    \"b4n\" : \"bye for now\",\n",
        "    \"b@u\" : \"back at you\",\n",
        "    \"bae\" : \"before anyone else\",\n",
        "    \"bak\" : \"back at keyboard\",\n",
        "    \"bbbg\" : \"bye bye be good\",\n",
        "    \"bbc\" : \"british broadcasting corporation\",\n",
        "    \"bbias\" : \"be back in a second\",\n",
        "    \"bbl\" : \"be back later\",\n",
        "    \"bbs\" : \"be back soon\",\n",
        "    \"be4\" : \"before\",\n",
        "    \"bfn\" : \"bye for now\",\n",
        "    \"blvd\" : \"boulevard\",\n",
        "    \"bout\" : \"about\",\n",
        "    \"brb\" : \"be right back\",\n",
        "    \"bros\" : \"brothers\",\n",
        "    \"brt\" : \"be right there\",\n",
        "    \"bsaaw\" : \"big smile and a wink\",\n",
        "    \"btw\" : \"by the way\",\n",
        "    \"bwl\" : \"bursting with laughter\",\n",
        "    \"c/o\" : \"care of\",\n",
        "    \"cet\" : \"central european time\",\n",
        "    \"cf\" : \"compare\",\n",
        "    \"cia\" : \"central intelligence agency\",\n",
        "    \"csl\" : \"can not stop laughing\",\n",
        "    \"cu\" : \"see you\",\n",
        "    \"cul8r\" : \"see you later\",\n",
        "    \"cv\" : \"curriculum vitae\",\n",
        "    \"cwot\" : \"complete waste of time\",\n",
        "    \"cya\" : \"see you\",\n",
        "    \"cyt\" : \"see you tomorrow\",\n",
        "    \"dae\" : \"does anyone else\",\n",
        "    \"dbmib\" : \"do not bother me i am busy\",\n",
        "    \"diy\" : \"do it yourself\",\n",
        "    \"dm\" : \"direct message\",\n",
        "    \"dwh\" : \"during work hours\",\n",
        "    \"e123\" : \"easy as one two three\",\n",
        "    \"eet\" : \"eastern european time\",\n",
        "    \"eg\" : \"example\",\n",
        "    \"embm\" : \"early morning business meeting\",\n",
        "    \"encl\" : \"enclosed\",\n",
        "    \"encl.\" : \"enclosed\",\n",
        "    \"etc\" : \"and so on\",\n",
        "    \"faq\" : \"frequently asked questions\",\n",
        "    \"fawc\" : \"for anyone who cares\",\n",
        "    \"fb\" : \"facebook\",\n",
        "    \"fc\" : \"fingers crossed\",\n",
        "    \"fig\" : \"figure\",\n",
        "    \"fimh\" : \"forever in my heart\", \n",
        "    \"ft.\" : \"feet\",\n",
        "    \"ft\" : \"featuring\",\n",
        "    \"ftl\" : \"for the loss\",\n",
        "    \"ftw\" : \"for the win\",\n",
        "    \"fwiw\" : \"for what it is worth\",\n",
        "    \"fyi\" : \"for your information\",\n",
        "    \"g9\" : \"genius\",\n",
        "    \"gahoy\" : \"get a hold of yourself\",\n",
        "    \"gal\" : \"get a life\",\n",
        "    \"gcse\" : \"general certificate of secondary education\",\n",
        "    \"gfn\" : \"gone for now\",\n",
        "    \"gg\" : \"good game\",\n",
        "    \"gl\" : \"good luck\",\n",
        "    \"glhf\" : \"good luck have fun\",\n",
        "    \"gmt\" : \"greenwich mean time\",\n",
        "    \"gmta\" : \"great minds think alike\",\n",
        "    \"gn\" : \"good night\",\n",
        "    \"g.o.a.t\" : \"greatest of all time\",\n",
        "    \"goat\" : \"greatest of all time\",\n",
        "    \"goi\" : \"get over it\",\n",
        "    \"gps\" : \"global positioning system\",\n",
        "    \"gr8\" : \"great\",\n",
        "    \"gratz\" : \"congratulations\",\n",
        "    \"gyal\" : \"girl\",\n",
        "    \"h&c\" : \"hot and cold\",\n",
        "    \"hp\" : \"horsepower\",\n",
        "    \"hr\" : \"hour\",\n",
        "    \"hrh\" : \"his royal highness\",\n",
        "    \"ht\" : \"height\",\n",
        "    \"ibrb\" : \"i will be right back\",\n",
        "    \"ic\" : \"i see\",\n",
        "    \"icq\" : \"i seek you\",\n",
        "    \"icymi\" : \"in case you missed it\",\n",
        "    \"idc\" : \"i do not care\",\n",
        "    \"idgadf\" : \"i do not give a damn fuck\",\n",
        "    \"idgaf\" : \"i do not give a fuck\",\n",
        "    \"idk\" : \"i do not know\",\n",
        "    \"ie\" : \"that is\",\n",
        "    \"i.e\" : \"that is\",\n",
        "    \"ifyp\" : \"i feel your pain\",\n",
        "    \"IG\" : \"instagram\",\n",
        "    \"iirc\" : \"if i remember correctly\",\n",
        "    \"ilu\" : \"i love you\",\n",
        "    \"ily\" : \"i love you\",\n",
        "    \"imho\" : \"in my humble opinion\",\n",
        "    \"imo\" : \"in my opinion\",\n",
        "    \"imu\" : \"i miss you\",\n",
        "    \"iow\" : \"in other words\",\n",
        "    \"irl\" : \"in real life\",\n",
        "    \"j4f\" : \"just for fun\",\n",
        "    \"jic\" : \"just in case\",\n",
        "    \"jk\" : \"just kidding\",\n",
        "    \"jsyk\" : \"just so you know\",\n",
        "    \"l8r\" : \"later\",\n",
        "    \"lb\" : \"pound\",\n",
        "    \"lbs\" : \"pounds\",\n",
        "    \"ldr\" : \"long distance relationship\",\n",
        "    \"lmao\" : \"laugh my ass off\",\n",
        "    \"lmfao\" : \"laugh my fucking ass off\",\n",
        "    \"lol\" : \"laughing out loud\",\n",
        "    \"ltd\" : \"limited\",\n",
        "    \"ltns\" : \"long time no see\",\n",
        "    \"m8\" : \"mate\",\n",
        "    \"mf\" : \"motherfucker\",\n",
        "    \"mfs\" : \"motherfuckers\",\n",
        "    \"mfw\" : \"my face when\",\n",
        "    \"mofo\" : \"motherfucker\",\n",
        "    \"mph\" : \"miles per hour\",\n",
        "    \"mr\" : \"mister\",\n",
        "    \"mrw\" : \"my reaction when\",\n",
        "    \"ms\" : \"miss\",\n",
        "    \"mte\" : \"my thoughts exactly\",\n",
        "    \"nagi\" : \"not a good idea\",\n",
        "    \"nbc\" : \"national broadcasting company\",\n",
        "    \"nbd\" : \"not big deal\",\n",
        "    \"nfs\" : \"not for sale\",\n",
        "    \"ngl\" : \"not going to lie\",\n",
        "    \"nhs\" : \"national health service\",\n",
        "    \"nrn\" : \"no reply necessary\",\n",
        "    \"nsfl\" : \"not safe for life\",\n",
        "    \"nsfw\" : \"not safe for work\",\n",
        "    \"nth\" : \"nice to have\",\n",
        "    \"nvr\" : \"never\",\n",
        "    \"nyc\" : \"new york city\",\n",
        "    \"oc\" : \"original content\",\n",
        "    \"og\" : \"original\",\n",
        "    \"ohp\" : \"overhead projector\",\n",
        "    \"oic\" : \"oh i see\",\n",
        "    \"omdb\" : \"over my dead body\",\n",
        "    \"omg\" : \"oh my god\",\n",
        "    \"omw\" : \"on my way\",\n",
        "    \"p.a\" : \"per annum\",\n",
        "    \"p.m\" : \"after midday\",\n",
        "    \"pm\" : \"prime minister\",\n",
        "    \"poc\" : \"people of color\",\n",
        "    \"pov\" : \"point of view\",\n",
        "    \"pp\" : \"pages\",\n",
        "    \"ppl\" : \"people\",\n",
        "    \"prw\" : \"parents are watching\",\n",
        "    \"ps\" : \"postscript\",\n",
        "    \"pt\" : \"point\",\n",
        "    \"ptb\" : \"please text back\",\n",
        "    \"pto\" : \"please turn over\",\n",
        "    \"qpsa\" : \"what happens\", \n",
        "    \"ratchet\" : \"rude\",\n",
        "    \"rbtl\" : \"read between the lines\",\n",
        "    \"rlrt\" : \"real life retweet\", \n",
        "    \"rofl\" : \"rolling on the floor laughing\",\n",
        "    \"roflol\" : \"rolling on the floor laughing out loud\",\n",
        "    \"rotflmao\" : \"rolling on the floor laughing my ass off\",\n",
        "    \"rt\" : \"retweet\",\n",
        "    \"ruok\" : \"are you ok\",\n",
        "    \"sfw\" : \"safe for work\",\n",
        "     \"sk8\" : \"skate\",\n",
        "    \"smh\" : \"shake my head\",\n",
        "    \"sq\" : \"square\",\n",
        "    \"srsly\" : \"seriously\", \n",
        "    \"ssdd\" : \"same stuff different day\",\n",
        "    \"tbh\" : \"to be honest\",\n",
        "    \"tbs\" : \"tablespooful\",\n",
        "    \"tbsp\" : \"tablespooful\",\n",
        "    \"tfw\" : \"that feeling when\",\n",
        "    \"thks\" : \"thank you\",\n",
        "    \"tho\" : \"though\",\n",
        "    \"thx\" : \"thank you\",\n",
        "    \"tia\" : \"thanks in advance\",\n",
        "    \"til\" : \"today i learned\",\n",
        "    \"tl;dr\" : \"too long i did not read\",\n",
        "    \"tldr\" : \"too long i did not read\",\n",
        "    \"tmb\" : \"tweet me back\",\n",
        "    \"tntl\" : \"trying not to laugh\",\n",
        "    \"ttyl\" : \"talk to you later\",\n",
        "    \"u\" : \"you\",\n",
        "    \"u2\" : \"you too\",\n",
        "    \"u4e\" : \"yours for ever\",\n",
        "    \"utc\" : \"coordinated universal time\",\n",
        "    \"w/\" : \"with\",\n",
        "    \"w/o\" : \"without\",\n",
        "    \"w8\" : \"wait\",\n",
        "    \"wassup\" : \"what is up\",\n",
        "    \"wb\" : \"welcome back\",\n",
        "    \"wtf\" : \"what the fuck\",\n",
        "    \"wtg\" : \"way to go\",\n",
        "    \"wtpa\" : \"where the party at\",\n",
        "    \"wuf\" : \"where are you from\",\n",
        "    \"wuzup\" : \"what is up\",\n",
        "    \"wywh\" : \"wish you were here\",\n",
        "    \"yd\" : \"yard\",\n",
        "    \"ygtr\" : \"you got that right\",\n",
        "    \"ynk\" : \"you never know\",\n",
        "    \"zzz\" : \"sleeping bored and tired\"\n",
        "}\n",
        "\n",
        "def convert_abbrev_in_text(tweet):\n",
        "    t=[]\n",
        "    words=tweet.split()\n",
        "    t = [abbreviations[w.lower()] if w.lower() in abbreviations.keys() else w for w in words]\n",
        "    return ' '.join(t) "
      ],
      "metadata": {
        "id": "gJjKXiPhb3Ek"
      },
      "execution_count": null,
      "outputs": []
    },
    {
      "cell_type": "code",
      "source": [
        "def prepare_string(tweet):\n",
        "  tweet = clean(tweet)\n",
        "  tweet = convert_abbrev_in_text(tweet)\n",
        "  return tweet"
      ],
      "metadata": {
        "id": "O2srr3ebb71j"
      },
      "execution_count": null,
      "outputs": []
    },
    {
      "cell_type": "markdown",
      "source": [
        "## nettoyage des commentaires"
      ],
      "metadata": {
        "id": "-wCWxMIaYUC_"
      }
    },
    {
      "cell_type": "markdown",
      "source": [
        "On utilise la fonction prepare_strings pour enlever les contractions et les abbréviations et on enlève les commentaires vides"
      ],
      "metadata": {
        "id": "d7inN_COeAbb"
      }
    },
    {
      "cell_type": "code",
      "source": [
        "%%time\n",
        "# Apply prepare_string to all rows in 'tweets' column\n",
        "training_data['comment_text'] = training_data['comment_text'].apply(lambda s : prepare_string(s))\n",
        "test_data['comment_text'] = test_data['comment_text'].apply(lambda s : prepare_string(s))\n",
        "\n",
        "# Drop empty values from dataframe\n",
        "training_data['comment_text'].replace('', np.nan, inplace=True)\n",
        "training_data.dropna(subset=['comment_text'], inplace=True)\n",
        "\n",
        "test_data['comment_text'].replace('', np.nan, inplace=True)\n",
        "test_data.dropna(subset=['comment_text'], inplace=True)"
      ],
      "metadata": {
        "colab": {
          "base_uri": "https://localhost:8080/"
        },
        "id": "CVWylWYPb_56",
        "outputId": "9d16e5ae-2b2d-46d5-c064-8a4950da8ffb"
      },
      "execution_count": null,
      "outputs": [
        {
          "output_type": "stream",
          "name": "stdout",
          "text": [
            "CPU times: user 3min 6s, sys: 1.36 s, total: 3min 7s\n",
            "Wall time: 3min 42s\n"
          ]
        }
      ]
    },
    {
      "cell_type": "markdown",
      "source": [
        "L'opération précédente prenant un certain temps (quelques minutes), on sauvegarde les résultates précédents afin de pouvoir les recharger lors d'une session ultérieur sans refaire les étapes précédantes"
      ],
      "metadata": {
        "id": "XcbvWR4MZS3L"
      }
    },
    {
      "cell_type": "code",
      "source": [
        "training_data.to_csv('/content/drive/MyDrive/NLP_4A/Projet/cleaned_data.csv', index=False)\n",
        "test_data.to_csv('/content/drive/MyDrive/NLP_4A/Projet/cleaned_test.csv', index=False)"
      ],
      "metadata": {
        "id": "KeDANZxtdBpt"
      },
      "execution_count": null,
      "outputs": []
    },
    {
      "cell_type": "markdown",
      "source": [
        "## Chargement des données une fois traitées"
      ],
      "metadata": {
        "id": "zjoBmwkfZ2Qe"
      }
    },
    {
      "cell_type": "markdown",
      "source": [
        "Une fois les étapes précédentes réalisé une fois, on peut directement recharger les données directement dans leur fichier de sauvegarde et passer à la suite"
      ],
      "metadata": {
        "id": "K3RQOcqjZw_f"
      }
    },
    {
      "cell_type": "code",
      "source": [
        "training_data = pd.read_csv('/content/drive/MyDrive/NLP_4A/Projet/cleaned_data.csv')\n",
        "test_data = pd.read_csv('/content/drive/MyDrive/NLP_4A/Projet/cleaned_test.csv')\n",
        "training_data.head()"
      ],
      "metadata": {
        "id": "PABxBtbkeIXl",
        "colab": {
          "base_uri": "https://localhost:8080/",
          "height": 0
        },
        "outputId": "5c594c53-ac0c-45ae-f212-7c1a5765001a"
      },
      "execution_count": 3,
      "outputs": [
        {
          "output_type": "execute_result",
          "data": {
            "text/plain": [
              "                                        comment_text  toxic  severe_toxic  \\\n",
              "0  explanation why edits made username hardcore m...      0             0   \n",
              "1  daww matches background colour seemingly stuck...      0             0   \n",
              "2  hey man really trying edit war guy constantly ...      0             0   \n",
              "3  more cannot make real suggestions improvement ...      0             0   \n",
              "4              you sir hero any chance remember page      0             0   \n",
              "\n",
              "   obscene  threat  insult  identity_hate  \n",
              "0        0       0       0              0  \n",
              "1        0       0       0              0  \n",
              "2        0       0       0              0  \n",
              "3        0       0       0              0  \n",
              "4        0       0       0              0  "
            ],
            "text/html": [
              "\n",
              "  <div id=\"df-41a24771-9e47-49e0-aad7-3e3d49c879ec\">\n",
              "    <div class=\"colab-df-container\">\n",
              "      <div>\n",
              "<style scoped>\n",
              "    .dataframe tbody tr th:only-of-type {\n",
              "        vertical-align: middle;\n",
              "    }\n",
              "\n",
              "    .dataframe tbody tr th {\n",
              "        vertical-align: top;\n",
              "    }\n",
              "\n",
              "    .dataframe thead th {\n",
              "        text-align: right;\n",
              "    }\n",
              "</style>\n",
              "<table border=\"1\" class=\"dataframe\">\n",
              "  <thead>\n",
              "    <tr style=\"text-align: right;\">\n",
              "      <th></th>\n",
              "      <th>comment_text</th>\n",
              "      <th>toxic</th>\n",
              "      <th>severe_toxic</th>\n",
              "      <th>obscene</th>\n",
              "      <th>threat</th>\n",
              "      <th>insult</th>\n",
              "      <th>identity_hate</th>\n",
              "    </tr>\n",
              "  </thead>\n",
              "  <tbody>\n",
              "    <tr>\n",
              "      <th>0</th>\n",
              "      <td>explanation why edits made username hardcore m...</td>\n",
              "      <td>0</td>\n",
              "      <td>0</td>\n",
              "      <td>0</td>\n",
              "      <td>0</td>\n",
              "      <td>0</td>\n",
              "      <td>0</td>\n",
              "    </tr>\n",
              "    <tr>\n",
              "      <th>1</th>\n",
              "      <td>daww matches background colour seemingly stuck...</td>\n",
              "      <td>0</td>\n",
              "      <td>0</td>\n",
              "      <td>0</td>\n",
              "      <td>0</td>\n",
              "      <td>0</td>\n",
              "      <td>0</td>\n",
              "    </tr>\n",
              "    <tr>\n",
              "      <th>2</th>\n",
              "      <td>hey man really trying edit war guy constantly ...</td>\n",
              "      <td>0</td>\n",
              "      <td>0</td>\n",
              "      <td>0</td>\n",
              "      <td>0</td>\n",
              "      <td>0</td>\n",
              "      <td>0</td>\n",
              "    </tr>\n",
              "    <tr>\n",
              "      <th>3</th>\n",
              "      <td>more cannot make real suggestions improvement ...</td>\n",
              "      <td>0</td>\n",
              "      <td>0</td>\n",
              "      <td>0</td>\n",
              "      <td>0</td>\n",
              "      <td>0</td>\n",
              "      <td>0</td>\n",
              "    </tr>\n",
              "    <tr>\n",
              "      <th>4</th>\n",
              "      <td>you sir hero any chance remember page</td>\n",
              "      <td>0</td>\n",
              "      <td>0</td>\n",
              "      <td>0</td>\n",
              "      <td>0</td>\n",
              "      <td>0</td>\n",
              "      <td>0</td>\n",
              "    </tr>\n",
              "  </tbody>\n",
              "</table>\n",
              "</div>\n",
              "      <button class=\"colab-df-convert\" onclick=\"convertToInteractive('df-41a24771-9e47-49e0-aad7-3e3d49c879ec')\"\n",
              "              title=\"Convert this dataframe to an interactive table.\"\n",
              "              style=\"display:none;\">\n",
              "        \n",
              "  <svg xmlns=\"http://www.w3.org/2000/svg\" height=\"24px\"viewBox=\"0 0 24 24\"\n",
              "       width=\"24px\">\n",
              "    <path d=\"M0 0h24v24H0V0z\" fill=\"none\"/>\n",
              "    <path d=\"M18.56 5.44l.94 2.06.94-2.06 2.06-.94-2.06-.94-.94-2.06-.94 2.06-2.06.94zm-11 1L8.5 8.5l.94-2.06 2.06-.94-2.06-.94L8.5 2.5l-.94 2.06-2.06.94zm10 10l.94 2.06.94-2.06 2.06-.94-2.06-.94-.94-2.06-.94 2.06-2.06.94z\"/><path d=\"M17.41 7.96l-1.37-1.37c-.4-.4-.92-.59-1.43-.59-.52 0-1.04.2-1.43.59L10.3 9.45l-7.72 7.72c-.78.78-.78 2.05 0 2.83L4 21.41c.39.39.9.59 1.41.59.51 0 1.02-.2 1.41-.59l7.78-7.78 2.81-2.81c.8-.78.8-2.07 0-2.86zM5.41 20L4 18.59l7.72-7.72 1.47 1.35L5.41 20z\"/>\n",
              "  </svg>\n",
              "      </button>\n",
              "      \n",
              "  <style>\n",
              "    .colab-df-container {\n",
              "      display:flex;\n",
              "      flex-wrap:wrap;\n",
              "      gap: 12px;\n",
              "    }\n",
              "\n",
              "    .colab-df-convert {\n",
              "      background-color: #E8F0FE;\n",
              "      border: none;\n",
              "      border-radius: 50%;\n",
              "      cursor: pointer;\n",
              "      display: none;\n",
              "      fill: #1967D2;\n",
              "      height: 32px;\n",
              "      padding: 0 0 0 0;\n",
              "      width: 32px;\n",
              "    }\n",
              "\n",
              "    .colab-df-convert:hover {\n",
              "      background-color: #E2EBFA;\n",
              "      box-shadow: 0px 1px 2px rgba(60, 64, 67, 0.3), 0px 1px 3px 1px rgba(60, 64, 67, 0.15);\n",
              "      fill: #174EA6;\n",
              "    }\n",
              "\n",
              "    [theme=dark] .colab-df-convert {\n",
              "      background-color: #3B4455;\n",
              "      fill: #D2E3FC;\n",
              "    }\n",
              "\n",
              "    [theme=dark] .colab-df-convert:hover {\n",
              "      background-color: #434B5C;\n",
              "      box-shadow: 0px 1px 3px 1px rgba(0, 0, 0, 0.15);\n",
              "      filter: drop-shadow(0px 1px 2px rgba(0, 0, 0, 0.3));\n",
              "      fill: #FFFFFF;\n",
              "    }\n",
              "  </style>\n",
              "\n",
              "      <script>\n",
              "        const buttonEl =\n",
              "          document.querySelector('#df-41a24771-9e47-49e0-aad7-3e3d49c879ec button.colab-df-convert');\n",
              "        buttonEl.style.display =\n",
              "          google.colab.kernel.accessAllowed ? 'block' : 'none';\n",
              "\n",
              "        async function convertToInteractive(key) {\n",
              "          const element = document.querySelector('#df-41a24771-9e47-49e0-aad7-3e3d49c879ec');\n",
              "          const dataTable =\n",
              "            await google.colab.kernel.invokeFunction('convertToInteractive',\n",
              "                                                     [key], {});\n",
              "          if (!dataTable) return;\n",
              "\n",
              "          const docLinkHtml = 'Like what you see? Visit the ' +\n",
              "            '<a target=\"_blank\" href=https://colab.research.google.com/notebooks/data_table.ipynb>data table notebook</a>'\n",
              "            + ' to learn more about interactive tables.';\n",
              "          element.innerHTML = '';\n",
              "          dataTable['output_type'] = 'display_data';\n",
              "          await google.colab.output.renderOutput(dataTable, element);\n",
              "          const docLink = document.createElement('div');\n",
              "          docLink.innerHTML = docLinkHtml;\n",
              "          element.appendChild(docLink);\n",
              "        }\n",
              "      </script>\n",
              "    </div>\n",
              "  </div>\n",
              "  "
            ]
          },
          "metadata": {},
          "execution_count": 3
        }
      ]
    },
    {
      "cell_type": "code",
      "source": [
        "test_data.head()"
      ],
      "metadata": {
        "colab": {
          "base_uri": "https://localhost:8080/",
          "height": 0
        },
        "id": "4UlfuE3g4ha4",
        "outputId": "e1be327b-6e49-4b6c-ec57-3aa18a038dc9"
      },
      "execution_count": 4,
      "outputs": [
        {
          "output_type": "execute_result",
          "data": {
            "text/plain": [
              "                                        comment_text  toxic  severe_toxic  \\\n",
              "0  thank understanding think highly would revert ...      0             0   \n",
              "1                             dear god site horrible      0             0   \n",
              "2  somebody invariably try add religion really yo...      0             0   \n",
              "3  says right type the type institution needed ca...      0             0   \n",
              "4  before adding new product list make sure relev...      0             0   \n",
              "\n",
              "   obscene  threat  insult  identity_hate  \n",
              "0        0       0       0              0  \n",
              "1        0       0       0              0  \n",
              "2        0       0       0              0  \n",
              "3        0       0       0              0  \n",
              "4        0       0       0              0  "
            ],
            "text/html": [
              "\n",
              "  <div id=\"df-66e07370-0db0-4825-ba76-410d11955e8f\">\n",
              "    <div class=\"colab-df-container\">\n",
              "      <div>\n",
              "<style scoped>\n",
              "    .dataframe tbody tr th:only-of-type {\n",
              "        vertical-align: middle;\n",
              "    }\n",
              "\n",
              "    .dataframe tbody tr th {\n",
              "        vertical-align: top;\n",
              "    }\n",
              "\n",
              "    .dataframe thead th {\n",
              "        text-align: right;\n",
              "    }\n",
              "</style>\n",
              "<table border=\"1\" class=\"dataframe\">\n",
              "  <thead>\n",
              "    <tr style=\"text-align: right;\">\n",
              "      <th></th>\n",
              "      <th>comment_text</th>\n",
              "      <th>toxic</th>\n",
              "      <th>severe_toxic</th>\n",
              "      <th>obscene</th>\n",
              "      <th>threat</th>\n",
              "      <th>insult</th>\n",
              "      <th>identity_hate</th>\n",
              "    </tr>\n",
              "  </thead>\n",
              "  <tbody>\n",
              "    <tr>\n",
              "      <th>0</th>\n",
              "      <td>thank understanding think highly would revert ...</td>\n",
              "      <td>0</td>\n",
              "      <td>0</td>\n",
              "      <td>0</td>\n",
              "      <td>0</td>\n",
              "      <td>0</td>\n",
              "      <td>0</td>\n",
              "    </tr>\n",
              "    <tr>\n",
              "      <th>1</th>\n",
              "      <td>dear god site horrible</td>\n",
              "      <td>0</td>\n",
              "      <td>0</td>\n",
              "      <td>0</td>\n",
              "      <td>0</td>\n",
              "      <td>0</td>\n",
              "      <td>0</td>\n",
              "    </tr>\n",
              "    <tr>\n",
              "      <th>2</th>\n",
              "      <td>somebody invariably try add religion really yo...</td>\n",
              "      <td>0</td>\n",
              "      <td>0</td>\n",
              "      <td>0</td>\n",
              "      <td>0</td>\n",
              "      <td>0</td>\n",
              "      <td>0</td>\n",
              "    </tr>\n",
              "    <tr>\n",
              "      <th>3</th>\n",
              "      <td>says right type the type institution needed ca...</td>\n",
              "      <td>0</td>\n",
              "      <td>0</td>\n",
              "      <td>0</td>\n",
              "      <td>0</td>\n",
              "      <td>0</td>\n",
              "      <td>0</td>\n",
              "    </tr>\n",
              "    <tr>\n",
              "      <th>4</th>\n",
              "      <td>before adding new product list make sure relev...</td>\n",
              "      <td>0</td>\n",
              "      <td>0</td>\n",
              "      <td>0</td>\n",
              "      <td>0</td>\n",
              "      <td>0</td>\n",
              "      <td>0</td>\n",
              "    </tr>\n",
              "  </tbody>\n",
              "</table>\n",
              "</div>\n",
              "      <button class=\"colab-df-convert\" onclick=\"convertToInteractive('df-66e07370-0db0-4825-ba76-410d11955e8f')\"\n",
              "              title=\"Convert this dataframe to an interactive table.\"\n",
              "              style=\"display:none;\">\n",
              "        \n",
              "  <svg xmlns=\"http://www.w3.org/2000/svg\" height=\"24px\"viewBox=\"0 0 24 24\"\n",
              "       width=\"24px\">\n",
              "    <path d=\"M0 0h24v24H0V0z\" fill=\"none\"/>\n",
              "    <path d=\"M18.56 5.44l.94 2.06.94-2.06 2.06-.94-2.06-.94-.94-2.06-.94 2.06-2.06.94zm-11 1L8.5 8.5l.94-2.06 2.06-.94-2.06-.94L8.5 2.5l-.94 2.06-2.06.94zm10 10l.94 2.06.94-2.06 2.06-.94-2.06-.94-.94-2.06-.94 2.06-2.06.94z\"/><path d=\"M17.41 7.96l-1.37-1.37c-.4-.4-.92-.59-1.43-.59-.52 0-1.04.2-1.43.59L10.3 9.45l-7.72 7.72c-.78.78-.78 2.05 0 2.83L4 21.41c.39.39.9.59 1.41.59.51 0 1.02-.2 1.41-.59l7.78-7.78 2.81-2.81c.8-.78.8-2.07 0-2.86zM5.41 20L4 18.59l7.72-7.72 1.47 1.35L5.41 20z\"/>\n",
              "  </svg>\n",
              "      </button>\n",
              "      \n",
              "  <style>\n",
              "    .colab-df-container {\n",
              "      display:flex;\n",
              "      flex-wrap:wrap;\n",
              "      gap: 12px;\n",
              "    }\n",
              "\n",
              "    .colab-df-convert {\n",
              "      background-color: #E8F0FE;\n",
              "      border: none;\n",
              "      border-radius: 50%;\n",
              "      cursor: pointer;\n",
              "      display: none;\n",
              "      fill: #1967D2;\n",
              "      height: 32px;\n",
              "      padding: 0 0 0 0;\n",
              "      width: 32px;\n",
              "    }\n",
              "\n",
              "    .colab-df-convert:hover {\n",
              "      background-color: #E2EBFA;\n",
              "      box-shadow: 0px 1px 2px rgba(60, 64, 67, 0.3), 0px 1px 3px 1px rgba(60, 64, 67, 0.15);\n",
              "      fill: #174EA6;\n",
              "    }\n",
              "\n",
              "    [theme=dark] .colab-df-convert {\n",
              "      background-color: #3B4455;\n",
              "      fill: #D2E3FC;\n",
              "    }\n",
              "\n",
              "    [theme=dark] .colab-df-convert:hover {\n",
              "      background-color: #434B5C;\n",
              "      box-shadow: 0px 1px 3px 1px rgba(0, 0, 0, 0.15);\n",
              "      filter: drop-shadow(0px 1px 2px rgba(0, 0, 0, 0.3));\n",
              "      fill: #FFFFFF;\n",
              "    }\n",
              "  </style>\n",
              "\n",
              "      <script>\n",
              "        const buttonEl =\n",
              "          document.querySelector('#df-66e07370-0db0-4825-ba76-410d11955e8f button.colab-df-convert');\n",
              "        buttonEl.style.display =\n",
              "          google.colab.kernel.accessAllowed ? 'block' : 'none';\n",
              "\n",
              "        async function convertToInteractive(key) {\n",
              "          const element = document.querySelector('#df-66e07370-0db0-4825-ba76-410d11955e8f');\n",
              "          const dataTable =\n",
              "            await google.colab.kernel.invokeFunction('convertToInteractive',\n",
              "                                                     [key], {});\n",
              "          if (!dataTable) return;\n",
              "\n",
              "          const docLinkHtml = 'Like what you see? Visit the ' +\n",
              "            '<a target=\"_blank\" href=https://colab.research.google.com/notebooks/data_table.ipynb>data table notebook</a>'\n",
              "            + ' to learn more about interactive tables.';\n",
              "          element.innerHTML = '';\n",
              "          dataTable['output_type'] = 'display_data';\n",
              "          await google.colab.output.renderOutput(dataTable, element);\n",
              "          const docLink = document.createElement('div');\n",
              "          docLink.innerHTML = docLinkHtml;\n",
              "          element.appendChild(docLink);\n",
              "        }\n",
              "      </script>\n",
              "    </div>\n",
              "  </div>\n",
              "  "
            ]
          },
          "metadata": {},
          "execution_count": 4
        }
      ]
    },
    {
      "cell_type": "markdown",
      "source": [
        "# **Etude de différents Modèles**"
      ],
      "metadata": {
        "id": "uK-m8hpGag8M"
      }
    },
    {
      "cell_type": "markdown",
      "source": [
        "## RandomForest"
      ],
      "metadata": {
        "id": "TF8KnMkciY01"
      }
    },
    {
      "cell_type": "markdown",
      "source": [
        "Nous avons décidé tout d'abord d'essayer un arbre de décision de type RandomForest pour résoudre ce problème, ce genre d'algorithme étant relativement simple à implémenter."
      ],
      "metadata": {
        "id": "546imsor-eyx"
      }
    },
    {
      "cell_type": "markdown",
      "source": [
        "On rencontre un problème pour réaliser un RandomForest sur google colab: la quantité de données nous fait dépasse la RAM maximale allouée par google colab. Pour résoudre ce problème on va enlever une grosse partie des données tout en gardant les commentaires 'severe_toxic', 'threat' et 'identity_hate' car ils sont déjà peu nombreux et on risquerai de ne plus en avoir assez pour que le modèle soit significatif pour ces classes en particulier. Cela change la proportion de commentaire toxique, mais cela ne devrait pas changer signifcativement le résultat du modèle."
      ],
      "metadata": {
        "id": "02j2aROwg6Vq"
      }
    },
    {
      "cell_type": "code",
      "source": [
        "sample_size = int(25000)\n",
        "\n",
        "#On sépare les données à garder des données à retirer puis on retire \n",
        "#le nombre de données suffisant pour atteindre la taille de sample voulue\n",
        "data_to_keep= training_data[(training_data['severe_toxic'] == 1) | (training_data['threat'] == 1) | (training_data['identity_hate'] == 1)]\n",
        "data_to_remove_from = training_data[(training_data['severe_toxic'] == 0) & (training_data['threat'] == 0) & (training_data['identity_hate'] == 0)].head(sample_size - len(data_to_keep))\n",
        "\n",
        "#On réunit les 2 parties précédentes en mélangeant pour ne peut causer de biais\n",
        "#à cause des indices des lignes (sinon tous les commentaires 'severe_toxic', \n",
        "#'threat' et 'identity_hate' seraient au début et les autres à la fin)\n",
        "training_sample = data_to_keep.append(data_to_remove_from, ignore_index=True).sample(frac=1).reset_index(drop=True)"
      ],
      "metadata": {
        "id": "jw7FOLyva9Yr"
      },
      "execution_count": 5,
      "outputs": []
    },
    {
      "cell_type": "markdown",
      "source": [
        "On fait ensuite la même chose avec les données de test (encore une fois pour ne pas dépasser la RAM allouée par google Colab)"
      ],
      "metadata": {
        "id": "FY-8feu84sa7"
      }
    },
    {
      "cell_type": "code",
      "source": [
        "#On sépare les données à garder des données à retirer puis on retire \n",
        "#le nombre de données suffisant pour atteindre la taille de sample voulue\n",
        "data_to_keep= test_data[(test_data['severe_toxic'] == 1) | (test_data['threat'] == 1) | (test_data['identity_hate'] == 1)]\n",
        "data_to_remove_from = test_data[(test_data['severe_toxic'] == 0) & (test_data['threat'] == 0) & (test_data['identity_hate'] == 0)].head(sample_size - len(data_to_keep))\n",
        "\n",
        "#On réunit les 2 parties précédentes en mélangeant pour ne peut causer de biais\n",
        "#à cause des indices des lignes (sinon tous les commentaires 'severe_toxic', \n",
        "#'threat' et 'identity_hate' seraient au début et les autres à la fin)\n",
        "test_sample = data_to_keep.append(data_to_remove_from, ignore_index=True).sample(frac=1).reset_index(drop=True)"
      ],
      "metadata": {
        "id": "Vv0BJqKz4s8h"
      },
      "execution_count": 6,
      "outputs": []
    },
    {
      "cell_type": "markdown",
      "source": [
        "On sépare ensuite les données des classes pour les données d'entraînement et les données de test en prévision pour le random forest"
      ],
      "metadata": {
        "id": "oivKYSgXq3v2"
      }
    },
    {
      "cell_type": "code",
      "source": [
        "training_data_sample = [*training_sample['comment_text']]\n",
        "training_labels_sample = [*training_sample.drop(['comment_text'],axis=1).values]\n",
        "#On prend un échantillon pour les tests 10 fois plus petit que celui pour l'entraînement\n",
        "test_data_sample = [*test_sample['comment_text']][:int(sample_size/10)]\n",
        "test_labels_sample = [*test_sample.drop(['comment_text'],axis=1).values][:int(sample_size/10)]"
      ],
      "metadata": {
        "id": "eP8ZDfkjh6R1"
      },
      "execution_count": 7,
      "outputs": []
    },
    {
      "cell_type": "markdown",
      "source": [
        "On crée le vecteur tfID des données d'entraînement et de test"
      ],
      "metadata": {
        "id": "39xP9M7Orhvx"
      }
    },
    {
      "cell_type": "code",
      "source": [
        "Data_temp = training_data_sample.copy()\n",
        "Data_temp.extend(test_data_sample)\n",
        "tfIdfVectorizer = TfidfVectorizer()\n",
        "Data_tfID = tfIdfVectorizer.fit_transform(Data_temp).toarray()\n",
        "\n",
        "training_data_tfID = Data_tfID[:sample_size]\n",
        "test_data_tfID= Data_tfID[sample_size:]"
      ],
      "metadata": {
        "id": "xZMhI1HSg9qp"
      },
      "execution_count": 8,
      "outputs": []
    },
    {
      "cell_type": "code",
      "source": [
        "#inutile si on les valeurs tests prévu dans le fichier test\n",
        "\n",
        "#X_train, X_test, y_train, y_test = train_test_split(X, y, test_size=.10, random_state=3, stratify = y)"
      ],
      "metadata": {
        "id": "CtpoJg-xhEvx"
      },
      "execution_count": 9,
      "outputs": []
    },
    {
      "cell_type": "markdown",
      "source": [
        "On n'utilise que 15 estimateurs pour ne pas utiliser\n",
        "trop de RAM"
      ],
      "metadata": {
        "id": "LBdBL-dyrndK"
      }
    },
    {
      "cell_type": "code",
      "source": [
        "text_classifier = RandomForestClassifier(n_estimators=15, random_state=0)  "
      ],
      "metadata": {
        "id": "6zSpx6uIhLPh"
      },
      "execution_count": 10,
      "outputs": []
    },
    {
      "cell_type": "markdown",
      "source": [
        "On entraîne le modèle"
      ],
      "metadata": {
        "id": "aVjaTrSOrvtS"
      }
    },
    {
      "cell_type": "code",
      "source": [
        "text_classifier.fit(training_data_tfID, training_labels_sample )"
      ],
      "metadata": {
        "colab": {
          "base_uri": "https://localhost:8080/"
        },
        "id": "arRXOKsplWt8",
        "outputId": "355f3993-d294-4e65-c52a-f1db49fe3e99"
      },
      "execution_count": 11,
      "outputs": [
        {
          "output_type": "execute_result",
          "data": {
            "text/plain": [
              "RandomForestClassifier(n_estimators=15, random_state=0)"
            ]
          },
          "metadata": {},
          "execution_count": 11
        }
      ]
    },
    {
      "cell_type": "markdown",
      "metadata": {
        "id": "8m6k9TJzg6eL"
      },
      "source": [
        "On calcule la prédiction sur les données test Pour pouvoir effectuer quelques mesures de performances:\n",
        "- matrice de confusion ([doc](https://scikit-learn.org/stable/modules/generated/sklearn.metrics.confusion_matrix.html)) ;\n",
        "- rapport de classification ([doc](https://scikit-learn.org/stable/modules/generated/sklearn.metrics.classification_report.html)) ;\n",
        "- précision ([doc](https://scikit-learn.org/stable/modules/generated/sklearn.metrics.accuracy_score.html))."
      ]
    },
    {
      "cell_type": "code",
      "metadata": {
        "id": "J5BWYCO_g9Zq"
      },
      "source": [
        "predictions = text_classifier.predict(test_data_tfID)"
      ],
      "execution_count": 12,
      "outputs": []
    },
    {
      "cell_type": "code",
      "metadata": {
        "colab": {
          "base_uri": "https://localhost:8080/"
        },
        "id": "v5hO6AHdgTRV",
        "outputId": "9c4301a1-5857-48f8-e169-59dfa9fd0d8c"
      },
      "source": [
        "#print(confusion_matrix(y_test,predictions)) \n",
        "\n",
        "print(classification_report(test_labels_sample,predictions))  \n",
        "\n",
        "print(accuracy_score(test_labels_sample, predictions))"
      ],
      "execution_count": 13,
      "outputs": [
        {
          "output_type": "stream",
          "name": "stdout",
          "text": [
            "              precision    recall  f1-score   support\n",
            "\n",
            "           0       0.69      0.63      0.66       292\n",
            "           1       0.33      0.58      0.42        31\n",
            "           2       0.68      0.55      0.61       187\n",
            "           3       0.00      0.00      0.00        14\n",
            "           4       0.67      0.46      0.55       184\n",
            "           5       0.71      0.35      0.47        72\n",
            "\n",
            "   micro avg       0.65      0.53      0.59       780\n",
            "   macro avg       0.52      0.43      0.45       780\n",
            "weighted avg       0.66      0.53      0.58       780\n",
            " samples avg       0.07      0.06      0.06       780\n",
            "\n",
            "0.8696\n"
          ]
        },
        {
          "output_type": "stream",
          "name": "stderr",
          "text": [
            "/usr/local/lib/python3.8/dist-packages/sklearn/metrics/_classification.py:1318: UndefinedMetricWarning: Precision and F-score are ill-defined and being set to 0.0 in samples with no predicted labels. Use `zero_division` parameter to control this behavior.\n",
            "  _warn_prf(average, modifier, msg_start, len(result))\n",
            "/usr/local/lib/python3.8/dist-packages/sklearn/metrics/_classification.py:1318: UndefinedMetricWarning: Recall and F-score are ill-defined and being set to 0.0 in samples with no true labels. Use `zero_division` parameter to control this behavior.\n",
            "  _warn_prf(average, modifier, msg_start, len(result))\n"
          ]
        }
      ]
    },
    {
      "cell_type": "markdown",
      "source": [
        "## LSTM"
      ],
      "metadata": {
        "id": "UbeCaDnn5qkK"
      }
    },
    {
      "cell_type": "markdown",
      "source": [
        "Le RandomForest n'ayant pas donné de résultat satisfaisant et ne permettant de traiter qu'un échantillon de nos données, nous allons réaliser un réseau de neurone type LSTM. Ce réseau de neurone va permettre de traiter toutes les données sans dépasser la RAM allouée par colab et va nous permettre de modifier toute une série d'hyper-paramètre et de couches pour ajuster notre modèle."
      ],
      "metadata": {
        "id": "rSEhvXRw5tbz"
      }
    },
    {
      "cell_type": "markdown",
      "source": [
        "Hyperparamètres:"
      ],
      "metadata": {
        "id": "ULUauL0A8MCF"
      }
    },
    {
      "cell_type": "code",
      "source": [
        "embedding_dim = 100    # Dimensions used for glove6b100\n",
        "max_length = 20        # Maximum size of a tweet\n",
        "trunc_type='post'      # Truncates the tweet if it is longer than max_length\n",
        "padding_type='post'    # Adds padding to the end of the tweet if it is shorter than max_length\n",
        "oov_tok = \"<OOV>\"      # Token \"<OOV>\" replaces words that are not part of the vocabulary (Out Of Vocabulary)\n",
        "training_size=len(training_data)\n",
        "test_portion=.025"
      ],
      "metadata": {
        "id": "4ld4Saf26Eb6"
      },
      "execution_count": 90,
      "outputs": []
    },
    {
      "cell_type": "markdown",
      "source": [
        "On récupère les labels:"
      ],
      "metadata": {
        "id": "VS06-vbcAWR3"
      }
    },
    {
      "cell_type": "code",
      "source": [
        "training_labels = [*training_data.drop(['comment_text'],axis=1).values]\n",
        "test_labels = [*test_data.drop(['comment_text'],axis=1).values]"
      ],
      "metadata": {
        "id": "S8d7xPpE8P5x"
      },
      "execution_count": 91,
      "outputs": []
    },
    {
      "cell_type": "markdown",
      "source": [
        "On crée un vecteur de mots à partir de tous les commentaires dans les données d'entrainement et de test"
      ],
      "metadata": {
        "id": "L4UxV5JLAb7G"
      }
    },
    {
      "cell_type": "code",
      "source": [
        "tokenizer = Tokenizer()\n",
        "tokenizer.fit_on_texts([*training_data['comment_text']])"
      ],
      "metadata": {
        "id": "Ue2Q1PqJ9ePu"
      },
      "execution_count": 92,
      "outputs": []
    },
    {
      "cell_type": "markdown",
      "source": [
        "On récupère le nombre de mots différents:"
      ],
      "metadata": {
        "id": "ffryDnwVArNv"
      }
    },
    {
      "cell_type": "code",
      "source": [
        "word_index = tokenizer.word_index\n",
        "vocab_size=len(word_index)"
      ],
      "metadata": {
        "id": "zeIxILU39phF"
      },
      "execution_count": 93,
      "outputs": []
    },
    {
      "cell_type": "markdown",
      "source": [
        "On crée un dictionnaire mot -> vecteur"
      ],
      "metadata": {
        "id": "rtUBWn4DA1aq"
      }
    },
    {
      "cell_type": "code",
      "source": [
        "training_sequences = tokenizer.texts_to_sequences([*training_data['comment_text']])\n",
        "test_sequences = tokenizer.texts_to_sequences([*test_data['comment_text']])"
      ],
      "metadata": {
        "id": "vla6HLbr-9p3"
      },
      "execution_count": 94,
      "outputs": []
    },
    {
      "cell_type": "markdown",
      "source": [
        "On sépare les vecteurs des données d'entraînement de celles des données de test"
      ],
      "metadata": {
        "id": "6py8XVvaA5i6"
      }
    },
    {
      "cell_type": "code",
      "source": [
        "num_epochs = 25\n",
        "\n",
        "training_padded = np.array(pad_sequences(training_sequences, maxlen=max_length, padding=padding_type, truncating=trunc_type))\n",
        "training_labels = np.array(training_labels)\n",
        "testing_padded = np.array(pad_sequences(test_sequences, maxlen=max_length, padding=padding_type, truncating=trunc_type))\n",
        "testing_labels = np.array(test_labels)"
      ],
      "metadata": {
        "id": "4Ixbbb0kAK49"
      },
      "execution_count": 95,
      "outputs": []
    },
    {
      "cell_type": "markdown",
      "source": [
        "Création du modèle:"
      ],
      "metadata": {
        "id": "EzfMFCPSBFVD"
      }
    },
    {
      "cell_type": "code",
      "source": [
        "model = Sequential()\n",
        "model.add(Embedding(vocab_size+1, embedding_dim, input_length=max_length))\n",
        "model.add(LSTM(units=64))\n",
        "model.add(Dense(6, activation='sigmoid'))"
      ],
      "metadata": {
        "id": "4jYH1IoGASfL"
      },
      "execution_count": 96,
      "outputs": []
    },
    {
      "cell_type": "code",
      "source": [
        "model.summary()"
      ],
      "metadata": {
        "colab": {
          "base_uri": "https://localhost:8080/"
        },
        "id": "qAvvxDEUq345",
        "outputId": "661c125c-f5a5-4440-c211-d92e91f2a0b6"
      },
      "execution_count": 97,
      "outputs": [
        {
          "output_type": "stream",
          "name": "stdout",
          "text": [
            "Model: \"sequential_6\"\n",
            "_________________________________________________________________\n",
            " Layer (type)                Output Shape              Param #   \n",
            "=================================================================\n",
            " embedding_6 (Embedding)     (None, 20, 100)           21780700  \n",
            "                                                                 \n",
            " lstm_6 (LSTM)               (None, 64)                42240     \n",
            "                                                                 \n",
            " dense_6 (Dense)             (None, 6)                 390       \n",
            "                                                                 \n",
            "=================================================================\n",
            "Total params: 21,823,330\n",
            "Trainable params: 21,823,330\n",
            "Non-trainable params: 0\n",
            "_________________________________________________________________\n"
          ]
        }
      ]
    },
    {
      "cell_type": "markdown",
      "source": [
        "Compilation du modèle en utilisant le f1_score (le paramètre average 'weighted' permet d'obtenir la moyenne des f1_score de différentes classes et non le f1_score pour chaque classe):"
      ],
      "metadata": {
        "id": "BDWU5nkvBILn"
      }
    },
    {
      "cell_type": "code",
      "source": [
        "model.compile(loss='binary_crossentropy',optimizer='adam',metrics=F1Score(6, threshold = 0.5, average = 'weighted'))"
      ],
      "metadata": {
        "id": "hTrudFTXAnge"
      },
      "execution_count": 98,
      "outputs": []
    },
    {
      "cell_type": "markdown",
      "source": [
        "Entraînement du modèle en utilisant un callback pour sauvegarder les modèles pour pouvoir les réutiliser plus tard:"
      ],
      "metadata": {
        "id": "wrVjaiwtBLWD"
      }
    },
    {
      "cell_type": "code",
      "source": [
        "history = model.fit(training_padded, \n",
        "                      training_labels, \n",
        "                      epochs=num_epochs, \n",
        "                      validation_data=(testing_padded, testing_labels),\n",
        "                      batch_size = 256,\n",
        "                      verbose=1,\n",
        "                      callbacks = ModelCheckpoint(\n",
        "                          '/content/drive/MyDrive/NLP_4A/Projet/Model/lstm.h5', \n",
        "                          save_best_only = True, verbose=0, mode='auto', save_freq='epoch'))\n",
        "  \n",
        "print(\"Training Complete\")"
      ],
      "metadata": {
        "colab": {
          "base_uri": "https://localhost:8080/"
        },
        "id": "sHDvvcYFAqs5",
        "outputId": "208de433-3cb8-4626-db4e-6195e13b2bac"
      },
      "execution_count": 99,
      "outputs": [
        {
          "output_type": "stream",
          "name": "stdout",
          "text": [
            "Epoch 1/25\n",
            "624/624 [==============================] - 42s 62ms/step - loss: 0.1089 - f1_score: 0.4872 - val_loss: 0.0810 - val_f1_score: 0.5927\n",
            "Epoch 2/25\n",
            "624/624 [==============================] - 15s 25ms/step - loss: 0.0493 - f1_score: 0.7061 - val_loss: 0.0772 - val_f1_score: 0.6020\n",
            "Epoch 3/25\n",
            "624/624 [==============================] - 12s 19ms/step - loss: 0.0400 - f1_score: 0.7574 - val_loss: 0.0775 - val_f1_score: 0.5993\n",
            "Epoch 4/25\n",
            "624/624 [==============================] - 11s 17ms/step - loss: 0.0343 - f1_score: 0.7885 - val_loss: 0.0858 - val_f1_score: 0.6023\n",
            "Epoch 5/25\n",
            "624/624 [==============================] - 9s 15ms/step - loss: 0.0294 - f1_score: 0.8238 - val_loss: 0.0933 - val_f1_score: 0.6038\n",
            "Epoch 6/25\n",
            "624/624 [==============================] - 8s 12ms/step - loss: 0.0244 - f1_score: 0.8622 - val_loss: 0.0984 - val_f1_score: 0.6023\n",
            "Epoch 7/25\n",
            "624/624 [==============================] - 9s 15ms/step - loss: 0.0200 - f1_score: 0.8915 - val_loss: 0.1016 - val_f1_score: 0.6013\n",
            "Epoch 8/25\n",
            "624/624 [==============================] - 10s 16ms/step - loss: 0.0161 - f1_score: 0.9155 - val_loss: 0.1152 - val_f1_score: 0.6009\n",
            "Epoch 9/25\n",
            "624/624 [==============================] - 8s 13ms/step - loss: 0.0127 - f1_score: 0.9374 - val_loss: 0.1394 - val_f1_score: 0.5835\n",
            "Epoch 10/25\n",
            "624/624 [==============================] - 8s 13ms/step - loss: 0.0103 - f1_score: 0.9490 - val_loss: 0.1429 - val_f1_score: 0.5903\n",
            "Epoch 11/25\n",
            "624/624 [==============================] - 9s 14ms/step - loss: 0.0088 - f1_score: 0.9563 - val_loss: 0.1462 - val_f1_score: 0.5971\n",
            "Epoch 12/25\n",
            "624/624 [==============================] - 8s 14ms/step - loss: 0.0074 - f1_score: 0.9625 - val_loss: 0.1524 - val_f1_score: 0.5912\n",
            "Epoch 13/25\n",
            "624/624 [==============================] - 9s 15ms/step - loss: 0.0066 - f1_score: 0.9664 - val_loss: 0.1649 - val_f1_score: 0.5838\n",
            "Epoch 14/25\n",
            "624/624 [==============================] - 8s 13ms/step - loss: 0.0060 - f1_score: 0.9691 - val_loss: 0.1773 - val_f1_score: 0.5782\n",
            "Epoch 15/25\n",
            "624/624 [==============================] - 8s 13ms/step - loss: 0.0053 - f1_score: 0.9728 - val_loss: 0.1772 - val_f1_score: 0.5800\n",
            "Epoch 16/25\n",
            "624/624 [==============================] - 9s 14ms/step - loss: 0.0048 - f1_score: 0.9747 - val_loss: 0.1818 - val_f1_score: 0.5809\n",
            "Epoch 17/25\n",
            "624/624 [==============================] - 8s 12ms/step - loss: 0.0043 - f1_score: 0.9772 - val_loss: 0.1957 - val_f1_score: 0.5784\n",
            "Epoch 18/25\n",
            "624/624 [==============================] - 10s 17ms/step - loss: 0.0039 - f1_score: 0.9786 - val_loss: 0.1955 - val_f1_score: 0.5780\n",
            "Epoch 19/25\n",
            "624/624 [==============================] - 9s 15ms/step - loss: 0.0039 - f1_score: 0.9791 - val_loss: 0.1954 - val_f1_score: 0.5776\n",
            "Epoch 20/25\n",
            "624/624 [==============================] - 8s 13ms/step - loss: 0.0036 - f1_score: 0.9799 - val_loss: 0.1945 - val_f1_score: 0.5779\n",
            "Epoch 21/25\n",
            "624/624 [==============================] - 9s 14ms/step - loss: 0.0032 - f1_score: 0.9819 - val_loss: 0.2086 - val_f1_score: 0.5745\n",
            "Epoch 22/25\n",
            "624/624 [==============================] - 8s 13ms/step - loss: 0.0031 - f1_score: 0.9819 - val_loss: 0.2078 - val_f1_score: 0.5821\n",
            "Epoch 23/25\n",
            "624/624 [==============================] - 9s 15ms/step - loss: 0.0029 - f1_score: 0.9831 - val_loss: 0.2180 - val_f1_score: 0.5727\n",
            "Epoch 24/25\n",
            "624/624 [==============================] - 10s 15ms/step - loss: 0.0028 - f1_score: 0.9839 - val_loss: 0.2157 - val_f1_score: 0.5749\n",
            "Epoch 25/25\n",
            "624/624 [==============================] - 8s 13ms/step - loss: 0.0026 - f1_score: 0.9844 - val_loss: 0.2210 - val_f1_score: 0.5713\n",
            "Training Complete\n"
          ]
        }
      ]
    },
    {
      "cell_type": "markdown",
      "source": [
        "Analyse des résultats :"
      ],
      "metadata": {
        "id": "E8PTobPvBOo0"
      }
    },
    {
      "cell_type": "code",
      "source": [
        "#-----------------------------------------------------------\n",
        "# Retrieve a list of list results on training and test data\n",
        "# sets for each training epoch\n",
        "#-----------------------------------------------------------\n",
        "f1=history.history['f1_score']\n",
        "val_f1=history.history['val_f1_score']\n",
        "loss=history.history['loss']\n",
        "val_loss=history.history['val_loss']\n",
        "\n",
        "epochs=range(len(f1)) # Get number of epochs\n",
        "\n",
        "#------------------------------------------------\n",
        "# Plot training and validation accuracy per epoch\n",
        "#------------------------------------------------\n",
        "plt.plot(epochs, f1, 'r')\n",
        "plt.plot(epochs, val_f1, 'b')\n",
        "plt.title('Training and validation f1_score')\n",
        "plt.xlabel(\"Epochs\")\n",
        "plt.ylabel(\"f1_score\")\n",
        "plt.legend([\"f1_score\", \"Validation Accuracy\"])\n",
        "\n",
        "plt.figure()\n",
        "plt.show()\n",
        "\n",
        "#------------------------------------------------\n",
        "# Plot training and validation loss per epoch\n",
        "#------------------------------------------------\n",
        "plt.plot(epochs, loss, 'r')\n",
        "plt.plot(epochs, val_loss, 'b')\n",
        "plt.title('Training and validation loss')\n",
        "plt.xlabel(\"Epochs\")\n",
        "plt.ylabel(\"Loss\")\n",
        "plt.legend([\"Loss\", \"Validation Loss\"])\n",
        "\n",
        "plt.figure()\n",
        "plt.show()"
      ],
      "metadata": {
        "id": "YwkhBfZc_CrL",
        "colab": {
          "base_uri": "https://localhost:8080/",
          "height": 608
        },
        "outputId": "f64381a8-0158-4e1b-e150-edadc512496e"
      },
      "execution_count": 100,
      "outputs": [
        {
          "output_type": "display_data",
          "data": {
            "text/plain": [
              "<Figure size 432x288 with 1 Axes>"
            ],
            "image/png": "[encoded data removed]"
          },
          "metadata": {
            "needs_background": "light"
          }
        },
        {
          "output_type": "display_data",
          "data": {
            "text/plain": [
              "<Figure size 432x288 with 0 Axes>"
            ]
          },
          "metadata": {}
        },
        {
          "output_type": "display_data",
          "data": {
            "text/plain": [
              "<Figure size 432x288 with 1 Axes>"
            ],
            "image/png": "[encoded data removed]"
          },
          "metadata": {
            "needs_background": "light"
          }
        },
        {
          "output_type": "display_data",
          "data": {
            "text/plain": [
              "<Figure size 432x288 with 0 Axes>"
            ]
          },
          "metadata": {}
        }
      ]
    },
    {
      "cell_type": "markdown",
      "source": [
        "Malgré le fait que les résultats s'améliorent sur les données d'entraînement (la perte diminue et le f1 score augmente), le f1 score des données de validation atteint très vite un palier vers 60%. Il s'agit probablement d'un phénomène d'overfitting sur les données d'entraînement, lié au fait que le réseau est très basique et qu'il y a un très grand nombre de donnée donc un grand nombre de paramètre sur la matrice d'embedding. Pour résoudre ce problème, on va essayé de réduire la taille du bag of words pour diminuer le nombre de paramètres et utiliser des class_weights pour équilibrer les classes (car il y a des classes avec relativement peu de données par rapport aux autres)."
      ],
      "metadata": {
        "id": "kx_CNCQd1d0i"
      }
    },
    {
      "cell_type": "markdown",
      "source": [
        "## LSTM avec taille de bag of words = 20 000 et class_weigths"
      ],
      "metadata": {
        "id": "VJ8LKUzV2RKU"
      }
    },
    {
      "cell_type": "markdown",
      "source": [
        "Hyperparamètres:"
      ],
      "metadata": {
        "id": "2-UNOcYmMPog"
      }
    },
    {
      "cell_type": "code",
      "source": [
        "embedding_dim = 100    # Dimensions used for glove6b100\n",
        "max_length = 20        # Maximum size of a tweet\n",
        "trunc_type='post'      # Truncates the tweet if it is longer than max_length\n",
        "padding_type='post'    # Adds padding to the end of the tweet if it is shorter than max_length\n",
        "oov_tok = \"<OOV>\"      # Token \"<OOV>\" replaces words that are not part of the vocabulary (Out Of Vocabulary)\n",
        "training_size=len(training_data)\n",
        "test_portion=.025"
      ],
      "metadata": {
        "id": "0O6kYQzQMPoh"
      },
      "execution_count": 101,
      "outputs": []
    },
    {
      "cell_type": "markdown",
      "source": [
        "On récupère les labels:"
      ],
      "metadata": {
        "id": "0APw2y9BMPoh"
      }
    },
    {
      "cell_type": "code",
      "source": [
        "training_labels = [*training_data.drop(['comment_text'],axis=1).values]\n",
        "test_labels = [*test_data.drop(['comment_text'],axis=1).values]"
      ],
      "metadata": {
        "id": "FbzGW13jMPoh"
      },
      "execution_count": 102,
      "outputs": []
    },
    {
      "cell_type": "markdown",
      "source": [
        "On crée un vecteur de mots à partir de tous les commentaires dans les données d'entrainement et de test"
      ],
      "metadata": {
        "id": "ueraoZaH2D76"
      }
    },
    {
      "cell_type": "code",
      "source": [
        "tokenizer = Tokenizer(num_words = 20000)\n",
        "tokenizer.fit_on_texts([*training_data['comment_text']])"
      ],
      "metadata": {
        "id": "EdbZJM092D76"
      },
      "execution_count": 103,
      "outputs": []
    },
    {
      "cell_type": "code",
      "source": [
        "word_index = tokenizer.word_index\n",
        "vocab_size=len(word_index)"
      ],
      "metadata": {
        "id": "p3BPA0-uMPoh"
      },
      "execution_count": 104,
      "outputs": []
    },
    {
      "cell_type": "markdown",
      "source": [
        "On crée un dictionnaire mot -> vecteur"
      ],
      "metadata": {
        "id": "r3oE5yFh2D77"
      }
    },
    {
      "cell_type": "code",
      "source": [
        "training_sequences = tokenizer.texts_to_sequences([*training_data['comment_text']])\n",
        "test_sequences = tokenizer.texts_to_sequences([*test_data['comment_text']])"
      ],
      "metadata": {
        "id": "7ahY9Pci2D77"
      },
      "execution_count": 105,
      "outputs": []
    },
    {
      "cell_type": "markdown",
      "source": [
        "On sépare les vecteurs des données d'entraînement de celles des données de test"
      ],
      "metadata": {
        "id": "zttIvT0y2D77"
      }
    },
    {
      "cell_type": "code",
      "source": [
        "num_epochs = 25\n",
        "\n",
        "training_padded = np.array(pad_sequences(training_sequences, maxlen=max_length, padding=padding_type, truncating=trunc_type))\n",
        "training_labels = np.array(training_labels)\n",
        "testing_padded = np.array(pad_sequences(test_sequences, maxlen=max_length, padding=padding_type, truncating=trunc_type))\n",
        "testing_labels = np.array(test_labels)"
      ],
      "metadata": {
        "id": "8aFFub5V2D77"
      },
      "execution_count": 106,
      "outputs": []
    },
    {
      "cell_type": "markdown",
      "source": [
        "Définition de la matrice de classe_weights pour équilibrer les classes peu représentées dans l'échantillon"
      ],
      "metadata": {
        "id": "LXlQNjXc8_GP"
      }
    },
    {
      "cell_type": "code",
      "source": [
        "class_weights = np.sum(training_labels, axis=0)/training_labels.shape[0]"
      ],
      "metadata": {
        "id": "oug_gPwI_VmW"
      },
      "execution_count": 107,
      "outputs": []
    },
    {
      "cell_type": "code",
      "source": [
        "class_weights = min(class_weights)/class_weights"
      ],
      "metadata": {
        "id": "Bc76VPe39ATP"
      },
      "execution_count": 108,
      "outputs": []
    },
    {
      "cell_type": "code",
      "source": [
        "class_weights"
      ],
      "metadata": {
        "id": "sLe_qlQCA9ta",
        "outputId": "0b5824bd-f49e-4533-c476-d600a77d71b4",
        "colab": {
          "base_uri": "https://localhost:8080/"
        }
      },
      "execution_count": 109,
      "outputs": [
        {
          "output_type": "execute_result",
          "data": {
            "text/plain": [
              "array([0.03126431, 0.29987453, 0.05660154, 1.        , 0.06069841,\n",
              "       0.3406985 ])"
            ]
          },
          "metadata": {},
          "execution_count": 109
        }
      ]
    },
    {
      "cell_type": "markdown",
      "source": [
        "Création du modèle:"
      ],
      "metadata": {
        "id": "VXkXJwF02D77"
      }
    },
    {
      "cell_type": "code",
      "source": [
        "model = Sequential()\n",
        "model.add(Embedding(20000+1, embedding_dim, input_length=max_length))\n",
        "model.add(LSTM(units=64))\n",
        "model.add(Dense(6, activation='sigmoid'))"
      ],
      "metadata": {
        "id": "rJp6P8I32D78"
      },
      "execution_count": 110,
      "outputs": []
    },
    {
      "cell_type": "code",
      "source": [
        "model.summary()"
      ],
      "metadata": {
        "outputId": "9245222c-036d-406e-e9a2-5f4a56f03a92",
        "colab": {
          "base_uri": "https://localhost:8080/"
        },
        "id": "_i1bM_Zu2D78"
      },
      "execution_count": 111,
      "outputs": [
        {
          "output_type": "stream",
          "name": "stdout",
          "text": [
            "Model: \"sequential_7\"\n",
            "_________________________________________________________________\n",
            " Layer (type)                Output Shape              Param #   \n",
            "=================================================================\n",
            " embedding_7 (Embedding)     (None, 20, 100)           2000100   \n",
            "                                                                 \n",
            " lstm_7 (LSTM)               (None, 64)                42240     \n",
            "                                                                 \n",
            " dense_7 (Dense)             (None, 6)                 390       \n",
            "                                                                 \n",
            "=================================================================\n",
            "Total params: 2,042,730\n",
            "Trainable params: 2,042,730\n",
            "Non-trainable params: 0\n",
            "_________________________________________________________________\n"
          ]
        }
      ]
    },
    {
      "cell_type": "markdown",
      "source": [
        "Compilation du modèle en utilisant le f1_score et les classes wieghts:"
      ],
      "metadata": {
        "id": "gbANeWOn2D78"
      }
    },
    {
      "cell_type": "code",
      "source": [
        "model.compile(loss='binary_crossentropy',optimizer='adam',metrics=F1Score(6, threshold = 0.5, average = 'weighted'), loss_weights = class_weights)"
      ],
      "metadata": {
        "id": "tp0g6wml2D78"
      },
      "execution_count": 112,
      "outputs": []
    },
    {
      "cell_type": "markdown",
      "source": [
        "Entraînement du modèle en utilisant un callback pour sauvegarder les modèles pour pouvoir les réutiliser plus tard:"
      ],
      "metadata": {
        "id": "BMkxsnyO2D79"
      }
    },
    {
      "cell_type": "code",
      "source": [
        "history = model.fit(training_padded, \n",
        "                      training_labels, \n",
        "                      epochs=num_epochs, \n",
        "                      validation_data=(testing_padded, testing_labels),\n",
        "                      batch_size = 256,\n",
        "                      verbose=1,\n",
        "                      callbacks = ModelCheckpoint(\n",
        "                          '/content/drive/MyDrive/NLP_4A/Projet/Model/lstm_class_weights.h5', \n",
        "                          save_best_only = True, verbose=0, mode='auto', save_freq='epoch'))\n",
        "  \n",
        "print(\"Training Complete\")"
      ],
      "metadata": {
        "colab": {
          "base_uri": "https://localhost:8080/"
        },
        "outputId": "6cf05900-fe9e-4bad-d287-76573598d241",
        "id": "TSD7tuLo2D79"
      },
      "execution_count": 113,
      "outputs": [
        {
          "output_type": "stream",
          "name": "stdout",
          "text": [
            "Epoch 1/25\n",
            "624/624 [==============================] - 39s 58ms/step - loss: 0.0344 - f1_score: 0.4433 - val_loss: 0.0245 - val_f1_score: 0.5914\n",
            "Epoch 2/25\n",
            "624/624 [==============================] - 14s 22ms/step - loss: 0.0160 - f1_score: 0.6847 - val_loss: 0.0225 - val_f1_score: 0.5984\n",
            "Epoch 3/25\n",
            "624/624 [==============================] - 11s 17ms/step - loss: 0.0141 - f1_score: 0.7156 - val_loss: 0.0238 - val_f1_score: 0.5964\n",
            "Epoch 4/25\n",
            "624/624 [==============================] - 10s 16ms/step - loss: 0.0128 - f1_score: 0.7394 - val_loss: 0.0252 - val_f1_score: 0.5991\n",
            "Epoch 5/25\n",
            "624/624 [==============================] - 8s 12ms/step - loss: 0.0116 - f1_score: 0.7634 - val_loss: 0.0256 - val_f1_score: 0.5854\n",
            "Epoch 6/25\n",
            "624/624 [==============================] - 7s 12ms/step - loss: 0.0102 - f1_score: 0.7954 - val_loss: 0.0281 - val_f1_score: 0.6017\n",
            "Epoch 7/25\n",
            "624/624 [==============================] - 6s 9ms/step - loss: 0.0090 - f1_score: 0.8264 - val_loss: 0.0307 - val_f1_score: 0.5922\n",
            "Epoch 8/25\n",
            "624/624 [==============================] - 6s 10ms/step - loss: 0.0080 - f1_score: 0.8490 - val_loss: 0.0316 - val_f1_score: 0.5946\n",
            "Epoch 9/25\n",
            "624/624 [==============================] - 6s 10ms/step - loss: 0.0070 - f1_score: 0.8723 - val_loss: 0.0325 - val_f1_score: 0.6004\n",
            "Epoch 10/25\n",
            "624/624 [==============================] - 6s 10ms/step - loss: 0.0061 - f1_score: 0.8917 - val_loss: 0.0369 - val_f1_score: 0.5863\n",
            "Epoch 11/25\n",
            "624/624 [==============================] - 5s 9ms/step - loss: 0.0053 - f1_score: 0.9052 - val_loss: 0.0374 - val_f1_score: 0.5894\n",
            "Epoch 12/25\n",
            "624/624 [==============================] - 5s 8ms/step - loss: 0.0048 - f1_score: 0.9151 - val_loss: 0.0410 - val_f1_score: 0.5859\n",
            "Epoch 13/25\n",
            "624/624 [==============================] - 6s 10ms/step - loss: 0.0043 - f1_score: 0.9245 - val_loss: 0.0428 - val_f1_score: 0.5844\n",
            "Epoch 14/25\n",
            "624/624 [==============================] - 5s 8ms/step - loss: 0.0039 - f1_score: 0.9336 - val_loss: 0.0449 - val_f1_score: 0.5802\n",
            "Epoch 15/25\n",
            "624/624 [==============================] - 7s 11ms/step - loss: 0.0035 - f1_score: 0.9383 - val_loss: 0.0485 - val_f1_score: 0.5762\n",
            "Epoch 16/25\n",
            "624/624 [==============================] - 5s 8ms/step - loss: 0.0033 - f1_score: 0.9427 - val_loss: 0.0518 - val_f1_score: 0.5795\n",
            "Epoch 17/25\n",
            "624/624 [==============================] - 6s 10ms/step - loss: 0.0030 - f1_score: 0.9473 - val_loss: 0.0529 - val_f1_score: 0.5828\n",
            "Epoch 18/25\n",
            "624/624 [==============================] - 6s 9ms/step - loss: 0.0028 - f1_score: 0.9514 - val_loss: 0.0557 - val_f1_score: 0.5770\n",
            "Epoch 19/25\n",
            "624/624 [==============================] - 5s 9ms/step - loss: 0.0026 - f1_score: 0.9541 - val_loss: 0.0541 - val_f1_score: 0.5641\n",
            "Epoch 20/25\n",
            "624/624 [==============================] - 7s 12ms/step - loss: 0.0025 - f1_score: 0.9556 - val_loss: 0.0563 - val_f1_score: 0.5664\n",
            "Epoch 21/25\n",
            "624/624 [==============================] - 6s 9ms/step - loss: 0.0023 - f1_score: 0.9594 - val_loss: 0.0617 - val_f1_score: 0.5680\n",
            "Epoch 22/25\n",
            "624/624 [==============================] - 7s 11ms/step - loss: 0.0022 - f1_score: 0.9614 - val_loss: 0.0588 - val_f1_score: 0.5771\n",
            "Epoch 23/25\n",
            "624/624 [==============================] - 6s 9ms/step - loss: 0.0021 - f1_score: 0.9641 - val_loss: 0.0602 - val_f1_score: 0.5727\n",
            "Epoch 24/25\n",
            "624/624 [==============================] - 6s 10ms/step - loss: 0.0020 - f1_score: 0.9651 - val_loss: 0.0631 - val_f1_score: 0.5771\n",
            "Epoch 25/25\n",
            "624/624 [==============================] - 6s 10ms/step - loss: 0.0019 - f1_score: 0.9677 - val_loss: 0.0631 - val_f1_score: 0.5760\n",
            "Training Complete\n"
          ]
        }
      ]
    },
    {
      "cell_type": "markdown",
      "source": [
        "Analyse des résultats :"
      ],
      "metadata": {
        "id": "6QhgYPQu2D7-"
      }
    },
    {
      "cell_type": "code",
      "source": [
        "#-----------------------------------------------------------\n",
        "# Retrieve a list of list results on training and test data\n",
        "# sets for each training epoch\n",
        "#-----------------------------------------------------------\n",
        "f1=history.history['f1_score']\n",
        "val_f1=history.history['val_f1_score']\n",
        "loss=history.history['loss']\n",
        "val_loss=history.history['val_loss']\n",
        "\n",
        "epochs=range(len(f1)) # Get number of epochs\n",
        "\n",
        "#------------------------------------------------\n",
        "# Plot training and validation accuracy per epoch\n",
        "#------------------------------------------------\n",
        "plt.plot(epochs, f1, 'r')\n",
        "plt.plot(epochs, f1, 'b')\n",
        "plt.title('Training and validation f1_score')\n",
        "plt.xlabel(\"Epochs\")\n",
        "plt.ylabel(\"f1_score\")\n",
        "plt.legend([\"f1_score\", \"Validation Accuracy\"])\n",
        "\n",
        "plt.figure()\n",
        "plt.show()\n",
        "\n",
        "#------------------------------------------------\n",
        "# Plot training and validation loss per epoch\n",
        "#------------------------------------------------\n",
        "plt.plot(epochs, loss, 'r')\n",
        "plt.plot(epochs, val_loss, 'b')\n",
        "plt.title('Training and validation loss')\n",
        "plt.xlabel(\"Epochs\")\n",
        "plt.ylabel(\"Loss\")\n",
        "plt.legend([\"Loss\", \"Validation Loss\"])\n",
        "\n",
        "plt.figure()\n",
        "plt.show()"
      ],
      "metadata": {
        "outputId": "aea24311-4534-4412-9924-246850bf0b88",
        "colab": {
          "base_uri": "https://localhost:8080/",
          "height": 608
        },
        "id": "YNvPZTHE2D7-"
      },
      "execution_count": 114,
      "outputs": [
        {
          "output_type": "display_data",
          "data": {
            "text/plain": [
              "<Figure size 432x288 with 1 Axes>"
            ],
            "image/png": "[encoded data removed]"
          },
          "metadata": {
            "needs_background": "light"
          }
        },
        {
          "output_type": "display_data",
          "data": {
            "text/plain": [
              "<Figure size 432x288 with 0 Axes>"
            ]
          },
          "metadata": {}
        },
        {
          "output_type": "display_data",
          "data": {
            "text/plain": [
              "<Figure size 432x288 with 1 Axes>"
            ],
            "image/png": "[encoded data removed]"
          },
          "metadata": {
            "needs_background": "light"
          }
        },
        {
          "output_type": "display_data",
          "data": {
            "text/plain": [
              "<Figure size 432x288 with 0 Axes>"
            ]
          },
          "metadata": {}
        }
      ]
    },
    {
      "cell_type": "markdown",
      "source": [
        "Le problème n'a pas été résolu, on a encore de l'overfitting. On va maintenant essayer d'initialiser une matrice d'embedding en utilisant la matrice GloVe."
      ],
      "metadata": {
        "id": "xnzz0fPrD_V7"
      }
    },
    {
      "cell_type": "markdown",
      "source": [
        "## LSTM with GloVe"
      ],
      "metadata": {
        "id": "D-gr9314F_ZP"
      }
    },
    {
      "cell_type": "markdown",
      "source": [
        "Hyperparamètres:"
      ],
      "metadata": {
        "id": "owEwNxi2MfR5"
      }
    },
    {
      "cell_type": "code",
      "source": [
        "embedding_dim = 100    # Dimensions used for glove6b100\n",
        "max_length = 20        # Maximum size of a tweet\n",
        "trunc_type='post'      # Truncates the tweet if it is longer than max_length\n",
        "padding_type='post'    # Adds padding to the end of the tweet if it is shorter than max_length\n",
        "oov_tok = \"<OOV>\"      # Token \"<OOV>\" replaces words that are not part of the vocabulary (Out Of Vocabulary)\n",
        "training_size=len(training_data)\n",
        "test_portion=.025"
      ],
      "metadata": {
        "id": "tEWXT2beMfR5"
      },
      "execution_count": 115,
      "outputs": []
    },
    {
      "cell_type": "markdown",
      "source": [
        "On récupère les labels:"
      ],
      "metadata": {
        "id": "DNcQKJbyMfR6"
      }
    },
    {
      "cell_type": "code",
      "source": [
        "training_labels = [*training_data.drop(['comment_text'],axis=1).values]\n",
        "test_labels = [*test_data.drop(['comment_text'],axis=1).values]"
      ],
      "metadata": {
        "id": "6JnzldCZMfR6"
      },
      "execution_count": 116,
      "outputs": []
    },
    {
      "cell_type": "markdown",
      "source": [
        "On crée un vecteur de mots à partir de tous les commentaires dans les données d'entrainement et de test"
      ],
      "metadata": {
        "id": "z87KzpRcMfR6"
      }
    },
    {
      "cell_type": "code",
      "source": [
        "tokenizer = Tokenizer()\n",
        "tokenizer.fit_on_texts([*training_data['comment_text']])"
      ],
      "metadata": {
        "id": "ceR_BNgUMfR6"
      },
      "execution_count": 117,
      "outputs": []
    },
    {
      "cell_type": "code",
      "source": [
        "word_index = tokenizer.word_index\n",
        "vocab_size=len(word_index)"
      ],
      "metadata": {
        "id": "e3uoWs91MfR6"
      },
      "execution_count": 118,
      "outputs": []
    },
    {
      "cell_type": "markdown",
      "source": [
        "On crée un dictionnaire mot -> vecteur"
      ],
      "metadata": {
        "id": "yYM3nN-mMfR6"
      }
    },
    {
      "cell_type": "code",
      "source": [
        "training_sequences = tokenizer.texts_to_sequences([*training_data['comment_text']])\n",
        "test_sequences = tokenizer.texts_to_sequences([*test_data['comment_text']])"
      ],
      "metadata": {
        "id": "JjPEkOdvMfR6"
      },
      "execution_count": 119,
      "outputs": []
    },
    {
      "cell_type": "markdown",
      "source": [
        "On sépare les vecteurs des données d'entraînement de celles des données de test"
      ],
      "metadata": {
        "id": "FwbC3Q6dMfR6"
      }
    },
    {
      "cell_type": "code",
      "source": [
        "num_epochs = 25\n",
        "\n",
        "training_padded = np.array(pad_sequences(training_sequences, maxlen=max_length, padding=padding_type, truncating=trunc_type))\n",
        "training_labels = np.array(training_labels)\n",
        "testing_padded = np.array(pad_sequences(test_sequences, maxlen=max_length, padding=padding_type, truncating=trunc_type))\n",
        "testing_labels = np.array(test_labels)"
      ],
      "metadata": {
        "id": "K5AKdTY4MfR6"
      },
      "execution_count": 120,
      "outputs": []
    },
    {
      "cell_type": "markdown",
      "source": [
        "Définition de la matrice de classe_weights pour équilibrer les classes peu représentées dans l'échantillon"
      ],
      "metadata": {
        "id": "QI6F32HPMfR6"
      }
    },
    {
      "cell_type": "code",
      "source": [
        "class_weights = np.sum(training_labels, axis=0)/training_labels.shape[0]"
      ],
      "metadata": {
        "id": "oifLAxD0MfR7"
      },
      "execution_count": 121,
      "outputs": []
    },
    {
      "cell_type": "code",
      "source": [
        "class_weights = min(class_weights)/class_weights"
      ],
      "metadata": {
        "id": "-JpPGkciMfR7"
      },
      "execution_count": 122,
      "outputs": []
    },
    {
      "cell_type": "code",
      "source": [
        "class_weights"
      ],
      "metadata": {
        "outputId": "b0ff040d-2d0e-4909-df38-3b332a04ce5b",
        "colab": {
          "base_uri": "https://localhost:8080/"
        },
        "id": "3XZbpVlrMfR7"
      },
      "execution_count": 123,
      "outputs": [
        {
          "output_type": "execute_result",
          "data": {
            "text/plain": [
              "array([0.03126431, 0.29987453, 0.05660154, 1.        , 0.06069841,\n",
              "       0.3406985 ])"
            ]
          },
          "metadata": {},
          "execution_count": 123
        }
      ]
    },
    {
      "cell_type": "markdown",
      "source": [
        "Définition de la matrice GloVe:"
      ],
      "metadata": {
        "id": "7uRj_1emMgzp"
      }
    },
    {
      "cell_type": "code",
      "source": [
        "embeddings_index = {};\n",
        "\n",
        "with open('/content/drive/MyDrive/NLP_4A/Projet/glove.6B.100d.txt') as f:\n",
        "    for line in f:\n",
        "        values = line.split();\n",
        "        word = values[0];\n",
        "        coefs = np.asarray(values[1:], dtype='float32');\n",
        "        embeddings_index[word] = coefs;\n",
        "\n",
        "embeddings_matrix = np.zeros((vocab_size+1, embedding_dim));\n",
        "for word, i in word_index.items():\n",
        "    embedding_vector = embeddings_index.get(word);\n",
        "    if embedding_vector is not None:\n",
        "        embeddings_matrix[i] = embedding_vector;"
      ],
      "metadata": {
        "id": "xQ1uY1JcG_BF"
      },
      "execution_count": 124,
      "outputs": []
    },
    {
      "cell_type": "code",
      "source": [
        "embeddings_matrix.shape"
      ],
      "metadata": {
        "id": "py9FvTYGYDZM",
        "outputId": "dd00ccc2-5e71-4fbf-b8e2-ea9c84dc2b9b",
        "colab": {
          "base_uri": "https://localhost:8080/"
        }
      },
      "execution_count": 125,
      "outputs": [
        {
          "output_type": "execute_result",
          "data": {
            "text/plain": [
              "(217807, 100)"
            ]
          },
          "metadata": {},
          "execution_count": 125
        }
      ]
    },
    {
      "cell_type": "markdown",
      "source": [
        "Création du modèle:"
      ],
      "metadata": {
        "id": "26qoNM8fF4_h"
      }
    },
    {
      "cell_type": "code",
      "source": [
        "model = Sequential()\n",
        "model.add(Embedding(vocab_size+1, embedding_dim, weights=[embeddings_matrix], input_length=max_length))\n",
        "model.add(LSTM(units=64))\n",
        "model.add(Dense(6, activation='sigmoid'))"
      ],
      "metadata": {
        "id": "7vLWVTz4F4_i"
      },
      "execution_count": 126,
      "outputs": []
    },
    {
      "cell_type": "code",
      "source": [
        "\n",
        "model.summary()"
      ],
      "metadata": {
        "outputId": "727b7644-13a1-45d5-d2ee-3dfd92144a1a",
        "colab": {
          "base_uri": "https://localhost:8080/"
        },
        "id": "c8vgEvjNF4_i"
      },
      "execution_count": 127,
      "outputs": [
        {
          "output_type": "stream",
          "name": "stdout",
          "text": [
            "Model: \"sequential_8\"\n",
            "_________________________________________________________________\n",
            " Layer (type)                Output Shape              Param #   \n",
            "=================================================================\n",
            " embedding_8 (Embedding)     (None, 20, 100)           21780700  \n",
            "                                                                 \n",
            " lstm_8 (LSTM)               (None, 64)                42240     \n",
            "                                                                 \n",
            " dense_8 (Dense)             (None, 6)                 390       \n",
            "                                                                 \n",
            "=================================================================\n",
            "Total params: 21,823,330\n",
            "Trainable params: 21,823,330\n",
            "Non-trainable params: 0\n",
            "_________________________________________________________________\n"
          ]
        }
      ]
    },
    {
      "cell_type": "markdown",
      "source": [
        "Compilation du modèle en utilisant le f1_score et les classes weights:"
      ],
      "metadata": {
        "id": "QR5Pw6QcF4_i"
      }
    },
    {
      "cell_type": "code",
      "source": [
        "model.compile(loss='binary_crossentropy',optimizer='adam',metrics=F1Score(6, threshold = 0.5, average = 'weighted'), loss_weights = class_weights)"
      ],
      "metadata": {
        "id": "uhTig7SpF4_i"
      },
      "execution_count": 128,
      "outputs": []
    },
    {
      "cell_type": "markdown",
      "source": [
        "Entraînement du modèle en utilisant un callback pour sauvegarder les modèles pour pouvoir les réutiliser plus tard:"
      ],
      "metadata": {
        "id": "wyd4skfwF4_j"
      }
    },
    {
      "cell_type": "code",
      "source": [
        "history = model.fit(training_padded, \n",
        "                      training_labels, \n",
        "                      epochs=num_epochs, \n",
        "                      validation_data=(testing_padded, testing_labels),\n",
        "                      batch_size = 256,\n",
        "                      verbose=1,\n",
        "                      callbacks = ModelCheckpoint(\n",
        "                          '/content/drive/MyDrive/NLP_4A/Projet/Model/lstm_GloVe.h5', \n",
        "                          save_best_only = True, verbose=0, mode='auto', save_freq='epoch'))"
      ],
      "metadata": {
        "colab": {
          "base_uri": "https://localhost:8080/"
        },
        "outputId": "56f84e6e-3f43-4636-ff7e-89d8b18da927",
        "id": "FwBrglDcF4_j"
      },
      "execution_count": 129,
      "outputs": [
        {
          "output_type": "stream",
          "name": "stdout",
          "text": [
            "Epoch 1/25\n",
            "624/624 [==============================] - 38s 57ms/step - loss: 0.0274 - f1_score: 0.5205 - val_loss: 0.0229 - val_f1_score: 0.5810\n",
            "Epoch 2/25\n",
            "624/624 [==============================] - 15s 25ms/step - loss: 0.0151 - f1_score: 0.6957 - val_loss: 0.0228 - val_f1_score: 0.5973\n",
            "Epoch 3/25\n",
            "624/624 [==============================] - 11s 17ms/step - loss: 0.0125 - f1_score: 0.7493 - val_loss: 0.0250 - val_f1_score: 0.6080\n",
            "Epoch 4/25\n",
            "624/624 [==============================] - 9s 14ms/step - loss: 0.0102 - f1_score: 0.8029 - val_loss: 0.0254 - val_f1_score: 0.6177\n",
            "Epoch 5/25\n",
            "624/624 [==============================] - 10s 15ms/step - loss: 0.0085 - f1_score: 0.8399 - val_loss: 0.0282 - val_f1_score: 0.6149\n",
            "Epoch 6/25\n",
            "624/624 [==============================] - 10s 15ms/step - loss: 0.0071 - f1_score: 0.8727 - val_loss: 0.0303 - val_f1_score: 0.6016\n",
            "Epoch 7/25\n",
            "624/624 [==============================] - 8s 13ms/step - loss: 0.0060 - f1_score: 0.8967 - val_loss: 0.0296 - val_f1_score: 0.6048\n",
            "Epoch 8/25\n",
            "624/624 [==============================] - 9s 15ms/step - loss: 0.0049 - f1_score: 0.9153 - val_loss: 0.0329 - val_f1_score: 0.5921\n",
            "Epoch 9/25\n",
            "624/624 [==============================] - 9s 14ms/step - loss: 0.0041 - f1_score: 0.9319 - val_loss: 0.0352 - val_f1_score: 0.5879\n",
            "Epoch 10/25\n",
            "624/624 [==============================] - 8s 13ms/step - loss: 0.0035 - f1_score: 0.9427 - val_loss: 0.0403 - val_f1_score: 0.5789\n",
            "Epoch 11/25\n",
            "624/624 [==============================] - 9s 14ms/step - loss: 0.0029 - f1_score: 0.9523 - val_loss: 0.0434 - val_f1_score: 0.5821\n",
            "Epoch 12/25\n",
            "624/624 [==============================] - 8s 14ms/step - loss: 0.0025 - f1_score: 0.9592 - val_loss: 0.0459 - val_f1_score: 0.5699\n",
            "Epoch 13/25\n",
            "624/624 [==============================] - 8s 13ms/step - loss: 0.0022 - f1_score: 0.9641 - val_loss: 0.0485 - val_f1_score: 0.5774\n",
            "Epoch 14/25\n",
            "624/624 [==============================] - 9s 15ms/step - loss: 0.0020 - f1_score: 0.9680 - val_loss: 0.0495 - val_f1_score: 0.5665\n",
            "Epoch 15/25\n",
            "624/624 [==============================] - 9s 14ms/step - loss: 0.0018 - f1_score: 0.9714 - val_loss: 0.0501 - val_f1_score: 0.5678\n",
            "Epoch 16/25\n",
            "624/624 [==============================] - 9s 14ms/step - loss: 0.0016 - f1_score: 0.9734 - val_loss: 0.0532 - val_f1_score: 0.5665\n",
            "Epoch 17/25\n",
            "624/624 [==============================] - 9s 14ms/step - loss: 0.0014 - f1_score: 0.9766 - val_loss: 0.0552 - val_f1_score: 0.5733\n",
            "Epoch 18/25\n",
            "624/624 [==============================] - 8s 13ms/step - loss: 0.0013 - f1_score: 0.9786 - val_loss: 0.0563 - val_f1_score: 0.5673\n",
            "Epoch 19/25\n",
            "624/624 [==============================] - 8s 13ms/step - loss: 0.0012 - f1_score: 0.9798 - val_loss: 0.0578 - val_f1_score: 0.5667\n",
            "Epoch 20/25\n",
            "624/624 [==============================] - 8s 13ms/step - loss: 0.0011 - f1_score: 0.9808 - val_loss: 0.0615 - val_f1_score: 0.5611\n",
            "Epoch 21/25\n",
            "624/624 [==============================] - 8s 13ms/step - loss: 0.0011 - f1_score: 0.9815 - val_loss: 0.0575 - val_f1_score: 0.5658\n",
            "Epoch 22/25\n",
            "624/624 [==============================] - 9s 14ms/step - loss: 9.7860e-04 - f1_score: 0.9830 - val_loss: 0.0626 - val_f1_score: 0.5682\n",
            "Epoch 23/25\n",
            "624/624 [==============================] - 8s 13ms/step - loss: 9.1034e-04 - f1_score: 0.9843 - val_loss: 0.0606 - val_f1_score: 0.5593\n",
            "Epoch 24/25\n",
            "624/624 [==============================] - 9s 14ms/step - loss: 8.6786e-04 - f1_score: 0.9845 - val_loss: 0.0662 - val_f1_score: 0.5506\n",
            "Epoch 25/25\n",
            "624/624 [==============================] - 8s 12ms/step - loss: 8.0548e-04 - f1_score: 0.9857 - val_loss: 0.0687 - val_f1_score: 0.5626\n"
          ]
        }
      ]
    },
    {
      "cell_type": "markdown",
      "source": [
        "Analyse des résultats :"
      ],
      "metadata": {
        "id": "vmmab9zGF4_j"
      }
    },
    {
      "cell_type": "code",
      "source": [
        "#-----------------------------------------------------------\n",
        "# Retrieve a list of list results on training and test data\n",
        "# sets for each training epoch\n",
        "#-----------------------------------------------------------\n",
        "f1=history.history['f1_score']\n",
        "val_f1=history.history['val_f1_score']\n",
        "loss=history.history['loss']\n",
        "val_loss=history.history['val_loss']\n",
        "\n",
        "epochs=range(len(f1)) # Get number of epochs\n",
        "\n",
        "#------------------------------------------------\n",
        "# Plot training and validation accuracy per epoch\n",
        "#------------------------------------------------\n",
        "plt.plot(epochs, f1, 'r')\n",
        "plt.plot(epochs, f1, 'b')\n",
        "plt.title('Training and validation f1_score')\n",
        "plt.xlabel(\"Epochs\")\n",
        "plt.ylabel(\"f1_score\")\n",
        "plt.legend([\"f1_score\", \"Validation Accuracy\"])\n",
        "\n",
        "plt.figure()\n",
        "plt.show()\n",
        "\n",
        "#------------------------------------------------\n",
        "# Plot training and validation loss per epoch\n",
        "#------------------------------------------------\n",
        "plt.plot(epochs, loss, 'r')\n",
        "plt.plot(epochs, val_loss, 'b')\n",
        "plt.title('Training and validation loss')\n",
        "plt.xlabel(\"Epochs\")\n",
        "plt.ylabel(\"Loss\")\n",
        "plt.legend([\"Loss\", \"Validation Loss\"])\n",
        "\n",
        "plt.figure()\n",
        "plt.show()"
      ],
      "metadata": {
        "outputId": "e784d24b-0fe7-4786-e17e-99e73c1a4a28",
        "colab": {
          "base_uri": "https://localhost:8080/",
          "height": 608
        },
        "id": "1389W1KCF4_j"
      },
      "execution_count": 130,
      "outputs": [
        {
          "output_type": "display_data",
          "data": {
            "text/plain": [
              "<Figure size 432x288 with 1 Axes>"
            ],
            "image/png": "[encoded data removed]"
          },
          "metadata": {
            "needs_background": "light"
          }
        },
        {
          "output_type": "display_data",
          "data": {
            "text/plain": [
              "<Figure size 432x288 with 0 Axes>"
            ]
          },
          "metadata": {}
        },
        {
          "output_type": "display_data",
          "data": {
            "text/plain": [
              "<Figure size 432x288 with 1 Axes>"
            ],
            "image/png": "[encoded data removed]"
          },
          "metadata": {
            "needs_background": "light"
          }
        },
        {
          "output_type": "display_data",
          "data": {
            "text/plain": [
              "<Figure size 432x288 with 0 Axes>"
            ]
          },
          "metadata": {}
        }
      ]
    },
    {
      "cell_type": "markdown",
      "source": [
        "Le modèle est plus lent à atteindre le palier mais il y a toujours de l'overfitting. Pour résoudre ce problème, on va essayer de complexifier le réseau en introduisant un dropout sur le lstm."
      ],
      "metadata": {
        "id": "jAtvhqg0FzlH"
      }
    },
    {
      "cell_type": "markdown",
      "source": [
        "## LSTM with dropout"
      ],
      "metadata": {
        "id": "ZdzSYCSf_ICO"
      }
    },
    {
      "cell_type": "markdown",
      "source": [
        "Hyperparamètres:"
      ],
      "metadata": {
        "id": "ronP86_9fNdV"
      }
    },
    {
      "cell_type": "code",
      "source": [
        "embedding_dim = 100    # Dimensions used for glove6b100\n",
        "max_length = 20        # Maximum size of a tweet\n",
        "trunc_type='post'      # Truncates the tweet if it is longer than max_length\n",
        "padding_type='post'    # Adds padding to the end of the tweet if it is shorter than max_length\n",
        "oov_tok = \"<OOV>\"      # Token \"<OOV>\" replaces words that are not part of the vocabulary (Out Of Vocabulary)\n",
        "training_size=len(training_data)\n",
        "test_portion=.025"
      ],
      "metadata": {
        "id": "ubsCnFvOfNdW"
      },
      "execution_count": 131,
      "outputs": []
    },
    {
      "cell_type": "markdown",
      "source": [
        "On récupère les labels:"
      ],
      "metadata": {
        "id": "gTG3A2ZbfNdW"
      }
    },
    {
      "cell_type": "code",
      "source": [
        "training_labels = [*training_data.drop(['comment_text'],axis=1).values]\n",
        "test_labels = [*test_data.drop(['comment_text'],axis=1).values]"
      ],
      "metadata": {
        "id": "yt3jB0FtfNdW"
      },
      "execution_count": 132,
      "outputs": []
    },
    {
      "cell_type": "markdown",
      "source": [
        "On crée un vecteur de mots à partir de tous les commentaires dans les données d'entrainement et de test"
      ],
      "metadata": {
        "id": "5NdxOLLZfNdX"
      }
    },
    {
      "cell_type": "code",
      "source": [
        "tokenizer = Tokenizer()\n",
        "tokenizer.fit_on_texts([*training_data['comment_text']])"
      ],
      "metadata": {
        "id": "-faSPk3JfNdX"
      },
      "execution_count": 133,
      "outputs": []
    },
    {
      "cell_type": "code",
      "source": [
        "word_index = tokenizer.word_index\n",
        "vocab_size=len(word_index)"
      ],
      "metadata": {
        "id": "qywd93pIfNdX"
      },
      "execution_count": 134,
      "outputs": []
    },
    {
      "cell_type": "markdown",
      "source": [
        "On crée un dictionnaire mot -> vecteur"
      ],
      "metadata": {
        "id": "7VWJs3wQfNdX"
      }
    },
    {
      "cell_type": "code",
      "source": [
        "training_sequences = tokenizer.texts_to_sequences([*training_data['comment_text']])\n",
        "test_sequences = tokenizer.texts_to_sequences([*test_data['comment_text']])"
      ],
      "metadata": {
        "id": "yAy_bZlefNdY"
      },
      "execution_count": 135,
      "outputs": []
    },
    {
      "cell_type": "markdown",
      "source": [
        "On sépare les vecteurs des données d'entraînement de celles des données de test"
      ],
      "metadata": {
        "id": "UIgrEg5TfNdY"
      }
    },
    {
      "cell_type": "code",
      "source": [
        "num_epochs = 15\n",
        "\n",
        "training_padded = np.array(pad_sequences(training_sequences, maxlen=max_length, padding=padding_type, truncating=trunc_type))\n",
        "training_labels = np.array(training_labels)\n",
        "testing_padded = np.array(pad_sequences(test_sequences, maxlen=max_length, padding=padding_type, truncating=trunc_type))\n",
        "testing_labels = np.array(test_labels)"
      ],
      "metadata": {
        "id": "CZYINvk_fNdY"
      },
      "execution_count": 136,
      "outputs": []
    },
    {
      "cell_type": "markdown",
      "source": [
        "Définition de la matrice de classe_weights pour équilibrer les classes peu représentées dans l'échantillon"
      ],
      "metadata": {
        "id": "ohcrNFT4fNdY"
      }
    },
    {
      "cell_type": "code",
      "source": [
        "class_weights = np.sum(training_labels, axis=0)/training_labels.shape[0]"
      ],
      "metadata": {
        "id": "K3EUV4-MfNdZ"
      },
      "execution_count": 137,
      "outputs": []
    },
    {
      "cell_type": "code",
      "source": [
        "class_weights = min(class_weights)/class_weights"
      ],
      "metadata": {
        "id": "p2HDKfFbfNdZ"
      },
      "execution_count": 138,
      "outputs": []
    },
    {
      "cell_type": "code",
      "source": [
        "class_weights"
      ],
      "metadata": {
        "outputId": "1ddc4901-7d01-4cbb-b1c0-a75f75aa4089",
        "colab": {
          "base_uri": "https://localhost:8080/"
        },
        "id": "1Ou5QPJRfNdZ"
      },
      "execution_count": 139,
      "outputs": [
        {
          "output_type": "execute_result",
          "data": {
            "text/plain": [
              "array([0.03126431, 0.29987453, 0.05660154, 1.        , 0.06069841,\n",
              "       0.3406985 ])"
            ]
          },
          "metadata": {},
          "execution_count": 139
        }
      ]
    },
    {
      "cell_type": "markdown",
      "source": [
        "Définition de la matrice GloVe:"
      ],
      "metadata": {
        "id": "LWa0F9fxfNdZ"
      }
    },
    {
      "cell_type": "code",
      "source": [
        "embeddings_index = {};\n",
        "\n",
        "with open('/content/drive/MyDrive/NLP_4A/Projet/glove.6B.100d.txt') as f:\n",
        "    for line in f:\n",
        "        values = line.split();\n",
        "        word = values[0];\n",
        "        coefs = np.asarray(values[1:], dtype='float32');\n",
        "        embeddings_index[word] = coefs;\n",
        "\n",
        "embeddings_matrix = np.zeros((vocab_size+1, embedding_dim));\n",
        "for word, i in word_index.items():\n",
        "    embedding_vector = embeddings_index.get(word);\n",
        "    if embedding_vector is not None:\n",
        "        embeddings_matrix[i] = embedding_vector;"
      ],
      "metadata": {
        "id": "LhFwxNMCfNda"
      },
      "execution_count": 140,
      "outputs": []
    },
    {
      "cell_type": "code",
      "source": [
        "embeddings_matrix.shape"
      ],
      "metadata": {
        "outputId": "10c754dd-b850-4164-fb0b-1cea73e59d56",
        "colab": {
          "base_uri": "https://localhost:8080/"
        },
        "id": "tTdY1E8zfNda"
      },
      "execution_count": 141,
      "outputs": [
        {
          "output_type": "execute_result",
          "data": {
            "text/plain": [
              "(217807, 100)"
            ]
          },
          "metadata": {},
          "execution_count": 141
        }
      ]
    },
    {
      "cell_type": "markdown",
      "source": [
        "Création du modèle:"
      ],
      "metadata": {
        "id": "jL3T0RrKfNda"
      }
    },
    {
      "cell_type": "code",
      "source": [
        "model = Sequential()\n",
        "model.add(Embedding(vocab_size+1, embedding_dim, weights=[embeddings_matrix], input_length=max_length))\n",
        "model.add(LSTM(units=64,  dropout = 0.5, recurrent_dropout = 0.5))\n",
        "model.add(Dense(6, activation='sigmoid'))"
      ],
      "metadata": {
        "id": "HzTm82tV_IsH"
      },
      "execution_count": 142,
      "outputs": []
    },
    {
      "cell_type": "code",
      "source": [
        "model.summary()"
      ],
      "metadata": {
        "outputId": "a2b59565-9197-48e4-dee9-b71cc18b2db2",
        "colab": {
          "base_uri": "https://localhost:8080/"
        },
        "id": "R1WbznDxfNda"
      },
      "execution_count": 143,
      "outputs": [
        {
          "output_type": "stream",
          "name": "stdout",
          "text": [
            "Model: \"sequential_9\"\n",
            "_________________________________________________________________\n",
            " Layer (type)                Output Shape              Param #   \n",
            "=================================================================\n",
            " embedding_9 (Embedding)     (None, 20, 100)           21780700  \n",
            "                                                                 \n",
            " lstm_9 (LSTM)               (None, 64)                42240     \n",
            "                                                                 \n",
            " dense_9 (Dense)             (None, 6)                 390       \n",
            "                                                                 \n",
            "=================================================================\n",
            "Total params: 21,823,330\n",
            "Trainable params: 21,823,330\n",
            "Non-trainable params: 0\n",
            "_________________________________________________________________\n"
          ]
        }
      ]
    },
    {
      "cell_type": "markdown",
      "source": [
        "Compilation du modèle en utilisant le f1_score et les classes weights:"
      ],
      "metadata": {
        "id": "_KyEwfa6fNdb"
      }
    },
    {
      "cell_type": "code",
      "source": [
        "model.compile(loss='binary_crossentropy',optimizer='adam',metrics=F1Score(6, threshold = 0.5, average = 'weighted'), loss_weights = class_weights)"
      ],
      "metadata": {
        "id": "lP04juJMfNdb"
      },
      "execution_count": 144,
      "outputs": []
    },
    {
      "cell_type": "markdown",
      "source": [
        "Entraînement du modèle en utilisant un callback pour sauvegarder les modèles pour pouvoir les réutiliser plus tard:"
      ],
      "metadata": {
        "id": "O4sDQr38fNdb"
      }
    },
    {
      "cell_type": "code",
      "source": [
        "history = model.fit(training_padded, \n",
        "                      training_labels, \n",
        "                      epochs=num_epochs, \n",
        "                      validation_data=(testing_padded, testing_labels),\n",
        "                      batch_size = 256,\n",
        "                      verbose=1,\n",
        "                      callbacks = ModelCheckpoint(\n",
        "                          '/content/drive/MyDrive/NLP_4A/Projet/Model/lstm_dropout.h5', \n",
        "                          save_best_only = True, verbose=0, mode='auto', save_freq='epoch'))"
      ],
      "metadata": {
        "colab": {
          "base_uri": "https://localhost:8080/"
        },
        "outputId": "dcab1e7a-ed7f-4b8a-856e-d06fa6bf76be",
        "id": "oRPwqrkqfNdb"
      },
      "execution_count": 145,
      "outputs": [
        {
          "output_type": "stream",
          "name": "stdout",
          "text": [
            "Epoch 1/15\n",
            "624/624 [==============================] - 36s 54ms/step - loss: 0.0288 - f1_score: 0.4803 - val_loss: 0.0225 - val_f1_score: 0.5619\n",
            "Epoch 2/15\n",
            "624/624 [==============================] - 12s 20ms/step - loss: 0.0154 - f1_score: 0.6938 - val_loss: 0.0237 - val_f1_score: 0.5920\n",
            "Epoch 3/15\n",
            "624/624 [==============================] - 10s 16ms/step - loss: 0.0129 - f1_score: 0.7392 - val_loss: 0.0235 - val_f1_score: 0.5995\n",
            "Epoch 4/15\n",
            "624/624 [==============================] - 10s 16ms/step - loss: 0.0108 - f1_score: 0.7832 - val_loss: 0.0236 - val_f1_score: 0.6099\n",
            "Epoch 5/15\n",
            "624/624 [==============================] - 9s 15ms/step - loss: 0.0091 - f1_score: 0.8257 - val_loss: 0.0256 - val_f1_score: 0.6149\n",
            "Epoch 6/15\n",
            "624/624 [==============================] - 9s 15ms/step - loss: 0.0078 - f1_score: 0.8564 - val_loss: 0.0287 - val_f1_score: 0.6093\n",
            "Epoch 7/15\n",
            "624/624 [==============================] - 8s 13ms/step - loss: 0.0068 - f1_score: 0.8798 - val_loss: 0.0296 - val_f1_score: 0.6057\n",
            "Epoch 8/15\n",
            "624/624 [==============================] - 9s 14ms/step - loss: 0.0058 - f1_score: 0.9000 - val_loss: 0.0325 - val_f1_score: 0.5925\n",
            "Epoch 9/15\n",
            "624/624 [==============================] - 9s 14ms/step - loss: 0.0049 - f1_score: 0.9181 - val_loss: 0.0334 - val_f1_score: 0.5967\n",
            "Epoch 10/15\n",
            "624/624 [==============================] - 9s 14ms/step - loss: 0.0041 - f1_score: 0.9327 - val_loss: 0.0381 - val_f1_score: 0.5806\n",
            "Epoch 11/15\n",
            "624/624 [==============================] - 9s 14ms/step - loss: 0.0035 - f1_score: 0.9434 - val_loss: 0.0395 - val_f1_score: 0.5847\n",
            "Epoch 12/15\n",
            "624/624 [==============================] - 8s 13ms/step - loss: 0.0030 - f1_score: 0.9517 - val_loss: 0.0425 - val_f1_score: 0.5752\n",
            "Epoch 13/15\n",
            "624/624 [==============================] - 9s 14ms/step - loss: 0.0026 - f1_score: 0.9595 - val_loss: 0.0447 - val_f1_score: 0.5806\n",
            "Epoch 14/15\n",
            "624/624 [==============================] - 9s 14ms/step - loss: 0.0022 - f1_score: 0.9646 - val_loss: 0.0464 - val_f1_score: 0.5641\n",
            "Epoch 15/15\n",
            "624/624 [==============================] - 9s 14ms/step - loss: 0.0020 - f1_score: 0.9685 - val_loss: 0.0472 - val_f1_score: 0.5746\n"
          ]
        }
      ]
    },
    {
      "cell_type": "markdown",
      "source": [
        "Analyse des résultats :"
      ],
      "metadata": {
        "id": "OZIOaGoofNdc"
      }
    },
    {
      "cell_type": "code",
      "source": [
        "#-----------------------------------------------------------\n",
        "# Retrieve a list of list results on training and test data\n",
        "# sets for each training epoch\n",
        "#-----------------------------------------------------------\n",
        "f1=history.history['f1_score']\n",
        "val_f1=history.history['val_f1_score']\n",
        "loss=history.history['loss']\n",
        "val_loss=history.history['val_loss']\n",
        "\n",
        "epochs=range(len(f1)) # Get number of epochs\n",
        "\n",
        "#------------------------------------------------\n",
        "# Plot training and validation accuracy per epoch\n",
        "#------------------------------------------------\n",
        "plt.plot(epochs, f1, 'r')\n",
        "plt.plot(epochs, f1, 'b')\n",
        "plt.title('Training and validation f1_score')\n",
        "plt.xlabel(\"Epochs\")\n",
        "plt.ylabel(\"f1_score\")\n",
        "plt.legend([\"f1_score\", \"Validation Accuracy\"])\n",
        "\n",
        "plt.figure()\n",
        "plt.show()\n",
        "\n",
        "#------------------------------------------------\n",
        "# Plot training and validation loss per epoch\n",
        "#------------------------------------------------\n",
        "plt.plot(epochs, loss, 'r')\n",
        "plt.plot(epochs, val_loss, 'b')\n",
        "plt.title('Training and validation loss')\n",
        "plt.xlabel(\"Epochs\")\n",
        "plt.ylabel(\"Loss\")\n",
        "plt.legend([\"Loss\", \"Validation Loss\"])\n",
        "\n",
        "plt.figure()\n",
        "plt.show()"
      ],
      "metadata": {
        "id": "uMDhKF9EfNdc",
        "colab": {
          "base_uri": "https://localhost:8080/",
          "height": 608
        },
        "outputId": "c5c08df9-bd3d-4eee-a33d-3936571b482d"
      },
      "execution_count": 146,
      "outputs": [
        {
          "output_type": "display_data",
          "data": {
            "text/plain": [
              "<Figure size 432x288 with 1 Axes>"
            ],
            "image/png": "[encoded data removed]"
          },
          "metadata": {
            "needs_background": "light"
          }
        },
        {
          "output_type": "display_data",
          "data": {
            "text/plain": [
              "<Figure size 432x288 with 0 Axes>"
            ]
          },
          "metadata": {}
        },
        {
          "output_type": "display_data",
          "data": {
            "text/plain": [
              "<Figure size 432x288 with 1 Axes>"
            ],
            "image/png": "[encoded data removed]"
          },
          "metadata": {
            "needs_background": "light"
          }
        },
        {
          "output_type": "display_data",
          "data": {
            "text/plain": [
              "<Figure size 432x288 with 0 Axes>"
            ]
          },
          "metadata": {}
        }
      ]
    },
    {
      "cell_type": "markdown",
      "source": [
        "L'entrainement est beaucoup plus long et même si le résultat est un tout petit peu mieux, le problème de l'overfitting est toujours présent."
      ],
      "metadata": {
        "id": "aHDDeBePAM7u"
      }
    },
    {
      "cell_type": "markdown",
      "source": [
        "## Bidirectional LSTM"
      ],
      "metadata": {
        "id": "6WWIQ73W_WD9"
      }
    },
    {
      "cell_type": "markdown",
      "source": [
        "Le dernier modèle que nous avons essayé utilise un LSTM bidirectionnel, utilisant non seulement les mots précédents mais aussi les mots suivants pour essayer de trouver le sens d'un mot."
      ],
      "metadata": {
        "id": "53jJb8rvAOe1"
      }
    },
    {
      "cell_type": "markdown",
      "source": [
        "Hyperparamètres:"
      ],
      "metadata": {
        "id": "RxlTsvwagtBL"
      }
    },
    {
      "cell_type": "code",
      "source": [
        "embedding_dim = 100    # Dimensions used for glove6b100\n",
        "max_length = 20        # Maximum size of a tweet\n",
        "trunc_type='post'      # Truncates the tweet if it is longer than max_length\n",
        "padding_type='post'    # Adds padding to the end of the tweet if it is shorter than max_length\n",
        "oov_tok = \"<OOV>\"      # Token \"<OOV>\" replaces words that are not part of the vocabulary (Out Of Vocabulary)\n",
        "training_size=len(training_data)\n",
        "test_portion=.025"
      ],
      "metadata": {
        "id": "WAJKs0cHgtBL"
      },
      "execution_count": 147,
      "outputs": []
    },
    {
      "cell_type": "markdown",
      "source": [
        "On récupère les labels:"
      ],
      "metadata": {
        "id": "QjgXEpdkgtBM"
      }
    },
    {
      "cell_type": "code",
      "source": [
        "training_labels = [*training_data.drop(['comment_text'],axis=1).values]\n",
        "test_labels = [*test_data.drop(['comment_text'],axis=1).values]"
      ],
      "metadata": {
        "id": "AkOdFuH4gtBM"
      },
      "execution_count": 148,
      "outputs": []
    },
    {
      "cell_type": "markdown",
      "source": [
        "On crée un vecteur de mots à partir de tous les commentaires dans les données d'entrainement et de test"
      ],
      "metadata": {
        "id": "aQUVzsgRgtBM"
      }
    },
    {
      "cell_type": "code",
      "source": [
        "tokenizer = Tokenizer()\n",
        "tokenizer.fit_on_texts([*training_data['comment_text']])"
      ],
      "metadata": {
        "id": "A9WCVlBfgtBM"
      },
      "execution_count": 149,
      "outputs": []
    },
    {
      "cell_type": "code",
      "source": [
        "word_index = tokenizer.word_index\n",
        "vocab_size=len(word_index)"
      ],
      "metadata": {
        "id": "7mYnDHt2gtBM"
      },
      "execution_count": 150,
      "outputs": []
    },
    {
      "cell_type": "markdown",
      "source": [
        "On crée un dictionnaire mot -> vecteur"
      ],
      "metadata": {
        "id": "ChDYEAQNgtBN"
      }
    },
    {
      "cell_type": "code",
      "source": [
        "training_sequences = tokenizer.texts_to_sequences([*training_data['comment_text']])\n",
        "test_sequences = tokenizer.texts_to_sequences([*test_data['comment_text']])"
      ],
      "metadata": {
        "id": "myqPisFagtBN"
      },
      "execution_count": 151,
      "outputs": []
    },
    {
      "cell_type": "markdown",
      "source": [
        "On sépare les vecteurs des données d'entraînement de celles des données de test"
      ],
      "metadata": {
        "id": "GVT8D2JHgtBN"
      }
    },
    {
      "cell_type": "code",
      "source": [
        "num_epochs = 15\n",
        "\n",
        "training_padded = np.array(pad_sequences(training_sequences, maxlen=max_length, padding=padding_type, truncating=trunc_type))\n",
        "training_labels = np.array(training_labels)\n",
        "testing_padded = np.array(pad_sequences(test_sequences, maxlen=max_length, padding=padding_type, truncating=trunc_type))\n",
        "testing_labels = np.array(test_labels)"
      ],
      "metadata": {
        "id": "sYMX8T9tgtBN"
      },
      "execution_count": 152,
      "outputs": []
    },
    {
      "cell_type": "markdown",
      "source": [
        "Définition de la matrice de classe_weights pour équilibrer les classes peu représentées dans l'échantillon"
      ],
      "metadata": {
        "id": "tGwnX0y0gtBN"
      }
    },
    {
      "cell_type": "code",
      "source": [
        "class_weights = np.sum(training_labels, axis=0)/training_labels.shape[0]"
      ],
      "metadata": {
        "id": "V3wyATqjgtBN"
      },
      "execution_count": 153,
      "outputs": []
    },
    {
      "cell_type": "code",
      "source": [
        "class_weights = min(class_weights)/class_weights"
      ],
      "metadata": {
        "id": "GqqSNrXKgtBO"
      },
      "execution_count": 154,
      "outputs": []
    },
    {
      "cell_type": "code",
      "source": [
        "class_weights"
      ],
      "metadata": {
        "outputId": "105c321a-43bd-492d-e31c-7525e6a2eca1",
        "colab": {
          "base_uri": "https://localhost:8080/"
        },
        "id": "XzVreZKSgtBO"
      },
      "execution_count": 155,
      "outputs": [
        {
          "output_type": "execute_result",
          "data": {
            "text/plain": [
              "array([0.03126431, 0.29987453, 0.05660154, 1.        , 0.06069841,\n",
              "       0.3406985 ])"
            ]
          },
          "metadata": {},
          "execution_count": 155
        }
      ]
    },
    {
      "cell_type": "markdown",
      "source": [
        "Définition de la matrice GloVe:"
      ],
      "metadata": {
        "id": "ETaG7lnKgtBO"
      }
    },
    {
      "cell_type": "code",
      "source": [
        "embeddings_index = {};\n",
        "\n",
        "with open('/content/drive/MyDrive/NLP_4A/Projet/glove.6B.100d.txt') as f:\n",
        "    for line in f:\n",
        "        values = line.split();\n",
        "        word = values[0];\n",
        "        coefs = np.asarray(values[1:], dtype='float32');\n",
        "        embeddings_index[word] = coefs;\n",
        "\n",
        "embeddings_matrix = np.zeros((vocab_size+1, embedding_dim));\n",
        "for word, i in word_index.items():\n",
        "    embedding_vector = embeddings_index.get(word);\n",
        "    if embedding_vector is not None:\n",
        "        embeddings_matrix[i] = embedding_vector;"
      ],
      "metadata": {
        "id": "ikmTdjGegtBO"
      },
      "execution_count": 156,
      "outputs": []
    },
    {
      "cell_type": "code",
      "source": [
        "embeddings_matrix.shape"
      ],
      "metadata": {
        "outputId": "68e4f034-195c-4f25-fa10-68bd62505b16",
        "colab": {
          "base_uri": "https://localhost:8080/"
        },
        "id": "2QMvnCMUgtBO"
      },
      "execution_count": 157,
      "outputs": [
        {
          "output_type": "execute_result",
          "data": {
            "text/plain": [
              "(217807, 100)"
            ]
          },
          "metadata": {},
          "execution_count": 157
        }
      ]
    },
    {
      "cell_type": "markdown",
      "source": [
        "Création du modèle:"
      ],
      "metadata": {
        "id": "-iDCf3G_gtBP"
      }
    },
    {
      "cell_type": "code",
      "source": [
        "model = Sequential()\n",
        "model.add(Embedding(vocab_size+1, embedding_dim, weights=[embeddings_matrix], input_length=max_length))\n",
        "model.add(Bidirectional(LSTM(units=64, dropout = 0.5, recurrent_dropout = 0.5)))\n",
        "model.add(Dense(6, activation='sigmoid'))"
      ],
      "metadata": {
        "colab": {
          "base_uri": "https://localhost:8080/"
        },
        "outputId": "e5c83592-8d89-4677-ab00-3b03df2d031c",
        "id": "UoJ5-4ZUgtBP"
      },
      "execution_count": 158,
      "outputs": [
        {
          "output_type": "stream",
          "name": "stderr",
          "text": [
            "WARNING:tensorflow:Layer lstm_10 will not use cuDNN kernels since it doesn't meet the criteria. It will use a generic GPU kernel as fallback when running on GPU.\n",
            "WARNING:tensorflow:Layer lstm_10 will not use cuDNN kernels since it doesn't meet the criteria. It will use a generic GPU kernel as fallback when running on GPU.\n",
            "WARNING:tensorflow:Layer lstm_10 will not use cuDNN kernels since it doesn't meet the criteria. It will use a generic GPU kernel as fallback when running on GPU.\n"
          ]
        }
      ]
    },
    {
      "cell_type": "code",
      "source": [
        "model.summary()"
      ],
      "metadata": {
        "outputId": "45b0f77e-9eff-4b1b-a30c-8d9abd8ed89d",
        "colab": {
          "base_uri": "https://localhost:8080/"
        },
        "id": "er6OO47tgtBP"
      },
      "execution_count": 159,
      "outputs": [
        {
          "output_type": "stream",
          "name": "stdout",
          "text": [
            "Model: \"sequential_10\"\n",
            "_________________________________________________________________\n",
            " Layer (type)                Output Shape              Param #   \n",
            "=================================================================\n",
            " embedding_10 (Embedding)    (None, 20, 100)           21780700  \n",
            "                                                                 \n",
            " bidirectional (Bidirectiona  (None, 128)              84480     \n",
            " l)                                                              \n",
            "                                                                 \n",
            " dense_10 (Dense)            (None, 6)                 774       \n",
            "                                                                 \n",
            "=================================================================\n",
            "Total params: 21,865,954\n",
            "Trainable params: 21,865,954\n",
            "Non-trainable params: 0\n",
            "_________________________________________________________________\n"
          ]
        }
      ]
    },
    {
      "cell_type": "markdown",
      "source": [
        "Compilation du modèle en utilisant le f1_score et les classes weights:"
      ],
      "metadata": {
        "id": "TWjU9_vngtBP"
      }
    },
    {
      "cell_type": "code",
      "source": [
        "model.compile(loss='binary_crossentropy',optimizer='adam',metrics=F1Score(6, threshold = 0.5, average = 'weighted'), loss_weights = class_weights)"
      ],
      "metadata": {
        "id": "Wu4RFV-fgtBP"
      },
      "execution_count": 160,
      "outputs": []
    },
    {
      "cell_type": "markdown",
      "source": [
        "Entraînement du modèle en utilisant un callback pour sauvegarder les modèles pour pouvoir les réutiliser plus tard:"
      ],
      "metadata": {
        "id": "BXKkApHEgtBQ"
      }
    },
    {
      "cell_type": "code",
      "source": [
        "history = model.fit(training_padded, \n",
        "                      training_labels, \n",
        "                      epochs=num_epochs, \n",
        "                      validation_data=(testing_padded, testing_labels),\n",
        "                      batch_size = 256,\n",
        "                      verbose=1,\n",
        "                      callbacks = ModelCheckpoint(\n",
        "                          '/content/drive/MyDrive/NLP_4A/Projet/Model/lstm_Bidirec.h5', \n",
        "                          save_best_only = True, verbose=0, mode='auto', save_freq='epoch'))"
      ],
      "metadata": {
        "colab": {
          "base_uri": "https://localhost:8080/"
        },
        "outputId": "95aa585c-b2c3-479c-d610-9c3b7d5fe1bb",
        "id": "zAD0bcIrgtBQ"
      },
      "execution_count": null,
      "outputs": [
        {
          "output_type": "stream",
          "name": "stdout",
          "text": [
            "Epoch 1/15\n",
            "624/624 [==============================] - 178s 273ms/step - loss: 0.0253 - f1_score: 0.5403 - val_loss: 0.0234 - val_f1_score: 0.5889\n",
            "Epoch 2/15\n",
            "624/624 [==============================] - 153s 245ms/step - loss: 0.0158 - f1_score: 0.6875 - val_loss: 0.0224 - val_f1_score: 0.6095\n",
            "Epoch 3/15\n",
            "624/624 [==============================] - 147s 236ms/step - loss: 0.0137 - f1_score: 0.7266 - val_loss: 0.0224 - val_f1_score: 0.6244\n",
            "Epoch 4/15\n",
            "624/624 [==============================] - 144s 230ms/step - loss: 0.0120 - f1_score: 0.7622 - val_loss: 0.0226 - val_f1_score: 0.6374\n",
            "Epoch 5/15\n",
            "624/624 [==============================] - 142s 228ms/step - loss: 0.0107 - f1_score: 0.7922 - val_loss: 0.0247 - val_f1_score: 0.6371\n",
            "Epoch 6/15\n",
            "624/624 [==============================] - 143s 230ms/step - loss: 0.0096 - f1_score: 0.8148 - val_loss: 0.0244 - val_f1_score: 0.6366\n",
            "Epoch 7/15\n",
            "624/624 [==============================] - 148s 238ms/step - loss: 0.0089 - f1_score: 0.8329 - val_loss: 0.0257 - val_f1_score: 0.6298\n",
            "Epoch 8/15\n",
            "382/624 [=================>............] - ETA: 52s - loss: 0.0081 - f1_score: 0.8460"
          ]
        }
      ]
    },
    {
      "cell_type": "markdown",
      "source": [
        "Analyse des résultats :"
      ],
      "metadata": {
        "id": "6VU1aIISgtBQ"
      }
    },
    {
      "cell_type": "code",
      "source": [
        "#-----------------------------------------------------------\n",
        "# Retrieve a list of list results on training and test data\n",
        "# sets for each training epoch\n",
        "#-----------------------------------------------------------\n",
        "f1=history.history['f1_score']\n",
        "val_f1=history.history['val_f1_score']\n",
        "loss=history.history['loss']\n",
        "val_loss=history.history['val_loss']\n",
        "\n",
        "epochs=range(len(f1)) # Get number of epochs\n",
        "\n",
        "#------------------------------------------------\n",
        "# Plot training and validation accuracy per epoch\n",
        "#------------------------------------------------\n",
        "plt.plot(epochs, f1, 'r')\n",
        "plt.plot(epochs, f1, 'b')\n",
        "plt.title('Training and validation f1_score')\n",
        "plt.xlabel(\"Epochs\")\n",
        "plt.ylabel(\"f1_score\")\n",
        "plt.legend([\"f1_score\", \"Validation Accuracy\"])\n",
        "\n",
        "plt.figure()\n",
        "plt.show()\n",
        "\n",
        "#------------------------------------------------\n",
        "# Plot training and validation loss per epoch\n",
        "#------------------------------------------------\n",
        "plt.plot(epochs, loss, 'r')\n",
        "plt.plot(epochs, val_loss, 'b')\n",
        "plt.title('Training and validation loss')\n",
        "plt.xlabel(\"Epochs\")\n",
        "plt.ylabel(\"Loss\")\n",
        "plt.legend([\"Loss\", \"Validation Loss\"])\n",
        "\n",
        "plt.figure()\n",
        "plt.show()"
      ],
      "metadata": {
        "id": "ZtXPcMjfgtBQ"
      },
      "execution_count": null,
      "outputs": []
    },
    {
      "cell_type": "markdown",
      "source": [
        "# **Pipeline**"
      ],
      "metadata": {
        "id": "LxNIQgESTCmE"
      }
    },
    {
      "cell_type": "markdown",
      "source": [
        "D'abord, on recharge les hyperparamètres:"
      ],
      "metadata": {
        "id": "-XpmmV4wRvJp"
      }
    },
    {
      "cell_type": "code",
      "source": [
        "embedding_dim = 100    # Dimensions used for glove6b100\n",
        "max_length = 20        # Maximum size of a tweet\n",
        "trunc_type='post'      # Truncates the tweet if it is longer than max_length\n",
        "padding_type='post'    # Adds padding to the end of the tweet if it is shorter than max_length\n"
      ],
      "metadata": {
        "id": "JxzJNHSERvJp"
      },
      "execution_count": null,
      "outputs": []
    },
    {
      "cell_type": "code",
      "source": [
        "training_data = pd.read_csv('/content/drive/MyDrive/NLP_4A/Projet/cleaned_data.csv')\n",
        "tokenizer = Tokenizer()\n",
        "tokenizer.fit_on_texts([*training_data['comment_text']])\n",
        "word_index = tokenizer.word_index\n",
        "vocab_size=len(word_index)"
      ],
      "metadata": {
        "id": "rYGeAcxqSvXT"
      },
      "execution_count": null,
      "outputs": []
    },
    {
      "cell_type": "markdown",
      "source": [
        "Ensuite on redéfinit la matrice des poids"
      ],
      "metadata": {
        "id": "n3WbM_sHUohN"
      }
    },
    {
      "cell_type": "code",
      "source": [
        "training_labels = np.array([*training_data.drop(['comment_text'],axis=1).values])\n",
        "class_weights = np.sum(training_labels, axis=0)/training_labels.shape[0]\n",
        "class_weights = min(class_weights)/class_weights"
      ],
      "metadata": {
        "id": "jIgiDYABUohN"
      },
      "execution_count": null,
      "outputs": []
    },
    {
      "cell_type": "markdown",
      "source": [
        "Puis on redéfinit la matrice d'embedding"
      ],
      "metadata": {
        "id": "oecR-vYVUohN"
      }
    },
    {
      "cell_type": "code",
      "source": [
        "embeddings_index = {};\n",
        "\n",
        "with open('/content/drive/MyDrive/NLP_4A/Projet/glove.6B.100d.txt') as f:\n",
        "    for line in f:\n",
        "        values = line.split();\n",
        "        word = values[0];\n",
        "        coefs = np.asarray(values[1:], dtype='float32');\n",
        "        embeddings_index[word] = coefs;\n",
        "\n",
        "embeddings_matrix = np.zeros((vocab_size+1, embedding_dim));\n",
        "for word, i in word_index.items():\n",
        "    embedding_vector = embeddings_index.get(word);\n",
        "    if embedding_vector is not None:\n",
        "        embeddings_matrix[i] = embedding_vector;"
      ],
      "metadata": {
        "id": "lvBZb5A6UohO"
      },
      "execution_count": null,
      "outputs": []
    },
    {
      "cell_type": "markdown",
      "source": [
        "Enfin, on peut recharger modèle que l'on juge le meilleur:"
      ],
      "metadata": {
        "id": "7OQHQxOIP8ap"
      }
    },
    {
      "cell_type": "code",
      "source": [
        "model = Sequential()\n",
        "model.add(Embedding(vocab_size+1, embedding_dim, weights=[embeddings_matrix], input_length=max_length))\n",
        "model.add(LSTM(units=64,  dropout = 0.5, recurrent_dropout = 0.5))\n",
        "model.add(Dense(6, activation='sigmoid'))\n",
        "\n",
        "model.load_weights('/content/drive/MyDrive/NLP_4A/Projet/Model/lstm_dropout.h5')"
      ],
      "metadata": {
        "id": "GEMGCS3yP6iP"
      },
      "execution_count": null,
      "outputs": []
    },
    {
      "cell_type": "markdown",
      "source": [
        "Ici sont défini les fonctions qui permette de faire les prédiction."
      ],
      "metadata": {
        "id": "Hwv10Xn4QDR4"
      }
    },
    {
      "cell_type": "code",
      "source": [
        "def Predict(comments):\n",
        "  # Permet de prédire l'appartenance aux différentes classes d'un ou plusieurs \n",
        "  # commentaires passer en argument sous forme de liste de liste\n",
        "  tokenizer = Tokenizer()\n",
        "  comments_sequences = tokenizer.texts_to_sequences(comments)\n",
        "  comments_padded = np.array(pad_sequences(comments_sequences, maxlen=max_length, padding=trunc_type, truncating=padding_type))\n",
        "  prediction = model.predict(comments_padded)\n",
        "\n",
        "  return prediction\n",
        "  \n",
        "  for i in range(len(comments)):\n",
        "    comments[i] = [comments[i]]\n",
        "    comments[i].extend(prediction[i])\n",
        "  df = pd.DataFrame(data=comments, columns = ['comments', 'toxic', 'severe_toxic', 'obscene',\t'threat',\t'insult',\t'identity_hate'])\n",
        "  with pd.option_context('display.max_rows', None,\n",
        "                       'display.max_columns', None):\n",
        "    print(df)\n",
        "  return df"
      ],
      "metadata": {
        "id": "YgkPpzIzSQUi"
      },
      "execution_count": null,
      "outputs": []
    },
    {
      "cell_type": "code",
      "source": [
        "def Predict_F1score(comments, label):\n",
        "  # Calcule le f1_score sur la prédiction des classes commentaires passé en \n",
        "  # argument sous forme de liste de liste par rapport aux classes auxquelles \n",
        "  # ils appartiennent réellement ('label') passé en argument sous forme de \n",
        "  # liste de liste de même taile\n",
        "  tokenizer = Tokenizer()\n",
        "  comments_sequences = tokenizer.texts_to_sequences(comments)\n",
        "  comments_padded = np.array(pad_sequences(comments_sequences, maxlen=20, padding='post', truncating='post'))\n",
        "  if(len(comments) != len(label)):\n",
        "    print(\"Erreur, le nombre de commentaires ne correspond pas au nombre de labels\")\n",
        "    return 0\n",
        "  prediction = model.predict(comments)\n",
        "  f1_score = f1_score(prediction, label)\n",
        "  mean_f1_score = f1_score(prediction, label, average = 'weighted')\n",
        "  for i in range(len(comments)):\n",
        "    comments[i].extend(prediction[i])\n",
        "    comments[i].append(mean_f1_score[i])\n",
        "  df = pd.DataFrame(data=comments, columns = ['comments', 'toxic', 'severe_toxic', 'obscene',\t'threat',\t'insult',\t'identity_hate', 'mean_f1_score'])\n",
        "  with pd.option_context('display.max_rows', None,\n",
        "                       'display.max_columns', None):\n",
        "    print(df)\n",
        "  return df"
      ],
      "metadata": {
        "id": "WAH_BE5Xlbx1"
      },
      "execution_count": null,
      "outputs": []
    },
    {
      "cell_type": "markdown",
      "source": [
        "Puis on peut faire les prédiction ici"
      ],
      "metadata": {
        "id": "hg9l8zFRWqOD"
      }
    },
    {
      "cell_type": "code",
      "source": [
        "Predict([['you are a cunt'], ['you were the chosen one'], ['go fuck yourself you gay bastard'], ['i will kill you']])"
      ],
      "metadata": {
        "colab": {
          "base_uri": "https://localhost:8080/"
        },
        "id": "nBeSifqsWo-P",
        "outputId": "bee76bd5-2071-4396-fdbd-fb3ef3a36685"
      },
      "execution_count": null,
      "outputs": [
        {
          "output_type": "stream",
          "name": "stdout",
          "text": [
            "1/1 [==============================] - 0s 26ms/step\n"
          ]
        },
        {
          "output_type": "execute_result",
          "data": {
            "text/plain": [
              "array([[0.04335314, 0.00117199, 0.01166145, 0.00142623, 0.00915344,\n",
              "        0.00187632],\n",
              "       [0.04335314, 0.00117199, 0.01166145, 0.00142623, 0.00915344,\n",
              "        0.00187632],\n",
              "       [0.04335314, 0.00117199, 0.01166145, 0.00142623, 0.00915344,\n",
              "        0.00187632],\n",
              "       [0.04335314, 0.00117199, 0.01166145, 0.00142623, 0.00915344,\n",
              "        0.00187632]], dtype=float32)"
            ]
          },
          "metadata": {},
          "execution_count": 23
        }
      ]
    },
    {
      "cell_type": "code",
      "source": [
        "# Essayer votre prédiction ici"
      ],
      "metadata": {
        "id": "--lS5zo0nF4n"
      },
      "execution_count": null,
      "outputs": []
    }
  ]
}